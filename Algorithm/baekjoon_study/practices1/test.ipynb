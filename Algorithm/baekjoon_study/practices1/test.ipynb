{
 "cells": [
  {
   "cell_type": "code",
   "execution_count": 25,
   "metadata": {
    "collapsed": true
   },
   "outputs": [],
   "source": [
    "import sys\n",
    "\n"
   ]
  },
  {
   "cell_type": "code",
   "execution_count": 26,
   "outputs": [],
   "source": [
    "def func():\n",
    "    dp = [[0 for _ in range(K+1)] for _ in range(N+1)]\n",
    "    for i in range(1, N+1):\n",
    "        for j in range(1, K+1):\n",
    "            if j >= value[i]:\n",
    "                dp[i][j] = max(dp[i-1][j], value[i] + dp[i-1][j-value[i]])\n",
    "\n",
    "    print(dp[N][K])\n",
    "    return print(dp[N][K])"
   ],
   "metadata": {
    "collapsed": false,
    "pycharm": {
     "name": "#%%\n"
    }
   }
  },
  {
   "cell_type": "code",
   "execution_count": 27,
   "outputs": [
    {
     "name": "stdout",
     "output_type": "stream",
     "text": [
      "8\n",
      "8\n"
     ]
    }
   ],
   "source": [
    "if __name__ == \"__main__\":\n",
    "    # N, K = map(int, sys.stdin.readline().split())\n",
    "    # value = [0]\n",
    "    # for _ in range(N):\n",
    "    #     value.append(int(sys.stdin.readline().strip()))\n",
    "    N, K = 3, 10\n",
    "    value = [0, 1, 2, 5]\n",
    "    func()"
   ],
   "metadata": {
    "collapsed": false,
    "pycharm": {
     "name": "#%%\n"
    }
   }
  },
  {
   "cell_type": "code",
   "execution_count": 27,
   "outputs": [],
   "source": [],
   "metadata": {
    "collapsed": false,
    "pycharm": {
     "name": "#%%\n"
    }
   }
  }
 ],
 "metadata": {
  "kernelspec": {
   "display_name": "Python 3",
   "language": "python",
   "name": "python3"
  },
  "language_info": {
   "codemirror_mode": {
    "name": "ipython",
    "version": 2
   },
   "file_extension": ".py",
   "mimetype": "text/x-python",
   "name": "python",
   "nbconvert_exporter": "python",
   "pygments_lexer": "ipython2",
   "version": "2.7.6"
  }
 },
 "nbformat": 4,
 "nbformat_minor": 0
}