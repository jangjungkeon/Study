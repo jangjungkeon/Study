{
 "cells": [
  {
   "cell_type": "code",
   "execution_count": 4,
   "id": "49d3a272",
   "metadata": {},
   "outputs": [],
   "source": [
    "import heapq"
   ]
  },
  {
   "cell_type": "code",
   "execution_count": 5,
   "id": "d791f0a0",
   "metadata": {},
   "outputs": [],
   "source": [
    "def solution(scoville, K):\n",
    "    answer = 0\n",
    "    # 정렬\n",
    "    heapq.heapify(scoville)\n",
    "    \n",
    "    while scoville[0] < K:\n",
    "        if len(scoville) < 2:\n",
    "            return -1\n",
    "        min_value = heapq.heappop(scoville)\n",
    "        min_value2 = heapq.heappop(scoville)\n",
    "        new_value = min_value + min_value2 * 2\n",
    "        heapq.heappush(scoville, new_value)\n",
    "        answer += 1\n",
    "    return answer"
   ]
  },
  {
   "cell_type": "code",
   "execution_count": null,
   "id": "56d178e4",
   "metadata": {},
   "outputs": [],
   "source": []
  }
 ],
 "metadata": {
  "kernelspec": {
   "display_name": "PyCharm (Study)",
   "language": "python",
   "name": "pycharm-2419e99e"
  },
  "language_info": {
   "codemirror_mode": {
    "name": "ipython",
    "version": 3
   },
   "file_extension": ".py",
   "mimetype": "text/x-python",
   "name": "python",
   "nbconvert_exporter": "python",
   "pygments_lexer": "ipython3",
   "version": "3.8.2"
  }
 },
 "nbformat": 4,
 "nbformat_minor": 5
}
