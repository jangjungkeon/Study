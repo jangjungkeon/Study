{
 "cells": [
  {
   "cell_type": "markdown",
   "id": "1b864efc",
   "metadata": {},
   "source": [
    "### Random Forest 버전으로 해보기. lgbmregressor도 해보기"
   ]
  },
  {
   "cell_type": "code",
   "execution_count": 2,
   "id": "868101e2",
   "metadata": {},
   "outputs": [],
   "source": [
    "import pandas as pd\n",
    "import numpy as np\n",
    "import matplotlib.pyplot as plt\n",
    "import seaborn as sns\n",
    "\n",
    "import tensorflow as tf\n",
    "from tensorflow import keras\n",
    "from tensorflow.keras import layers\n",
    "from tensorflow.keras.callbacks import TensorBoard\n",
    "import statsmodels.formula.api as smf\n",
    "import shutil"
   ]
  },
  {
   "cell_type": "code",
   "execution_count": 3,
   "id": "e2bc8a1c",
   "metadata": {},
   "outputs": [],
   "source": [
    "%load_ext tensorboard"
   ]
  },
  {
   "cell_type": "code",
   "execution_count": 4,
   "id": "6fedc720",
   "metadata": {},
   "outputs": [
    {
     "data": {
      "text/plain": [
       "(75, 4)"
      ]
     },
     "execution_count": 4,
     "metadata": {},
     "output_type": "execute_result"
    }
   ],
   "source": [
    "train_raw_dataset = pd.read_csv(\"/Users/jk/git/Study/Data/Dacon_dataset/dacon_basic_irisdataset/iris_train.csv\")\n",
    "test_raw_dataset = pd.read_csv(\"/Users/jk/git/Study/Data/Dacon_dataset/dacon_basic_irisdataset/iris_test.csv\")\n",
    "test_raw_dataset.shape"
   ]
  },
  {
   "cell_type": "code",
   "execution_count": 5,
   "id": "167c60b0",
   "metadata": {},
   "outputs": [
    {
     "data": {
      "text/html": [
       "<div>\n",
       "<style scoped>\n",
       "    .dataframe tbody tr th:only-of-type {\n",
       "        vertical-align: middle;\n",
       "    }\n",
       "\n",
       "    .dataframe tbody tr th {\n",
       "        vertical-align: top;\n",
       "    }\n",
       "\n",
       "    .dataframe thead th {\n",
       "        text-align: right;\n",
       "    }\n",
       "</style>\n",
       "<table border=\"1\" class=\"dataframe\">\n",
       "  <thead>\n",
       "    <tr style=\"text-align: right;\">\n",
       "      <th></th>\n",
       "      <th>id</th>\n",
       "      <th>species</th>\n",
       "      <th>sepal length (cm)</th>\n",
       "      <th>petal length (cm)</th>\n",
       "    </tr>\n",
       "  </thead>\n",
       "  <tbody>\n",
       "    <tr>\n",
       "      <th>0</th>\n",
       "      <td>0</td>\n",
       "      <td>setosa</td>\n",
       "      <td>5.4</td>\n",
       "      <td>1.7</td>\n",
       "    </tr>\n",
       "    <tr>\n",
       "      <th>1</th>\n",
       "      <td>1</td>\n",
       "      <td>setosa</td>\n",
       "      <td>5.7</td>\n",
       "      <td>1.5</td>\n",
       "    </tr>\n",
       "    <tr>\n",
       "      <th>2</th>\n",
       "      <td>2</td>\n",
       "      <td>setosa</td>\n",
       "      <td>5.3</td>\n",
       "      <td>1.5</td>\n",
       "    </tr>\n",
       "    <tr>\n",
       "      <th>3</th>\n",
       "      <td>3</td>\n",
       "      <td>setosa</td>\n",
       "      <td>5.1</td>\n",
       "      <td>1.9</td>\n",
       "    </tr>\n",
       "    <tr>\n",
       "      <th>4</th>\n",
       "      <td>4</td>\n",
       "      <td>virginica</td>\n",
       "      <td>6.0</td>\n",
       "      <td>4.8</td>\n",
       "    </tr>\n",
       "  </tbody>\n",
       "</table>\n",
       "</div>"
      ],
      "text/plain": [
       "   id    species  sepal length (cm)  petal length (cm)\n",
       "0   0     setosa                5.4                1.7\n",
       "1   1     setosa                5.7                1.5\n",
       "2   2     setosa                5.3                1.5\n",
       "3   3     setosa                5.1                1.9\n",
       "4   4  virginica                6.0                4.8"
      ]
     },
     "execution_count": 5,
     "metadata": {},
     "output_type": "execute_result"
    }
   ],
   "source": [
    "test_raw_dataset.head()"
   ]
  },
  {
   "cell_type": "code",
   "execution_count": 6,
   "id": "4c979e47",
   "metadata": {},
   "outputs": [
    {
     "data": {
      "text/plain": [
       "setosa        35\n",
       "virginica     20\n",
       "versicolor    20\n",
       "Name: species, dtype: int64"
      ]
     },
     "execution_count": 6,
     "metadata": {},
     "output_type": "execute_result"
    }
   ],
   "source": [
    "test_raw_dataset.species.value_counts()"
   ]
  },
  {
   "cell_type": "code",
   "execution_count": 7,
   "id": "a9a0dfe7",
   "metadata": {},
   "outputs": [
    {
     "name": "stdout",
     "output_type": "stream",
     "text": [
      "<class 'pandas.core.frame.DataFrame'>\n",
      "RangeIndex: 75 entries, 0 to 74\n",
      "Data columns (total 4 columns):\n",
      " #   Column             Non-Null Count  Dtype  \n",
      "---  ------             --------------  -----  \n",
      " 0   id                 75 non-null     int64  \n",
      " 1   species            75 non-null     object \n",
      " 2   sepal length (cm)  75 non-null     float64\n",
      " 3   petal length (cm)  75 non-null     float64\n",
      "dtypes: float64(2), int64(1), object(1)\n",
      "memory usage: 2.5+ KB\n"
     ]
    }
   ],
   "source": [
    "test_raw_dataset.info()"
   ]
  },
  {
   "cell_type": "code",
   "execution_count": 8,
   "id": "347018d6",
   "metadata": {},
   "outputs": [
    {
     "data": {
      "text/plain": [
       "id                   0\n",
       "species              0\n",
       "sepal length (cm)    0\n",
       "petal length (cm)    0\n",
       "dtype: int64"
      ]
     },
     "execution_count": 8,
     "metadata": {},
     "output_type": "execute_result"
    }
   ],
   "source": [
    "test_raw_dataset.isnull().sum()"
   ]
  },
  {
   "cell_type": "code",
   "execution_count": 9,
   "id": "54343252",
   "metadata": {
    "scrolled": true
   },
   "outputs": [
    {
     "name": "stdout",
     "output_type": "stream",
     "text": [
      "<class 'pandas.core.frame.DataFrame'>\n",
      "RangeIndex: 75 entries, 0 to 74\n",
      "Data columns (total 5 columns):\n",
      " #   Column             Non-Null Count  Dtype  \n",
      "---  ------             --------------  -----  \n",
      " 0   species            75 non-null     object \n",
      " 1   sepal length (cm)  75 non-null     float64\n",
      " 2   petal length (cm)  75 non-null     float64\n",
      " 3   sepal width (cm)   75 non-null     float64\n",
      " 4   petal width (cm)   75 non-null     float64\n",
      "dtypes: float64(4), object(1)\n",
      "memory usage: 3.1+ KB\n"
     ]
    }
   ],
   "source": [
    "train_raw_dataset = train_raw_dataset.drop(\"id\", axis=1)\n",
    "test_raw_dataset = test_raw_dataset.drop(\"id\", axis=1)\n",
    "train_raw_dataset.info()"
   ]
  },
  {
   "cell_type": "code",
   "execution_count": 10,
   "id": "bdb5f83d",
   "metadata": {
    "scrolled": true
   },
   "outputs": [
    {
     "data": {
      "image/png": "[encoded data removed]",
      "text/plain": [
       "<Figure size 1296x360 with 4 Axes>"
      ]
     },
     "metadata": {
      "needs_background": "light"
     },
     "output_type": "display_data"
    }
   ],
   "source": [
    "fig, ax = plt.subplots(2, 2, figsize=(18, 5))\n",
    "col = ['sepal length (cm)', 'petal length (cm)', 'sepal width (cm)',\n",
    "       'petal width (cm)']\n",
    "\n",
    "for idx, name in enumerate(col):\n",
    "    i = idx // 2\n",
    "    j = idx % 2\n",
    "    sns.boxplot(x=\"species\", y=name, data=train_raw_dataset, ax=ax[i][j])\n",
    "\n",
    "# 실험해 본다면 sepal length 와 width의 outlier를 제거하는 것은 어떨까? - 오히려 더 떨어짐."
   ]
  },
  {
   "cell_type": "code",
   "execution_count": 11,
   "id": "24254477",
   "metadata": {},
   "outputs": [
    {
     "data": {
      "text/html": [
       "<div>\n",
       "<style scoped>\n",
       "    .dataframe tbody tr th:only-of-type {\n",
       "        vertical-align: middle;\n",
       "    }\n",
       "\n",
       "    .dataframe tbody tr th {\n",
       "        vertical-align: top;\n",
       "    }\n",
       "\n",
       "    .dataframe thead th {\n",
       "        text-align: right;\n",
       "    }\n",
       "</style>\n",
       "<table border=\"1\" class=\"dataframe\">\n",
       "  <thead>\n",
       "    <tr style=\"text-align: right;\">\n",
       "      <th></th>\n",
       "      <th>sepal width (cm)</th>\n",
       "      <th>petal width (cm)</th>\n",
       "    </tr>\n",
       "  </thead>\n",
       "  <tbody>\n",
       "    <tr>\n",
       "      <th>0</th>\n",
       "      <td>2.9</td>\n",
       "      <td>0.2</td>\n",
       "    </tr>\n",
       "    <tr>\n",
       "      <th>1</th>\n",
       "      <td>3.2</td>\n",
       "      <td>1.5</td>\n",
       "    </tr>\n",
       "    <tr>\n",
       "      <th>2</th>\n",
       "      <td>2.8</td>\n",
       "      <td>1.8</td>\n",
       "    </tr>\n",
       "    <tr>\n",
       "      <th>3</th>\n",
       "      <td>3.6</td>\n",
       "      <td>2.5</td>\n",
       "    </tr>\n",
       "    <tr>\n",
       "      <th>4</th>\n",
       "      <td>3.0</td>\n",
       "      <td>0.2</td>\n",
       "    </tr>\n",
       "  </tbody>\n",
       "</table>\n",
       "</div>"
      ],
      "text/plain": [
       "   sepal width (cm)  petal width (cm)\n",
       "0               2.9               0.2\n",
       "1               3.2               1.5\n",
       "2               2.8               1.8\n",
       "3               3.6               2.5\n",
       "4               3.0               0.2"
      ]
     },
     "execution_count": 11,
     "metadata": {},
     "output_type": "execute_result"
    }
   ],
   "source": [
    "# 라벨 구분\n",
    "LABEL = ['sepal width (cm)', 'petal width (cm)']\n",
    "X_train = train_raw_dataset.copy()\n",
    "X_train = X_train.drop(LABEL, axis=1)\n",
    "y_train = train_raw_dataset[LABEL]\n",
    "y_train.head()\n",
    "\n",
    "# X_train, y_train = train_raw_dataset[0~1:1~2] 이런식으로 하는 방법은 없을까?\n",
    "\n",
    "\n"
   ]
  },
  {
   "cell_type": "code",
   "execution_count": 12,
   "id": "1564fadd",
   "metadata": {
    "scrolled": false
   },
   "outputs": [
    {
     "data": {
      "text/html": [
       "<div>\n",
       "<style scoped>\n",
       "    .dataframe tbody tr th:only-of-type {\n",
       "        vertical-align: middle;\n",
       "    }\n",
       "\n",
       "    .dataframe tbody tr th {\n",
       "        vertical-align: top;\n",
       "    }\n",
       "\n",
       "    .dataframe thead th {\n",
       "        text-align: right;\n",
       "    }\n",
       "</style>\n",
       "<table border=\"1\" class=\"dataframe\">\n",
       "  <thead>\n",
       "    <tr style=\"text-align: right;\">\n",
       "      <th></th>\n",
       "      <th>species</th>\n",
       "      <th>sepal length (cm)</th>\n",
       "      <th>petal length (cm)</th>\n",
       "    </tr>\n",
       "  </thead>\n",
       "  <tbody>\n",
       "    <tr>\n",
       "      <th>0</th>\n",
       "      <td>1</td>\n",
       "      <td>5.4</td>\n",
       "      <td>1.7</td>\n",
       "    </tr>\n",
       "    <tr>\n",
       "      <th>1</th>\n",
       "      <td>1</td>\n",
       "      <td>5.7</td>\n",
       "      <td>1.5</td>\n",
       "    </tr>\n",
       "    <tr>\n",
       "      <th>2</th>\n",
       "      <td>1</td>\n",
       "      <td>5.3</td>\n",
       "      <td>1.5</td>\n",
       "    </tr>\n",
       "    <tr>\n",
       "      <th>3</th>\n",
       "      <td>1</td>\n",
       "      <td>5.1</td>\n",
       "      <td>1.9</td>\n",
       "    </tr>\n",
       "    <tr>\n",
       "      <th>4</th>\n",
       "      <td>3</td>\n",
       "      <td>6.0</td>\n",
       "      <td>4.8</td>\n",
       "    </tr>\n",
       "  </tbody>\n",
       "</table>\n",
       "</div>"
      ],
      "text/plain": [
       "   species  sepal length (cm)  petal length (cm)\n",
       "0        1                5.4                1.7\n",
       "1        1                5.7                1.5\n",
       "2        1                5.3                1.5\n",
       "3        1                5.1                1.9\n",
       "4        3                6.0                4.8"
      ]
     },
     "execution_count": 12,
     "metadata": {},
     "output_type": "execute_result"
    }
   ],
   "source": [
    "# 범주형 데이터 species 처리\n",
    "col = X_train[\"species\"].unique()\n",
    "species_col = {'setosa': 1, 'versicolor': 2, 'virginica': 3}\n",
    "X_train[\"species\"] = X_train.species.map(species_col)\n",
    "test_raw_dataset[\"species\"] = test_raw_dataset[\"species\"].map(species_col)\n",
    "X_train.head()\n",
    "test_raw_dataset.head()\n",
    "\n",
    "# map 말고 apply로 적용해보는 것은 어떨까?"
   ]
  },
  {
   "cell_type": "code",
   "execution_count": 23,
   "id": "40fd7ccd",
   "metadata": {},
   "outputs": [],
   "source": []
  },
  {
   "cell_type": "code",
   "execution_count": 35,
   "id": "34be8761",
   "metadata": {},
   "outputs": [],
   "source": []
  },
  {
   "cell_type": "code",
   "execution_count": 36,
   "id": "2cc5a796",
   "metadata": {
    "scrolled": true
   },
   "outputs": [
    {
     "data": {
      "text/html": [
       "<div>\n",
       "<style scoped>\n",
       "    .dataframe tbody tr th:only-of-type {\n",
       "        vertical-align: middle;\n",
       "    }\n",
       "\n",
       "    .dataframe tbody tr th {\n",
       "        vertical-align: top;\n",
       "    }\n",
       "\n",
       "    .dataframe thead th {\n",
       "        text-align: right;\n",
       "    }\n",
       "</style>\n",
       "<table border=\"1\" class=\"dataframe\">\n",
       "  <thead>\n",
       "    <tr style=\"text-align: right;\">\n",
       "      <th></th>\n",
       "      <th>0</th>\n",
       "      <th>1</th>\n",
       "    </tr>\n",
       "  </thead>\n",
       "  <tbody>\n",
       "    <tr>\n",
       "      <th>0</th>\n",
       "      <td>3.78840</td>\n",
       "      <td>0.33230</td>\n",
       "    </tr>\n",
       "    <tr>\n",
       "      <th>1</th>\n",
       "      <td>3.78380</td>\n",
       "      <td>0.22780</td>\n",
       "    </tr>\n",
       "    <tr>\n",
       "      <th>2</th>\n",
       "      <td>3.68440</td>\n",
       "      <td>0.24100</td>\n",
       "    </tr>\n",
       "    <tr>\n",
       "      <th>3</th>\n",
       "      <td>3.55730</td>\n",
       "      <td>0.25015</td>\n",
       "    </tr>\n",
       "    <tr>\n",
       "      <th>4</th>\n",
       "      <td>2.70955</td>\n",
       "      <td>1.72125</td>\n",
       "    </tr>\n",
       "    <tr>\n",
       "      <th>...</th>\n",
       "      <td>...</td>\n",
       "      <td>...</td>\n",
       "    </tr>\n",
       "    <tr>\n",
       "      <th>70</th>\n",
       "      <td>2.53625</td>\n",
       "      <td>1.08010</td>\n",
       "    </tr>\n",
       "    <tr>\n",
       "      <th>71</th>\n",
       "      <td>3.03470</td>\n",
       "      <td>0.19500</td>\n",
       "    </tr>\n",
       "    <tr>\n",
       "      <th>72</th>\n",
       "      <td>2.94620</td>\n",
       "      <td>1.96730</td>\n",
       "    </tr>\n",
       "    <tr>\n",
       "      <th>73</th>\n",
       "      <td>2.28800</td>\n",
       "      <td>1.04650</td>\n",
       "    </tr>\n",
       "    <tr>\n",
       "      <th>74</th>\n",
       "      <td>2.75600</td>\n",
       "      <td>2.05605</td>\n",
       "    </tr>\n",
       "  </tbody>\n",
       "</table>\n",
       "<p>75 rows × 2 columns</p>\n",
       "</div>"
      ],
      "text/plain": [
       "          0        1\n",
       "0   3.78840  0.33230\n",
       "1   3.78380  0.22780\n",
       "2   3.68440  0.24100\n",
       "3   3.55730  0.25015\n",
       "4   2.70955  1.72125\n",
       "..      ...      ...\n",
       "70  2.53625  1.08010\n",
       "71  3.03470  0.19500\n",
       "72  2.94620  1.96730\n",
       "73  2.28800  1.04650\n",
       "74  2.75600  2.05605\n",
       "\n",
       "[75 rows x 2 columns]"
      ]
     },
     "execution_count": 36,
     "metadata": {},
     "output_type": "execute_result"
    }
   ],
   "source": []
  },
  {
   "cell_type": "code",
   "execution_count": 39,
   "id": "95ee10d6",
   "metadata": {
    "scrolled": true
   },
   "outputs": [],
   "source": [
    "# 제출 파일 불러서 내용 입력\n",
    "sample_submission = pd.read_csv(\"/Users/jk/git/Study/Data/Dacon_dataset/dacon_basic_irisdataset/sample_submission.csv\")\n",
    "\n",
    "# pred\n",
    "# sample_submission[\"sepal width (cm)\"] = pred[0]\n",
    "# sample_submission[\"petal width (cm)\"] = pred[1]\n",
    "\n",
    "# pred2\n",
    "sample_submission[\"sepal width (cm)\"] = pred2[0]\n",
    "sample_submission[\"petal width (cm)\"] = pred2[1]"
   ]
  },
  {
   "cell_type": "code",
   "execution_count": 40,
   "id": "9adaf9b1",
   "metadata": {},
   "outputs": [],
   "source": [
    "# 제출 파일 만들기\n",
    "sample_submission.to_csv(\"./submission/submission_tf_11.csv\", index=False)\n"
   ]
  },
  {
   "cell_type": "code",
   "execution_count": 4,
   "id": "a1664485",
   "metadata": {},
   "outputs": [
    {
     "name": "stdout",
     "output_type": "stream",
     "text": [
      "{'isSubmitted': True, 'detail': 'Success'}\n"
     ]
    }
   ],
   "source": [
    "# 7번을 넣어보자.\n",
    "from dacon_submit_api import dacon_submit_api \n",
    "\n",
    "result = dacon_submit_api.post_submission_file(\n",
    "'./submission/submission_tf_11.csv', \n",
    "'369d8186e100432064ec63e2c634a2b89a5791d577c9b056c4f5e36c999fca14', \n",
    "'235836', \n",
    "'쵸비 우승 기원', \n",
    "'multioutput randomforest')"
   ]
  },
  {
   "cell_type": "code",
   "execution_count": null,
   "id": "a062f517",
   "metadata": {},
   "outputs": [],
   "source": []
  }
 ],
 "metadata": {
  "kernelspec": {
   "display_name": "PyCharm (Study)",
   "language": "python",
   "name": "pycharm-2419e99e"
  },
  "language_info": {
   "codemirror_mode": {
    "name": "ipython",
    "version": 3
   },
   "file_extension": ".py",
   "mimetype": "text/x-python",
   "name": "python",
   "nbconvert_exporter": "python",
   "pygments_lexer": "ipython3",
   "version": "3.8.2"
  }
 },
 "nbformat": 4,
 "nbformat_minor": 5
}
