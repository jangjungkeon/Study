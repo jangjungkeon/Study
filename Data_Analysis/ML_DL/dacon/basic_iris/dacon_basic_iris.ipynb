{
 "cells": [
  {
   "cell_type": "code",
   "execution_count": 1,
   "id": "79e1d982",
   "metadata": {},
   "outputs": [],
   "source": [
    "import pandas as pd\n",
    "import numpy as np\n",
    "import matplotlib.pyplot as plt\n",
    "import seaborn as sns\n",
    "\n",
    "import tensorflow as tf\n",
    "from tensorflow import keras\n",
    "from tensorflow.keras import layers\n",
    "from tensorflow.keras.callbacks import TensorBoard\n",
    "import statsmodels.formula.api as smf\n",
    "import shutil"
   ]
  },
  {
   "cell_type": "code",
   "execution_count": 2,
   "id": "e2bc8a1c",
   "metadata": {},
   "outputs": [],
   "source": [
    "%load_ext tensorboard"
   ]
  },
  {
   "cell_type": "code",
   "execution_count": 3,
   "id": "6fedc720",
   "metadata": {},
   "outputs": [
    {
     "data": {
      "text/plain": [
       "(75, 4)"
      ]
     },
     "execution_count": 3,
     "metadata": {},
     "output_type": "execute_result"
    }
   ],
   "source": [
    "train_raw_dataset = pd.read_csv(\"/Users/jk/git/Study/Data/Dacon_dataset/dacon_basic_irisdataset/iris_train.csv\")\n",
    "test_raw_dataset = pd.read_csv(\"/Users/jk/git/Study/Data/Dacon_dataset/dacon_basic_irisdataset/iris_test.csv\")\n",
    "test_raw_dataset.shape"
   ]
  },
  {
   "cell_type": "code",
   "execution_count": 4,
   "id": "167c60b0",
   "metadata": {},
   "outputs": [
    {
     "data": {
      "text/html": [
       "<div>\n",
       "<style scoped>\n",
       "    .dataframe tbody tr th:only-of-type {\n",
       "        vertical-align: middle;\n",
       "    }\n",
       "\n",
       "    .dataframe tbody tr th {\n",
       "        vertical-align: top;\n",
       "    }\n",
       "\n",
       "    .dataframe thead th {\n",
       "        text-align: right;\n",
       "    }\n",
       "</style>\n",
       "<table border=\"1\" class=\"dataframe\">\n",
       "  <thead>\n",
       "    <tr style=\"text-align: right;\">\n",
       "      <th></th>\n",
       "      <th>id</th>\n",
       "      <th>species</th>\n",
       "      <th>sepal length (cm)</th>\n",
       "      <th>petal length (cm)</th>\n",
       "    </tr>\n",
       "  </thead>\n",
       "  <tbody>\n",
       "    <tr>\n",
       "      <th>0</th>\n",
       "      <td>0</td>\n",
       "      <td>setosa</td>\n",
       "      <td>5.4</td>\n",
       "      <td>1.7</td>\n",
       "    </tr>\n",
       "    <tr>\n",
       "      <th>1</th>\n",
       "      <td>1</td>\n",
       "      <td>setosa</td>\n",
       "      <td>5.7</td>\n",
       "      <td>1.5</td>\n",
       "    </tr>\n",
       "    <tr>\n",
       "      <th>2</th>\n",
       "      <td>2</td>\n",
       "      <td>setosa</td>\n",
       "      <td>5.3</td>\n",
       "      <td>1.5</td>\n",
       "    </tr>\n",
       "    <tr>\n",
       "      <th>3</th>\n",
       "      <td>3</td>\n",
       "      <td>setosa</td>\n",
       "      <td>5.1</td>\n",
       "      <td>1.9</td>\n",
       "    </tr>\n",
       "    <tr>\n",
       "      <th>4</th>\n",
       "      <td>4</td>\n",
       "      <td>virginica</td>\n",
       "      <td>6.0</td>\n",
       "      <td>4.8</td>\n",
       "    </tr>\n",
       "  </tbody>\n",
       "</table>\n",
       "</div>"
      ],
      "text/plain": [
       "   id    species  sepal length (cm)  petal length (cm)\n",
       "0   0     setosa                5.4                1.7\n",
       "1   1     setosa                5.7                1.5\n",
       "2   2     setosa                5.3                1.5\n",
       "3   3     setosa                5.1                1.9\n",
       "4   4  virginica                6.0                4.8"
      ]
     },
     "execution_count": 4,
     "metadata": {},
     "output_type": "execute_result"
    }
   ],
   "source": [
    "test_raw_dataset.head()"
   ]
  },
  {
   "cell_type": "code",
   "execution_count": 5,
   "id": "4c979e47",
   "metadata": {},
   "outputs": [
    {
     "data": {
      "text/plain": [
       "setosa        35\n",
       "virginica     20\n",
       "versicolor    20\n",
       "Name: species, dtype: int64"
      ]
     },
     "execution_count": 5,
     "metadata": {},
     "output_type": "execute_result"
    }
   ],
   "source": [
    "test_raw_dataset.species.value_counts()"
   ]
  },
  {
   "cell_type": "code",
   "execution_count": 6,
   "id": "a9a0dfe7",
   "metadata": {},
   "outputs": [
    {
     "name": "stdout",
     "output_type": "stream",
     "text": [
      "<class 'pandas.core.frame.DataFrame'>\n",
      "RangeIndex: 75 entries, 0 to 74\n",
      "Data columns (total 4 columns):\n",
      " #   Column             Non-Null Count  Dtype  \n",
      "---  ------             --------------  -----  \n",
      " 0   id                 75 non-null     int64  \n",
      " 1   species            75 non-null     object \n",
      " 2   sepal length (cm)  75 non-null     float64\n",
      " 3   petal length (cm)  75 non-null     float64\n",
      "dtypes: float64(2), int64(1), object(1)\n",
      "memory usage: 2.5+ KB\n"
     ]
    }
   ],
   "source": [
    "test_raw_dataset.info()"
   ]
  },
  {
   "cell_type": "code",
   "execution_count": 7,
   "id": "347018d6",
   "metadata": {},
   "outputs": [
    {
     "data": {
      "text/plain": [
       "id                   0\n",
       "species              0\n",
       "sepal length (cm)    0\n",
       "petal length (cm)    0\n",
       "dtype: int64"
      ]
     },
     "execution_count": 7,
     "metadata": {},
     "output_type": "execute_result"
    }
   ],
   "source": [
    "test_raw_dataset.isnull().sum()"
   ]
  },
  {
   "cell_type": "code",
   "execution_count": 8,
   "id": "54343252",
   "metadata": {},
   "outputs": [
    {
     "name": "stdout",
     "output_type": "stream",
     "text": [
      "<class 'pandas.core.frame.DataFrame'>\n",
      "RangeIndex: 75 entries, 0 to 74\n",
      "Data columns (total 5 columns):\n",
      " #   Column             Non-Null Count  Dtype  \n",
      "---  ------             --------------  -----  \n",
      " 0   species            75 non-null     object \n",
      " 1   sepal length (cm)  75 non-null     float64\n",
      " 2   petal length (cm)  75 non-null     float64\n",
      " 3   sepal width (cm)   75 non-null     float64\n",
      " 4   petal width (cm)   75 non-null     float64\n",
      "dtypes: float64(4), object(1)\n",
      "memory usage: 3.1+ KB\n"
     ]
    }
   ],
   "source": [
    "train_raw_dataset = train_raw_dataset.drop(\"id\", axis=1)\n",
    "test_raw_dataset = test_raw_dataset.drop(\"id\", axis=1)\n",
    "train_raw_dataset.info()"
   ]
  },
  {
   "cell_type": "code",
   "execution_count": 11,
   "id": "bdb5f83d",
   "metadata": {
    "scrolled": true
   },
   "outputs": [
    {
     "data": {
      "image/png": "[encoded data removed]",
      "text/plain": [
       "<Figure size 1296x360 with 4 Axes>"
      ]
     },
     "metadata": {
      "needs_background": "light"
     },
     "output_type": "display_data"
    }
   ],
   "source": [
    "fig, ax = plt.subplots(2, 2, figsize=(18, 5))\n",
    "col = ['sepal length (cm)', 'petal length (cm)', 'sepal width (cm)',\n",
    "       'petal width (cm)']\n",
    "\n",
    "for idx, name in enumerate(col):\n",
    "    i = idx // 2\n",
    "    j = idx % 2\n",
    "    sns.boxplot(x=\"species\", y=name, data=train_raw_dataset, ax=ax[i][j])\n",
    "\n",
    "# 실험해 본다면 sepal length 와 width의 outlier를 제거하는 것은 어떨까?"
   ]
  },
  {
   "cell_type": "code",
   "execution_count": 12,
   "id": "8fd47c6a",
   "metadata": {},
   "outputs": [
    {
     "data": {
      "text/html": [
       "<div>\n",
       "<style scoped>\n",
       "    .dataframe tbody tr th:only-of-type {\n",
       "        vertical-align: middle;\n",
       "    }\n",
       "\n",
       "    .dataframe tbody tr th {\n",
       "        vertical-align: top;\n",
       "    }\n",
       "\n",
       "    .dataframe thead th {\n",
       "        text-align: right;\n",
       "    }\n",
       "</style>\n",
       "<table border=\"1\" class=\"dataframe\">\n",
       "  <thead>\n",
       "    <tr style=\"text-align: right;\">\n",
       "      <th></th>\n",
       "      <th>sepal width (cm)</th>\n",
       "      <th>petal width (cm)</th>\n",
       "    </tr>\n",
       "  </thead>\n",
       "  <tbody>\n",
       "    <tr>\n",
       "      <th>0</th>\n",
       "      <td>2.9</td>\n",
       "      <td>0.2</td>\n",
       "    </tr>\n",
       "    <tr>\n",
       "      <th>1</th>\n",
       "      <td>3.2</td>\n",
       "      <td>1.5</td>\n",
       "    </tr>\n",
       "    <tr>\n",
       "      <th>2</th>\n",
       "      <td>2.8</td>\n",
       "      <td>1.8</td>\n",
       "    </tr>\n",
       "    <tr>\n",
       "      <th>3</th>\n",
       "      <td>3.6</td>\n",
       "      <td>2.5</td>\n",
       "    </tr>\n",
       "    <tr>\n",
       "      <th>4</th>\n",
       "      <td>3.0</td>\n",
       "      <td>0.2</td>\n",
       "    </tr>\n",
       "  </tbody>\n",
       "</table>\n",
       "</div>"
      ],
      "text/plain": [
       "   sepal width (cm)  petal width (cm)\n",
       "0               2.9               0.2\n",
       "1               3.2               1.5\n",
       "2               2.8               1.8\n",
       "3               3.6               2.5\n",
       "4               3.0               0.2"
      ]
     },
     "execution_count": 12,
     "metadata": {},
     "output_type": "execute_result"
    }
   ],
   "source": [
    "# 라벨 구분\n",
    "LABEL = ['sepal width (cm)', 'petal width (cm)']\n",
    "X_train = train_raw_dataset.copy()\n",
    "X_train = X_train.drop(LABEL, axis=1)\n",
    "y_train = train_raw_dataset[LABEL]\n",
    "y_train.head()\n",
    "\n",
    "# X_train, y_train = train_raw_dataset[0~1:1~2] 이런식으로 하는 방법은 없을까?\n"
   ]
  },
  {
   "cell_type": "code",
   "execution_count": 13,
   "id": "1564fadd",
   "metadata": {
    "scrolled": true
   },
   "outputs": [
    {
     "data": {
      "text/html": [
       "<div>\n",
       "<style scoped>\n",
       "    .dataframe tbody tr th:only-of-type {\n",
       "        vertical-align: middle;\n",
       "    }\n",
       "\n",
       "    .dataframe tbody tr th {\n",
       "        vertical-align: top;\n",
       "    }\n",
       "\n",
       "    .dataframe thead th {\n",
       "        text-align: right;\n",
       "    }\n",
       "</style>\n",
       "<table border=\"1\" class=\"dataframe\">\n",
       "  <thead>\n",
       "    <tr style=\"text-align: right;\">\n",
       "      <th></th>\n",
       "      <th>species</th>\n",
       "      <th>sepal length (cm)</th>\n",
       "      <th>petal length (cm)</th>\n",
       "    </tr>\n",
       "  </thead>\n",
       "  <tbody>\n",
       "    <tr>\n",
       "      <th>0</th>\n",
       "      <td>1</td>\n",
       "      <td>5.4</td>\n",
       "      <td>1.7</td>\n",
       "    </tr>\n",
       "    <tr>\n",
       "      <th>1</th>\n",
       "      <td>1</td>\n",
       "      <td>5.7</td>\n",
       "      <td>1.5</td>\n",
       "    </tr>\n",
       "    <tr>\n",
       "      <th>2</th>\n",
       "      <td>1</td>\n",
       "      <td>5.3</td>\n",
       "      <td>1.5</td>\n",
       "    </tr>\n",
       "    <tr>\n",
       "      <th>3</th>\n",
       "      <td>1</td>\n",
       "      <td>5.1</td>\n",
       "      <td>1.9</td>\n",
       "    </tr>\n",
       "    <tr>\n",
       "      <th>4</th>\n",
       "      <td>3</td>\n",
       "      <td>6.0</td>\n",
       "      <td>4.8</td>\n",
       "    </tr>\n",
       "  </tbody>\n",
       "</table>\n",
       "</div>"
      ],
      "text/plain": [
       "   species  sepal length (cm)  petal length (cm)\n",
       "0        1                5.4                1.7\n",
       "1        1                5.7                1.5\n",
       "2        1                5.3                1.5\n",
       "3        1                5.1                1.9\n",
       "4        3                6.0                4.8"
      ]
     },
     "execution_count": 13,
     "metadata": {},
     "output_type": "execute_result"
    }
   ],
   "source": [
    "# 범주형 데이터 species 처리\n",
    "col = X_train[\"species\"].unique()\n",
    "species_col = {'setosa': 1, 'versicolor': 2, 'virginica': 3}\n",
    "X_train[\"species\"] = X_train.species.map(species_col)\n",
    "test_raw_dataset[\"species\"] = test_raw_dataset[\"species\"].map(species_col)\n",
    "X_train.head()\n",
    "test_raw_dataset.head()\n",
    "\n",
    "# map 말고 apply로 적용해보는 것은 어떨까?"
   ]
  },
  {
   "cell_type": "code",
   "execution_count": 14,
   "id": "4afb3122",
   "metadata": {},
   "outputs": [],
   "source": [
    "## input 데이터 만들기\n",
    "# inputs = {col_name : keras.Input(name=col_name, shape=(), dtype=\"float32\") for col_name in col_names}\n",
    "input_dim = X_train.shape[1]\n",
    "inputs = keras.layers.Input(shape=(input_dim, ))\n",
    "\n",
    "# tf.dataset 형식으로 만들어보는 것은 어떨까?"
   ]
  },
  {
   "cell_type": "code",
   "execution_count": 16,
   "id": "17ae91df",
   "metadata": {},
   "outputs": [],
   "source": [
    "# 모델 만들기\n",
    "def build_model(inputs):\n",
    "    layers = keras.layers.Dense(36, activation=\"relu\")(inputs)\n",
    "    layers = keras.layers.Dense(18, activation=\"relu\")(layers)\n",
    "    layers = keras.layers.Dense(9, activation=\"relu\")(layers)\n",
    "    layers = keras.layers.Dense(4, activation=\"relu\")(layers)\n",
    "    \n",
    "    output_sw = keras.layers.Dense(1, name=\"prd_sepal_width\")(layers)\n",
    "    output_pw = keras.layers.Dense(1, name=\"prd_petal_width\")(layers)\n",
    "    outputs = [output_sw, output_pw]\n",
    "    \n",
    "    model = keras.models.Model(inputs, outputs)\n",
    "    model.compile(optimizer=\"adam\", loss=\"mse\", metrics=[\"mse\"])\n",
    "    return model\n",
    "\n",
    "# sub class 형식으로 만들어보는 것은 어떨까?"
   ]
  },
  {
   "cell_type": "code",
   "execution_count": 17,
   "id": "99d543c5",
   "metadata": {},
   "outputs": [],
   "source": [
    "model = build_model(inputs)"
   ]
  },
  {
   "cell_type": "code",
   "execution_count": 18,
   "id": "313d58af",
   "metadata": {},
   "outputs": [
    {
     "data": {
      "image/png": "[encoded data removed]",
      "text/plain": [
       "<IPython.core.display.Image object>"
      ]
     },
     "execution_count": 18,
     "metadata": {},
     "output_type": "execute_result"
    }
   ],
   "source": [
    "keras.utils.plot_model(model, show_shapes=False, rankdir=\"LR\")"
   ]
  },
  {
   "cell_type": "code",
   "execution_count": 19,
   "id": "88991225",
   "metadata": {},
   "outputs": [
    {
     "name": "stdout",
     "output_type": "stream",
     "text": [
      "Epoch 1/100\n",
      "5/5 [==============================] - 1s 10ms/step - loss: 8.7337 - prd_sepal_width_loss: 5.7278 - prd_petal_width_loss: 3.0059 - prd_sepal_width_mse: 5.7278 - prd_petal_width_mse: 3.0059\n",
      "Epoch 2/100\n",
      "5/5 [==============================] - 0s 1ms/step - loss: 7.0903 - prd_sepal_width_loss: 4.4121 - prd_petal_width_loss: 2.6782 - prd_sepal_width_mse: 4.4121 - prd_petal_width_mse: 2.6782\n",
      "Epoch 3/100\n",
      "5/5 [==============================] - 0s 1ms/step - loss: 5.3857 - prd_sepal_width_loss: 3.0949 - prd_petal_width_loss: 2.2908 - prd_sepal_width_mse: 3.0949 - prd_petal_width_mse: 2.2908\n",
      "Epoch 4/100\n",
      "5/5 [==============================] - 0s 2ms/step - loss: 3.8322 - prd_sepal_width_loss: 1.9555 - prd_petal_width_loss: 1.8767 - prd_sepal_width_mse: 1.9555 - prd_petal_width_mse: 1.8767\n",
      "Epoch 5/100\n",
      "5/5 [==============================] - 0s 1ms/step - loss: 2.5911 - prd_sepal_width_loss: 1.1559 - prd_petal_width_loss: 1.4353 - prd_sepal_width_mse: 1.1559 - prd_petal_width_mse: 1.4353\n",
      "Epoch 6/100\n",
      "5/5 [==============================] - 0s 1ms/step - loss: 1.7335 - prd_sepal_width_loss: 0.7438 - prd_petal_width_loss: 0.9897 - prd_sepal_width_mse: 0.7438 - prd_petal_width_mse: 0.9897\n",
      "Epoch 7/100\n",
      "5/5 [==============================] - 0s 1ms/step - loss: 1.3336 - prd_sepal_width_loss: 0.7029 - prd_petal_width_loss: 0.6307 - prd_sepal_width_mse: 0.7029 - prd_petal_width_mse: 0.6307\n",
      "Epoch 8/100\n",
      "5/5 [==============================] - 0s 1ms/step - loss: 1.1799 - prd_sepal_width_loss: 0.7764 - prd_petal_width_loss: 0.4035 - prd_sepal_width_mse: 0.7764 - prd_petal_width_mse: 0.4035\n",
      "Epoch 9/100\n",
      "5/5 [==============================] - 0s 2ms/step - loss: 1.0706 - prd_sepal_width_loss: 0.7705 - prd_petal_width_loss: 0.3002 - prd_sepal_width_mse: 0.7705 - prd_petal_width_mse: 0.3002\n",
      "Epoch 10/100\n",
      "5/5 [==============================] - 0s 1ms/step - loss: 0.9532 - prd_sepal_width_loss: 0.6869 - prd_petal_width_loss: 0.2663 - prd_sepal_width_mse: 0.6869 - prd_petal_width_mse: 0.2663\n",
      "Epoch 11/100\n",
      "5/5 [==============================] - 0s 1ms/step - loss: 0.8565 - prd_sepal_width_loss: 0.6067 - prd_petal_width_loss: 0.2498 - prd_sepal_width_mse: 0.6067 - prd_petal_width_mse: 0.2498\n",
      "Epoch 12/100\n",
      "5/5 [==============================] - 0s 2ms/step - loss: 0.8216 - prd_sepal_width_loss: 0.5818 - prd_petal_width_loss: 0.2398 - prd_sepal_width_mse: 0.5818 - prd_petal_width_mse: 0.2398\n",
      "Epoch 13/100\n",
      "5/5 [==============================] - 0s 1ms/step - loss: 0.7985 - prd_sepal_width_loss: 0.5627 - prd_petal_width_loss: 0.2358 - prd_sepal_width_mse: 0.5627 - prd_petal_width_mse: 0.2358\n",
      "Epoch 14/100\n",
      "5/5 [==============================] - 0s 1ms/step - loss: 0.7821 - prd_sepal_width_loss: 0.5435 - prd_petal_width_loss: 0.2386 - prd_sepal_width_mse: 0.5435 - prd_petal_width_mse: 0.2386\n",
      "Epoch 15/100\n",
      "5/5 [==============================] - 0s 2ms/step - loss: 0.7636 - prd_sepal_width_loss: 0.5237 - prd_petal_width_loss: 0.2399 - prd_sepal_width_mse: 0.5237 - prd_petal_width_mse: 0.2399\n",
      "Epoch 16/100\n",
      "5/5 [==============================] - 0s 1ms/step - loss: 0.7519 - prd_sepal_width_loss: 0.5105 - prd_petal_width_loss: 0.2413 - prd_sepal_width_mse: 0.5105 - prd_petal_width_mse: 0.2413\n",
      "Epoch 17/100\n",
      "5/5 [==============================] - 0s 1ms/step - loss: 0.7320 - prd_sepal_width_loss: 0.4910 - prd_petal_width_loss: 0.2409 - prd_sepal_width_mse: 0.4910 - prd_petal_width_mse: 0.2409\n",
      "Epoch 18/100\n",
      "5/5 [==============================] - 0s 2ms/step - loss: 0.7175 - prd_sepal_width_loss: 0.4801 - prd_petal_width_loss: 0.2374 - prd_sepal_width_mse: 0.4801 - prd_petal_width_mse: 0.2374\n",
      "Epoch 19/100\n",
      "5/5 [==============================] - 0s 1ms/step - loss: 0.6994 - prd_sepal_width_loss: 0.4694 - prd_petal_width_loss: 0.2300 - prd_sepal_width_mse: 0.4694 - prd_petal_width_mse: 0.2300\n",
      "Epoch 20/100\n",
      "5/5 [==============================] - 0s 1ms/step - loss: 0.6811 - prd_sepal_width_loss: 0.4589 - prd_petal_width_loss: 0.2222 - prd_sepal_width_mse: 0.4589 - prd_petal_width_mse: 0.2222\n",
      "Epoch 21/100\n",
      "5/5 [==============================] - 0s 2ms/step - loss: 0.6615 - prd_sepal_width_loss: 0.4504 - prd_petal_width_loss: 0.2111 - prd_sepal_width_mse: 0.4504 - prd_petal_width_mse: 0.2111\n",
      "Epoch 22/100\n",
      "5/5 [==============================] - 0s 1ms/step - loss: 0.6455 - prd_sepal_width_loss: 0.4446 - prd_petal_width_loss: 0.2009 - prd_sepal_width_mse: 0.4446 - prd_petal_width_mse: 0.2009\n",
      "Epoch 23/100\n",
      "5/5 [==============================] - 0s 1ms/step - loss: 0.6126 - prd_sepal_width_loss: 0.4300 - prd_petal_width_loss: 0.1826 - prd_sepal_width_mse: 0.4300 - prd_petal_width_mse: 0.1826\n",
      "Epoch 24/100\n",
      "5/5 [==============================] - 0s 2ms/step - loss: 0.5816 - prd_sepal_width_loss: 0.4214 - prd_petal_width_loss: 0.1602 - prd_sepal_width_mse: 0.4214 - prd_petal_width_mse: 0.1602\n",
      "Epoch 25/100\n",
      "5/5 [==============================] - 0s 1ms/step - loss: 0.5611 - prd_sepal_width_loss: 0.3993 - prd_petal_width_loss: 0.1619 - prd_sepal_width_mse: 0.3993 - prd_petal_width_mse: 0.1619\n",
      "Epoch 26/100\n",
      "5/5 [==============================] - 0s 1ms/step - loss: 0.5270 - prd_sepal_width_loss: 0.3637 - prd_petal_width_loss: 0.1633 - prd_sepal_width_mse: 0.3637 - prd_petal_width_mse: 0.1633\n",
      "Epoch 27/100\n",
      "5/5 [==============================] - 0s 2ms/step - loss: 0.5043 - prd_sepal_width_loss: 0.3379 - prd_petal_width_loss: 0.1664 - prd_sepal_width_mse: 0.3379 - prd_petal_width_mse: 0.1664\n",
      "Epoch 28/100\n",
      "5/5 [==============================] - 0s 1ms/step - loss: 0.4740 - prd_sepal_width_loss: 0.3047 - prd_petal_width_loss: 0.1693 - prd_sepal_width_mse: 0.3047 - prd_petal_width_mse: 0.1693\n",
      "Epoch 29/100\n",
      "5/5 [==============================] - 0s 2ms/step - loss: 0.4460 - prd_sepal_width_loss: 0.2737 - prd_petal_width_loss: 0.1723 - prd_sepal_width_mse: 0.2737 - prd_petal_width_mse: 0.1723\n",
      "Epoch 30/100\n",
      "5/5 [==============================] - 0s 2ms/step - loss: 0.4236 - prd_sepal_width_loss: 0.2511 - prd_petal_width_loss: 0.1725 - prd_sepal_width_mse: 0.2511 - prd_petal_width_mse: 0.1725\n",
      "Epoch 31/100\n",
      "5/5 [==============================] - 0s 1ms/step - loss: 0.3973 - prd_sepal_width_loss: 0.2259 - prd_petal_width_loss: 0.1714 - prd_sepal_width_mse: 0.2259 - prd_petal_width_mse: 0.1714\n",
      "Epoch 32/100\n",
      "5/5 [==============================] - 0s 1ms/step - loss: 0.3723 - prd_sepal_width_loss: 0.2033 - prd_petal_width_loss: 0.1690 - prd_sepal_width_mse: 0.2033 - prd_petal_width_mse: 0.1690\n",
      "Epoch 33/100\n",
      "5/5 [==============================] - 0s 1ms/step - loss: 0.3484 - prd_sepal_width_loss: 0.1843 - prd_petal_width_loss: 0.1640 - prd_sepal_width_mse: 0.1843 - prd_petal_width_mse: 0.1640\n",
      "Epoch 34/100\n",
      "5/5 [==============================] - 0s 1ms/step - loss: 0.3200 - prd_sepal_width_loss: 0.1652 - prd_petal_width_loss: 0.1548 - prd_sepal_width_mse: 0.1652 - prd_petal_width_mse: 0.1548\n",
      "Epoch 35/100\n",
      "5/5 [==============================] - 0s 1ms/step - loss: 0.2981 - prd_sepal_width_loss: 0.1525 - prd_petal_width_loss: 0.1456 - prd_sepal_width_mse: 0.1525 - prd_petal_width_mse: 0.1456\n",
      "Epoch 36/100\n",
      "5/5 [==============================] - 0s 2ms/step - loss: 0.2802 - prd_sepal_width_loss: 0.1416 - prd_petal_width_loss: 0.1386 - prd_sepal_width_mse: 0.1416 - prd_petal_width_mse: 0.1386\n",
      "Epoch 37/100\n",
      "5/5 [==============================] - 0s 1ms/step - loss: 0.2580 - prd_sepal_width_loss: 0.1324 - prd_petal_width_loss: 0.1256 - prd_sepal_width_mse: 0.1324 - prd_petal_width_mse: 0.1256\n",
      "Epoch 38/100\n",
      "5/5 [==============================] - 0s 1ms/step - loss: 0.2403 - prd_sepal_width_loss: 0.1256 - prd_petal_width_loss: 0.1147 - prd_sepal_width_mse: 0.1256 - prd_petal_width_mse: 0.1147\n",
      "Epoch 39/100\n",
      "5/5 [==============================] - 0s 1ms/step - loss: 0.2208 - prd_sepal_width_loss: 0.1170 - prd_petal_width_loss: 0.1039 - prd_sepal_width_mse: 0.1170 - prd_petal_width_mse: 0.1039\n",
      "Epoch 40/100\n",
      "5/5 [==============================] - 0s 1ms/step - loss: 0.2041 - prd_sepal_width_loss: 0.1110 - prd_petal_width_loss: 0.0931 - prd_sepal_width_mse: 0.1110 - prd_petal_width_mse: 0.0931\n",
      "Epoch 41/100\n",
      "5/5 [==============================] - 0s 1ms/step - loss: 0.1892 - prd_sepal_width_loss: 0.1069 - prd_petal_width_loss: 0.0822 - prd_sepal_width_mse: 0.1069 - prd_petal_width_mse: 0.0822\n",
      "Epoch 42/100\n",
      "5/5 [==============================] - 0s 1ms/step - loss: 0.1774 - prd_sepal_width_loss: 0.1017 - prd_petal_width_loss: 0.0757 - prd_sepal_width_mse: 0.1017 - prd_petal_width_mse: 0.0757\n",
      "Epoch 43/100\n",
      "5/5 [==============================] - 0s 1ms/step - loss: 0.1666 - prd_sepal_width_loss: 0.0967 - prd_petal_width_loss: 0.0699 - prd_sepal_width_mse: 0.0967 - prd_petal_width_mse: 0.0699\n",
      "Epoch 44/100\n",
      "5/5 [==============================] - 0s 1ms/step - loss: 0.1558 - prd_sepal_width_loss: 0.0936 - prd_petal_width_loss: 0.0621 - prd_sepal_width_mse: 0.0936 - prd_petal_width_mse: 0.0621\n",
      "Epoch 45/100\n",
      "5/5 [==============================] - 0s 2ms/step - loss: 0.1481 - prd_sepal_width_loss: 0.0903 - prd_petal_width_loss: 0.0578 - prd_sepal_width_mse: 0.0903 - prd_petal_width_mse: 0.0578\n",
      "Epoch 46/100\n",
      "5/5 [==============================] - 0s 1ms/step - loss: 0.1420 - prd_sepal_width_loss: 0.0892 - prd_petal_width_loss: 0.0528 - prd_sepal_width_mse: 0.0892 - prd_petal_width_mse: 0.0528\n",
      "Epoch 47/100\n",
      "5/5 [==============================] - 0s 1ms/step - loss: 0.1362 - prd_sepal_width_loss: 0.0858 - prd_petal_width_loss: 0.0504 - prd_sepal_width_mse: 0.0858 - prd_petal_width_mse: 0.0504\n",
      "Epoch 48/100\n",
      "5/5 [==============================] - 0s 2ms/step - loss: 0.1319 - prd_sepal_width_loss: 0.0843 - prd_petal_width_loss: 0.0477 - prd_sepal_width_mse: 0.0843 - prd_petal_width_mse: 0.0477\n",
      "Epoch 49/100\n",
      "5/5 [==============================] - 0s 1ms/step - loss: 0.1280 - prd_sepal_width_loss: 0.0829 - prd_petal_width_loss: 0.0451 - prd_sepal_width_mse: 0.0829 - prd_petal_width_mse: 0.0451\n",
      "Epoch 50/100\n",
      "5/5 [==============================] - 0s 1ms/step - loss: 0.1251 - prd_sepal_width_loss: 0.0817 - prd_petal_width_loss: 0.0434 - prd_sepal_width_mse: 0.0817 - prd_petal_width_mse: 0.0434\n",
      "Epoch 51/100\n",
      "5/5 [==============================] - 0s 2ms/step - loss: 0.1240 - prd_sepal_width_loss: 0.0810 - prd_petal_width_loss: 0.0430 - prd_sepal_width_mse: 0.0810 - prd_petal_width_mse: 0.0430\n",
      "Epoch 52/100\n",
      "5/5 [==============================] - 0s 1ms/step - loss: 0.1220 - prd_sepal_width_loss: 0.0806 - prd_petal_width_loss: 0.0414 - prd_sepal_width_mse: 0.0806 - prd_petal_width_mse: 0.0414\n",
      "Epoch 53/100\n",
      "5/5 [==============================] - 0s 2ms/step - loss: 0.1220 - prd_sepal_width_loss: 0.0802 - prd_petal_width_loss: 0.0418 - prd_sepal_width_mse: 0.0802 - prd_petal_width_mse: 0.0418\n",
      "Epoch 54/100\n",
      "5/5 [==============================] - 0s 1ms/step - loss: 0.1194 - prd_sepal_width_loss: 0.0802 - prd_petal_width_loss: 0.0393 - prd_sepal_width_mse: 0.0802 - prd_petal_width_mse: 0.0393\n",
      "Epoch 55/100\n",
      "5/5 [==============================] - 0s 1ms/step - loss: 0.1189 - prd_sepal_width_loss: 0.0802 - prd_petal_width_loss: 0.0387 - prd_sepal_width_mse: 0.0802 - prd_petal_width_mse: 0.0387\n",
      "Epoch 56/100\n",
      "5/5 [==============================] - 0s 1ms/step - loss: 0.1190 - prd_sepal_width_loss: 0.0800 - prd_petal_width_loss: 0.0390 - prd_sepal_width_mse: 0.0800 - prd_petal_width_mse: 0.0390\n",
      "Epoch 57/100\n",
      "5/5 [==============================] - 0s 1ms/step - loss: 0.1196 - prd_sepal_width_loss: 0.0808 - prd_petal_width_loss: 0.0388 - prd_sepal_width_mse: 0.0808 - prd_petal_width_mse: 0.0388\n",
      "Epoch 58/100\n",
      "5/5 [==============================] - 0s 1ms/step - loss: 0.1218 - prd_sepal_width_loss: 0.0818 - prd_petal_width_loss: 0.0400 - prd_sepal_width_mse: 0.0818 - prd_petal_width_mse: 0.0400\n",
      "Epoch 59/100\n",
      "5/5 [==============================] - 0s 1ms/step - loss: 0.1178 - prd_sepal_width_loss: 0.0790 - prd_petal_width_loss: 0.0388 - prd_sepal_width_mse: 0.0790 - prd_petal_width_mse: 0.0388\n",
      "Epoch 60/100\n",
      "5/5 [==============================] - 0s 1ms/step - loss: 0.1153 - prd_sepal_width_loss: 0.0781 - prd_petal_width_loss: 0.0373 - prd_sepal_width_mse: 0.0781 - prd_petal_width_mse: 0.0373\n",
      "Epoch 61/100\n",
      "5/5 [==============================] - 0s 2ms/step - loss: 0.1160 - prd_sepal_width_loss: 0.0793 - prd_petal_width_loss: 0.0367 - prd_sepal_width_mse: 0.0793 - prd_petal_width_mse: 0.0367\n",
      "Epoch 62/100\n",
      "5/5 [==============================] - 0s 1ms/step - loss: 0.1158 - prd_sepal_width_loss: 0.0783 - prd_petal_width_loss: 0.0375 - prd_sepal_width_mse: 0.0783 - prd_petal_width_mse: 0.0375\n",
      "Epoch 63/100\n",
      "5/5 [==============================] - 0s 1ms/step - loss: 0.1146 - prd_sepal_width_loss: 0.0780 - prd_petal_width_loss: 0.0366 - prd_sepal_width_mse: 0.0780 - prd_petal_width_mse: 0.0366\n",
      "Epoch 64/100\n",
      "5/5 [==============================] - 0s 1ms/step - loss: 0.1138 - prd_sepal_width_loss: 0.0774 - prd_petal_width_loss: 0.0364 - prd_sepal_width_mse: 0.0774 - prd_petal_width_mse: 0.0364\n",
      "Epoch 65/100\n",
      "5/5 [==============================] - 0s 1ms/step - loss: 0.1150 - prd_sepal_width_loss: 0.0778 - prd_petal_width_loss: 0.0372 - prd_sepal_width_mse: 0.0778 - prd_petal_width_mse: 0.0372\n",
      "Epoch 66/100\n",
      "5/5 [==============================] - 0s 1ms/step - loss: 0.1134 - prd_sepal_width_loss: 0.0777 - prd_petal_width_loss: 0.0358 - prd_sepal_width_mse: 0.0777 - prd_petal_width_mse: 0.0358\n",
      "Epoch 67/100\n",
      "5/5 [==============================] - 0s 2ms/step - loss: 0.1152 - prd_sepal_width_loss: 0.0789 - prd_petal_width_loss: 0.0363 - prd_sepal_width_mse: 0.0789 - prd_petal_width_mse: 0.0363\n",
      "Epoch 68/100\n",
      "5/5 [==============================] - 0s 1ms/step - loss: 0.1128 - prd_sepal_width_loss: 0.0771 - prd_petal_width_loss: 0.0357 - prd_sepal_width_mse: 0.0771 - prd_petal_width_mse: 0.0357\n",
      "Epoch 69/100\n",
      "5/5 [==============================] - 0s 2ms/step - loss: 0.1145 - prd_sepal_width_loss: 0.0781 - prd_petal_width_loss: 0.0365 - prd_sepal_width_mse: 0.0781 - prd_petal_width_mse: 0.0365\n",
      "Epoch 70/100\n",
      "5/5 [==============================] - 0s 2ms/step - loss: 0.1154 - prd_sepal_width_loss: 0.0789 - prd_petal_width_loss: 0.0365 - prd_sepal_width_mse: 0.0789 - prd_petal_width_mse: 0.0365\n",
      "Epoch 71/100\n",
      "5/5 [==============================] - 0s 2ms/step - loss: 0.1135 - prd_sepal_width_loss: 0.0778 - prd_petal_width_loss: 0.0356 - prd_sepal_width_mse: 0.0778 - prd_petal_width_mse: 0.0356\n",
      "Epoch 72/100\n",
      "5/5 [==============================] - 0s 1ms/step - loss: 0.1148 - prd_sepal_width_loss: 0.0792 - prd_petal_width_loss: 0.0356 - prd_sepal_width_mse: 0.0792 - prd_petal_width_mse: 0.0356\n",
      "Epoch 73/100\n",
      "5/5 [==============================] - 0s 1ms/step - loss: 0.1117 - prd_sepal_width_loss: 0.0767 - prd_petal_width_loss: 0.0350 - prd_sepal_width_mse: 0.0767 - prd_petal_width_mse: 0.0350\n",
      "Epoch 74/100\n",
      "5/5 [==============================] - 0s 1ms/step - loss: 0.1113 - prd_sepal_width_loss: 0.0766 - prd_petal_width_loss: 0.0348 - prd_sepal_width_mse: 0.0766 - prd_petal_width_mse: 0.0348\n",
      "Epoch 75/100\n",
      "5/5 [==============================] - 0s 1ms/step - loss: 0.1111 - prd_sepal_width_loss: 0.0762 - prd_petal_width_loss: 0.0349 - prd_sepal_width_mse: 0.0762 - prd_petal_width_mse: 0.0349\n",
      "Epoch 76/100\n",
      "5/5 [==============================] - 0s 1ms/step - loss: 0.1108 - prd_sepal_width_loss: 0.0763 - prd_petal_width_loss: 0.0345 - prd_sepal_width_mse: 0.0763 - prd_petal_width_mse: 0.0345\n",
      "Epoch 77/100\n",
      "5/5 [==============================] - 0s 1ms/step - loss: 0.1110 - prd_sepal_width_loss: 0.0763 - prd_petal_width_loss: 0.0347 - prd_sepal_width_mse: 0.0763 - prd_petal_width_mse: 0.0347\n",
      "Epoch 78/100\n",
      "5/5 [==============================] - 0s 1ms/step - loss: 0.1113 - prd_sepal_width_loss: 0.0763 - prd_petal_width_loss: 0.0350 - prd_sepal_width_mse: 0.0763 - prd_petal_width_mse: 0.0350\n",
      "Epoch 79/100\n",
      "5/5 [==============================] - 0s 1ms/step - loss: 0.1111 - prd_sepal_width_loss: 0.0765 - prd_petal_width_loss: 0.0346 - prd_sepal_width_mse: 0.0765 - prd_petal_width_mse: 0.0346\n",
      "Epoch 80/100\n",
      "5/5 [==============================] - 0s 1ms/step - loss: 0.1105 - prd_sepal_width_loss: 0.0763 - prd_petal_width_loss: 0.0342 - prd_sepal_width_mse: 0.0763 - prd_petal_width_mse: 0.0342\n",
      "Epoch 81/100\n"
     ]
    },
    {
     "name": "stdout",
     "output_type": "stream",
     "text": [
      "5/5 [==============================] - 0s 1ms/step - loss: 0.1101 - prd_sepal_width_loss: 0.0761 - prd_petal_width_loss: 0.0339 - prd_sepal_width_mse: 0.0761 - prd_petal_width_mse: 0.0339\n",
      "Epoch 82/100\n",
      "5/5 [==============================] - 0s 1ms/step - loss: 0.1111 - prd_sepal_width_loss: 0.0773 - prd_petal_width_loss: 0.0338 - prd_sepal_width_mse: 0.0773 - prd_petal_width_mse: 0.0338\n",
      "Epoch 83/100\n",
      "5/5 [==============================] - 0s 1ms/step - loss: 0.1096 - prd_sepal_width_loss: 0.0761 - prd_petal_width_loss: 0.0336 - prd_sepal_width_mse: 0.0761 - prd_petal_width_mse: 0.0336\n",
      "Epoch 84/100\n",
      "5/5 [==============================] - 0s 1ms/step - loss: 0.1107 - prd_sepal_width_loss: 0.0770 - prd_petal_width_loss: 0.0337 - prd_sepal_width_mse: 0.0770 - prd_petal_width_mse: 0.0337\n",
      "Epoch 85/100\n",
      "5/5 [==============================] - 0s 1ms/step - loss: 0.1102 - prd_sepal_width_loss: 0.0763 - prd_petal_width_loss: 0.0339 - prd_sepal_width_mse: 0.0763 - prd_petal_width_mse: 0.0339\n",
      "Epoch 86/100\n",
      "5/5 [==============================] - 0s 1ms/step - loss: 0.1104 - prd_sepal_width_loss: 0.0758 - prd_petal_width_loss: 0.0346 - prd_sepal_width_mse: 0.0758 - prd_petal_width_mse: 0.0346\n",
      "Epoch 87/100\n",
      "5/5 [==============================] - 0s 1ms/step - loss: 0.1112 - prd_sepal_width_loss: 0.0769 - prd_petal_width_loss: 0.0342 - prd_sepal_width_mse: 0.0769 - prd_petal_width_mse: 0.0342\n",
      "Epoch 88/100\n",
      "5/5 [==============================] - 0s 1ms/step - loss: 0.1115 - prd_sepal_width_loss: 0.0759 - prd_petal_width_loss: 0.0356 - prd_sepal_width_mse: 0.0759 - prd_petal_width_mse: 0.0356\n",
      "Epoch 89/100\n",
      "5/5 [==============================] - 0s 1ms/step - loss: 0.1101 - prd_sepal_width_loss: 0.0756 - prd_petal_width_loss: 0.0345 - prd_sepal_width_mse: 0.0756 - prd_petal_width_mse: 0.0345\n",
      "Epoch 90/100\n",
      "5/5 [==============================] - 0s 1ms/step - loss: 0.1087 - prd_sepal_width_loss: 0.0752 - prd_petal_width_loss: 0.0335 - prd_sepal_width_mse: 0.0752 - prd_petal_width_mse: 0.0335\n",
      "Epoch 91/100\n",
      "5/5 [==============================] - 0s 1ms/step - loss: 0.1094 - prd_sepal_width_loss: 0.0760 - prd_petal_width_loss: 0.0333 - prd_sepal_width_mse: 0.0760 - prd_petal_width_mse: 0.0333\n",
      "Epoch 92/100\n",
      "5/5 [==============================] - 0s 1ms/step - loss: 0.1088 - prd_sepal_width_loss: 0.0755 - prd_petal_width_loss: 0.0332 - prd_sepal_width_mse: 0.0755 - prd_petal_width_mse: 0.0332\n",
      "Epoch 93/100\n",
      "5/5 [==============================] - 0s 1ms/step - loss: 0.1086 - prd_sepal_width_loss: 0.0748 - prd_petal_width_loss: 0.0338 - prd_sepal_width_mse: 0.0748 - prd_petal_width_mse: 0.0338\n",
      "Epoch 94/100\n",
      "5/5 [==============================] - 0s 1ms/step - loss: 0.1092 - prd_sepal_width_loss: 0.0757 - prd_petal_width_loss: 0.0335 - prd_sepal_width_mse: 0.0757 - prd_petal_width_mse: 0.0335\n",
      "Epoch 95/100\n",
      "5/5 [==============================] - 0s 1ms/step - loss: 0.1124 - prd_sepal_width_loss: 0.0772 - prd_petal_width_loss: 0.0351 - prd_sepal_width_mse: 0.0772 - prd_petal_width_mse: 0.0351\n",
      "Epoch 96/100\n",
      "5/5 [==============================] - 0s 1ms/step - loss: 0.1098 - prd_sepal_width_loss: 0.0756 - prd_petal_width_loss: 0.0342 - prd_sepal_width_mse: 0.0756 - prd_petal_width_mse: 0.0342\n",
      "Epoch 97/100\n",
      "5/5 [==============================] - 0s 1ms/step - loss: 0.1117 - prd_sepal_width_loss: 0.0767 - prd_petal_width_loss: 0.0350 - prd_sepal_width_mse: 0.0767 - prd_petal_width_mse: 0.0350\n",
      "Epoch 98/100\n",
      "5/5 [==============================] - 0s 1ms/step - loss: 0.1077 - prd_sepal_width_loss: 0.0745 - prd_petal_width_loss: 0.0332 - prd_sepal_width_mse: 0.0745 - prd_petal_width_mse: 0.0332\n",
      "Epoch 99/100\n",
      "5/5 [==============================] - 0s 1ms/step - loss: 0.1090 - prd_sepal_width_loss: 0.0746 - prd_petal_width_loss: 0.0345 - prd_sepal_width_mse: 0.0746 - prd_petal_width_mse: 0.0345\n",
      "Epoch 100/100\n",
      "5/5 [==============================] - 0s 1ms/step - loss: 0.1136 - prd_sepal_width_loss: 0.0783 - prd_petal_width_loss: 0.0354 - prd_sepal_width_mse: 0.0783 - prd_petal_width_mse: 0.0354\n"
     ]
    }
   ],
   "source": [
    "y_train.head()\n",
    "OUTDIR = \"./iris_train\"\n",
    "shutil.rmtree(path=OUTDIR, ignore_errors=True)\n",
    "\n",
    "history = model.fit(x=X_train, y={\"prd_sepal_width\" : y_train[\"sepal width (cm)\"], \n",
    "                                 \"prd_petal_width\" : y_train[\"petal width (cm)\"]},\n",
    "                   epochs=100,\n",
    "                   batch_size=16,\n",
    "                   callbacks=[TensorBoard(OUTDIR)])"
   ]
  },
  {
   "cell_type": "code",
   "execution_count": 20,
   "id": "98b3bbdb",
   "metadata": {},
   "outputs": [
    {
     "data": {
      "text/html": [
       "\n",
       "      <iframe id=\"tensorboard-frame-6ab1c24489613\" width=\"100%\" height=\"800\" frameborder=\"0\">\n",
       "      </iframe>\n",
       "      <script>\n",
       "        (function() {\n",
       "          const frame = document.getElementById(\"tensorboard-frame-6ab1c24489613\");\n",
       "          const url = new URL(\"/\", window.location);\n",
       "          const port = 6015;\n",
       "          if (port) {\n",
       "            url.port = port;\n",
       "          }\n",
       "          frame.src = url;\n",
       "        })();\n",
       "      </script>\n",
       "    "
      ],
      "text/plain": [
       "<IPython.core.display.HTML object>"
      ]
     },
     "metadata": {},
     "output_type": "display_data"
    }
   ],
   "source": [
    "%tensorboard --logdir ./iris_train"
   ]
  },
  {
   "cell_type": "code",
   "execution_count": 23,
   "id": "f658a2d0",
   "metadata": {},
   "outputs": [
    {
     "ename": "AttributeError",
     "evalue": "'list' object has no attribute 'shape'",
     "output_type": "error",
     "traceback": [
      "\u001b[0;31m---------------------------------------------------------------------------\u001b[0m",
      "\u001b[0;31mAttributeError\u001b[0m                            Traceback (most recent call last)",
      "\u001b[0;32m<ipython-input-23-b815ed7b48bc>\u001b[0m in \u001b[0;36m<module>\u001b[0;34m\u001b[0m\n\u001b[1;32m      1\u001b[0m \u001b[0;31m# 테스트\u001b[0m\u001b[0;34m\u001b[0m\u001b[0;34m\u001b[0m\u001b[0;34m\u001b[0m\u001b[0m\n\u001b[1;32m      2\u001b[0m \u001b[0mpred\u001b[0m \u001b[0;34m=\u001b[0m \u001b[0mmodel\u001b[0m\u001b[0;34m.\u001b[0m\u001b[0mpredict\u001b[0m\u001b[0;34m(\u001b[0m\u001b[0mtest_raw_dataset\u001b[0m\u001b[0;34m)\u001b[0m\u001b[0;34m\u001b[0m\u001b[0;34m\u001b[0m\u001b[0m\n\u001b[0;32m----> 3\u001b[0;31m \u001b[0mpred\u001b[0m\u001b[0;34m.\u001b[0m\u001b[0mshape\u001b[0m\u001b[0;34m\u001b[0m\u001b[0;34m\u001b[0m\u001b[0m\n\u001b[0m",
      "\u001b[0;31mAttributeError\u001b[0m: 'list' object has no attribute 'shape'"
     ]
    }
   ],
   "source": [
    "# 테스트\n",
    "pred = model.predict(test_raw_dataset)\n",
    "pred"
   ]
  },
  {
   "cell_type": "code",
   "execution_count": 27,
   "id": "95ee10d6",
   "metadata": {
    "scrolled": true
   },
   "outputs": [
    {
     "data": {
      "text/html": [
       "<div>\n",
       "<style scoped>\n",
       "    .dataframe tbody tr th:only-of-type {\n",
       "        vertical-align: middle;\n",
       "    }\n",
       "\n",
       "    .dataframe tbody tr th {\n",
       "        vertical-align: top;\n",
       "    }\n",
       "\n",
       "    .dataframe thead th {\n",
       "        text-align: right;\n",
       "    }\n",
       "</style>\n",
       "<table border=\"1\" class=\"dataframe\">\n",
       "  <thead>\n",
       "    <tr style=\"text-align: right;\">\n",
       "      <th></th>\n",
       "      <th>id</th>\n",
       "      <th>sepal width (cm)</th>\n",
       "      <th>petal width (cm)</th>\n",
       "    </tr>\n",
       "  </thead>\n",
       "  <tbody>\n",
       "    <tr>\n",
       "      <th>0</th>\n",
       "      <td>0</td>\n",
       "      <td>3.571142</td>\n",
       "      <td>0.298119</td>\n",
       "    </tr>\n",
       "    <tr>\n",
       "      <th>1</th>\n",
       "      <td>1</td>\n",
       "      <td>3.878306</td>\n",
       "      <td>0.181236</td>\n",
       "    </tr>\n",
       "    <tr>\n",
       "      <th>2</th>\n",
       "      <td>2</td>\n",
       "      <td>3.592338</td>\n",
       "      <td>0.225267</td>\n",
       "    </tr>\n",
       "    <tr>\n",
       "      <th>3</th>\n",
       "      <td>3</td>\n",
       "      <td>3.263979</td>\n",
       "      <td>0.415002</td>\n",
       "    </tr>\n",
       "    <tr>\n",
       "      <th>4</th>\n",
       "      <td>4</td>\n",
       "      <td>2.797651</td>\n",
       "      <td>1.783073</td>\n",
       "    </tr>\n",
       "  </tbody>\n",
       "</table>\n",
       "</div>"
      ],
      "text/plain": [
       "   id  sepal width (cm)  petal width (cm)\n",
       "0   0          3.571142          0.298119\n",
       "1   1          3.878306          0.181236\n",
       "2   2          3.592338          0.225267\n",
       "3   3          3.263979          0.415002\n",
       "4   4          2.797651          1.783073"
      ]
     },
     "execution_count": 27,
     "metadata": {},
     "output_type": "execute_result"
    }
   ],
   "source": [
    "# 제출 파일 불러서 내용 입력\n",
    "sample_submission = pd.read_csv(\"/Users/jk/git/Study/Data/Dacon_dataset/dacon_basic_irisdataset/sample_submission.csv\")\n",
    "sample_submission[\"sepal width (cm)\"] = pred[0]\n",
    "sample_submission[\"petal width (cm)\"] = pred[1]\n",
    "sample_submission.head()"
   ]
  },
  {
   "cell_type": "code",
   "execution_count": 31,
   "id": "9adaf9b1",
   "metadata": {},
   "outputs": [],
   "source": [
    "# 제출 파일 만들기\n",
    "sample_submission.to_csv(\"submission_tf_1.csv\", index=False)"
   ]
  },
  {
   "cell_type": "code",
   "execution_count": 32,
   "id": "a1664485",
   "metadata": {},
   "outputs": [
    {
     "name": "stdout",
     "output_type": "stream",
     "text": [
      "{'isSubmitted': True, 'detail': 'Success'}\n"
     ]
    }
   ],
   "source": [
    "from dacon_submit_api import dacon_submit_api \n",
    "\n",
    "result = dacon_submit_api.post_submission_file(\n",
    "'submission_tf_1.csv', \n",
    "'369d8186e100432064ec63e2c634a2b89a5791d577c9b056c4f5e36c999fca14', \n",
    "'235836', \n",
    "'쵸비 우승 기원', \n",
    "'첫 submission' )"
   ]
  },
  {
   "cell_type": "code",
   "execution_count": null,
   "id": "a062f517",
   "metadata": {},
   "outputs": [],
   "source": []
  }
 ],
 "metadata": {
  "kernelspec": {
   "display_name": "PyCharm (Study)",
   "language": "python",
   "name": "pycharm-2419e99e"
  },
  "language_info": {
   "codemirror_mode": {
    "name": "ipython",
    "version": 3
   },
   "file_extension": ".py",
   "mimetype": "text/x-python",
   "name": "python",
   "nbconvert_exporter": "python",
   "pygments_lexer": "ipython3",
   "version": "3.8.2"
  }
 },
 "nbformat": 4,
 "nbformat_minor": 5
}
