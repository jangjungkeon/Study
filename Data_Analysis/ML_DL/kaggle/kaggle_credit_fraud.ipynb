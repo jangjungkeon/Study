{
 "cells": [
  {
   "cell_type": "code",
   "execution_count": 19,
   "id": "7163ffdf",
   "metadata": {},
   "outputs": [
    {
     "name": "stdout",
     "output_type": "stream",
     "text": [
      "Collecting lightgbm\n",
      "  Downloading lightgbm-3.2.1-py3-none-macosx_10_14_x86_64.macosx_10_15_x86_64.macosx_11_0_x86_64.whl (1.2 MB)\n",
      "\u001b[K     |████████████████████████████████| 1.2 MB 10.4 MB/s eta 0:00:01\n",
      "\u001b[?25hRequirement already satisfied: scikit-learn!=0.22.0 in /Users/jk/setup/anaconda3/envs/python_pro2net/lib/python3.8/site-packages (from lightgbm) (0.24.1)\n",
      "Requirement already satisfied: scipy in /Users/jk/setup/anaconda3/envs/python_pro2net/lib/python3.8/site-packages (from lightgbm) (1.6.1)\n",
      "Requirement already satisfied: numpy in /Users/jk/setup/anaconda3/envs/python_pro2net/lib/python3.8/site-packages (from lightgbm) (1.19.5)\n",
      "Requirement already satisfied: wheel in /Users/jk/setup/anaconda3/envs/python_pro2net/lib/python3.8/site-packages (from lightgbm) (0.36.2)\n",
      "Requirement already satisfied: threadpoolctl>=2.0.0 in /Users/jk/setup/anaconda3/envs/python_pro2net/lib/python3.8/site-packages (from scikit-learn!=0.22.0->lightgbm) (2.1.0)\n",
      "Requirement already satisfied: joblib>=0.11 in /Users/jk/setup/anaconda3/envs/python_pro2net/lib/python3.8/site-packages (from scikit-learn!=0.22.0->lightgbm) (1.0.1)\n",
      "Installing collected packages: lightgbm\n",
      "Successfully installed lightgbm-3.2.1\n"
     ]
    }
   ],
   "source": [
    "!pip install lightgbm"
   ]
  },
  {
   "cell_type": "code",
   "execution_count": 76,
   "id": "7d1e3e42",
   "metadata": {},
   "outputs": [],
   "source": [
    "import pandas as pd\n",
    "from sklearn.metrics import accuracy_score, precision_score, recall_score, f1_score, roc_auc_score\n",
    "from sklearn.model_selection import train_test_split\n",
    "import matplotlib.pyplot as plt\n",
    "import seaborn as sns\n",
    "from sklearn.linear_model import LogisticRegression\n",
    "from lightgbm import LGBMClassifier"
   ]
  },
  {
   "cell_type": "code",
   "execution_count": 199,
   "id": "cfe01aed",
   "metadata": {},
   "outputs": [
    {
     "data": {
      "text/plain": [
       "(284807, 31)"
      ]
     },
     "execution_count": 199,
     "metadata": {},
     "output_type": "execute_result"
    }
   ],
   "source": [
    "# 데이터 로딩\n",
    "data = pd.read_csv(\"/Users/jk/git/Study/Data/kaggle_dataset/credit_fraud/creditcard.csv\")\n",
    "data.shape"
   ]
  },
  {
   "cell_type": "code",
   "execution_count": 200,
   "id": "11126460",
   "metadata": {},
   "outputs": [
    {
     "data": {
      "text/plain": [
       "Time      0\n",
       "V1        0\n",
       "V2        0\n",
       "V3        0\n",
       "V4        0\n",
       "V5        0\n",
       "V6        0\n",
       "V7        0\n",
       "V8        0\n",
       "V9        0\n",
       "V10       0\n",
       "V11       0\n",
       "V12       0\n",
       "V13       0\n",
       "V14       0\n",
       "V15       0\n",
       "V16       0\n",
       "V17       0\n",
       "V18       0\n",
       "V19       0\n",
       "V20       0\n",
       "V21       0\n",
       "V22       0\n",
       "V23       0\n",
       "V24       0\n",
       "V25       0\n",
       "V26       0\n",
       "V27       0\n",
       "V28       0\n",
       "Amount    0\n",
       "Class     0\n",
       "dtype: int64"
      ]
     },
     "execution_count": 200,
     "metadata": {},
     "output_type": "execute_result"
    }
   ],
   "source": [
    "# isna 와 isnull은 같은 기능이다. numpy에서 결측치를 na, 데이터셋에서 결측치를 null로 둔다.\n",
    "data.isna().sum()"
   ]
  },
  {
   "cell_type": "code",
   "execution_count": 201,
   "id": "b294c7cf",
   "metadata": {},
   "outputs": [
    {
     "name": "stdout",
     "output_type": "stream",
     "text": [
      "<class 'pandas.core.frame.DataFrame'>\n",
      "RangeIndex: 284807 entries, 0 to 284806\n",
      "Data columns (total 31 columns):\n",
      " #   Column  Non-Null Count   Dtype  \n",
      "---  ------  --------------   -----  \n",
      " 0   Time    284807 non-null  float64\n",
      " 1   V1      284807 non-null  float64\n",
      " 2   V2      284807 non-null  float64\n",
      " 3   V3      284807 non-null  float64\n",
      " 4   V4      284807 non-null  float64\n",
      " 5   V5      284807 non-null  float64\n",
      " 6   V6      284807 non-null  float64\n",
      " 7   V7      284807 non-null  float64\n",
      " 8   V8      284807 non-null  float64\n",
      " 9   V9      284807 non-null  float64\n",
      " 10  V10     284807 non-null  float64\n",
      " 11  V11     284807 non-null  float64\n",
      " 12  V12     284807 non-null  float64\n",
      " 13  V13     284807 non-null  float64\n",
      " 14  V14     284807 non-null  float64\n",
      " 15  V15     284807 non-null  float64\n",
      " 16  V16     284807 non-null  float64\n",
      " 17  V17     284807 non-null  float64\n",
      " 18  V18     284807 non-null  float64\n",
      " 19  V19     284807 non-null  float64\n",
      " 20  V20     284807 non-null  float64\n",
      " 21  V21     284807 non-null  float64\n",
      " 22  V22     284807 non-null  float64\n",
      " 23  V23     284807 non-null  float64\n",
      " 24  V24     284807 non-null  float64\n",
      " 25  V25     284807 non-null  float64\n",
      " 26  V26     284807 non-null  float64\n",
      " 27  V27     284807 non-null  float64\n",
      " 28  V28     284807 non-null  float64\n",
      " 29  Amount  284807 non-null  float64\n",
      " 30  Class   284807 non-null  int64  \n",
      "dtypes: float64(30), int64(1)\n",
      "memory usage: 67.4 MB\n"
     ]
    }
   ],
   "source": [
    "data.info()"
   ]
  },
  {
   "cell_type": "code",
   "execution_count": 202,
   "id": "6612cf7b",
   "metadata": {},
   "outputs": [
    {
     "data": {
      "text/plain": [
       "0    284315\n",
       "1       492\n",
       "Name: Class, dtype: int64"
      ]
     },
     "execution_count": 202,
     "metadata": {},
     "output_type": "execute_result"
    }
   ],
   "source": [
    "data.iloc[:,-1].value_counts()"
   ]
  },
  {
   "cell_type": "code",
   "execution_count": 203,
   "id": "a52fb234",
   "metadata": {},
   "outputs": [
    {
     "data": {
      "text/plain": [
       "<AxesSubplot:>"
      ]
     },
     "execution_count": 203,
     "metadata": {},
     "output_type": "execute_result"
    },
    {
     "data": {
      "image/png": "[encoded data removed]",
      "text/plain": [
       "<Figure size 432x288 with 1 Axes>"
      ]
     },
     "metadata": {
      "needs_background": "light"
     },
     "output_type": "display_data"
    }
   ],
   "source": [
    "data.iloc[:,-1].value_counts().plot(kind=\"bar\")"
   ]
  },
  {
   "cell_type": "code",
   "execution_count": 204,
   "id": "78957579",
   "metadata": {
    "scrolled": true
   },
   "outputs": [
    {
     "data": {
      "text/plain": [
       "0    99.827251\n",
       "1     0.172749\n",
       "Name: Class, dtype: float64"
      ]
     },
     "execution_count": 204,
     "metadata": {},
     "output_type": "execute_result"
    }
   ],
   "source": [
    "data.iloc[:,-1].value_counts() / data.iloc[:, -1].count() * 100"
   ]
  },
  {
   "cell_type": "code",
   "execution_count": 205,
   "id": "5abac812",
   "metadata": {
    "scrolled": true
   },
   "outputs": [
    {
     "name": "stderr",
     "output_type": "stream",
     "text": [
      "/Users/jk/setup/anaconda3/envs/python_pro2net/lib/python3.8/site-packages/seaborn/distributions.py:2557: FutureWarning: `distplot` is a deprecated function and will be removed in a future version. Please adapt your code to use either `displot` (a figure-level function with similar flexibility) or `histplot` (an axes-level function for histograms).\n",
      "  warnings.warn(msg, FutureWarning)\n",
      "/Users/jk/setup/anaconda3/envs/python_pro2net/lib/python3.8/site-packages/seaborn/distributions.py:2557: FutureWarning: `distplot` is a deprecated function and will be removed in a future version. Please adapt your code to use either `displot` (a figure-level function with similar flexibility) or `histplot` (an axes-level function for histograms).\n",
      "  warnings.warn(msg, FutureWarning)\n"
     ]
    },
    {
     "data": {
      "image/png": "[encoded data removed]",
      "text/plain": [
       "<Figure size 1296x288 with 2 Axes>"
      ]
     },
     "metadata": {
      "needs_background": "light"
     },
     "output_type": "display_data"
    }
   ],
   "source": [
    "fig, ax = plt.subplots(1, 2, figsize=(18,4))\n",
    "amount_val = data['Amount'].values\n",
    "time_val = data[\"Time\"].values\n",
    "\n",
    "sns.distplot(amount_val, ax=ax[0], color=\"r\")\n",
    "ax[0].set_title(\"Distribution of transaction Amount\")\n",
    "ax[0].set_xlim([min(amount_val), max(amount_val)])\n",
    "\n",
    "sns.distplot(time_val, ax=ax[1], color=\"b\")\n",
    "ax[1].set_title(\"Distribution of transaction Time\")\n",
    "ax[1].set_xlim([min(time_val), max(time_val)])\n",
    "\n",
    "plt.show()"
   ]
  },
  {
   "cell_type": "code",
   "execution_count": 206,
   "id": "b80cd075",
   "metadata": {},
   "outputs": [],
   "source": [
    "from sklearn.preprocessing import StandardScaler, RobustScaler\n",
    "import numpy as np\n",
    "\n",
    "scaler = StandardScaler()\n",
    "\n",
    "data[\"scaled_amount\"] = scaler.fit_transform(data[\"Amount\"].values.reshape(-1, 1))"
   ]
  },
  {
   "cell_type": "code",
   "execution_count": 207,
   "id": "bdeb84be",
   "metadata": {},
   "outputs": [],
   "source": [
    "data[\"loged_amount\"] = np.log1p(data[\"Amount\"].values.reshape(-1, 1))"
   ]
  },
  {
   "cell_type": "code",
   "execution_count": 208,
   "id": "0250a8db",
   "metadata": {},
   "outputs": [
    {
     "name": "stderr",
     "output_type": "stream",
     "text": [
      "/Users/jk/setup/anaconda3/envs/python_pro2net/lib/python3.8/site-packages/seaborn/distributions.py:2557: FutureWarning: `distplot` is a deprecated function and will be removed in a future version. Please adapt your code to use either `displot` (a figure-level function with similar flexibility) or `histplot` (an axes-level function for histograms).\n",
      "  warnings.warn(msg, FutureWarning)\n",
      "/Users/jk/setup/anaconda3/envs/python_pro2net/lib/python3.8/site-packages/seaborn/distributions.py:2557: FutureWarning: `distplot` is a deprecated function and will be removed in a future version. Please adapt your code to use either `displot` (a figure-level function with similar flexibility) or `histplot` (an axes-level function for histograms).\n",
      "  warnings.warn(msg, FutureWarning)\n"
     ]
    },
    {
     "data": {
      "image/png": "[encoded data removed]",
      "text/plain": [
       "<Figure size 1296x288 with 2 Axes>"
      ]
     },
     "metadata": {
      "needs_background": "light"
     },
     "output_type": "display_data"
    }
   ],
   "source": [
    "fig, ax = plt.subplots(1, 2, figsize=(18, 4))\n",
    "loged_amount = data[\"loged_amount\"].values\n",
    "scaled_amount = data[\"scaled_amount\"].values\n",
    "\n",
    "sns.distplot(loged_amount, ax=ax[0], color=\"r\")\n",
    "ax[0].set_title(\"Distribution of loged_amount\")\n",
    "ax[0].set_xlim([min(loged_amount), max(loged_amount)])\n",
    "\n",
    "sns.distplot(scaled_amount, ax=ax[1], color=\"b\")\n",
    "ax[1].set_title(\"Distribution of scaled_amount\")\n",
    "ax[1].set_xlim([min(scaled_amount), max(scaled_amount)])\n",
    "\n",
    "plt.show()"
   ]
  },
  {
   "cell_type": "code",
   "execution_count": 209,
   "id": "aad1d5ac",
   "metadata": {},
   "outputs": [],
   "source": [
    "rob_scaler = RobustScaler()\n",
    "\n",
    "data[\"scaled_time\"] = rob_scaler.fit_transform(data[\"Time\"].values.reshape(-1, 1))\n",
    "data[\"loged_time\"] = np.log1p(data[\"Time\"].values.reshape(-1, 1))\n",
    "data[\"std_time\"] = scaler.fit_transform(data[\"Time\"].values.reshape(-1, 1))"
   ]
  },
  {
   "cell_type": "code",
   "execution_count": 210,
   "id": "2a6954b5",
   "metadata": {
    "scrolled": false
   },
   "outputs": [
    {
     "name": "stderr",
     "output_type": "stream",
     "text": [
      "/Users/jk/setup/anaconda3/envs/python_pro2net/lib/python3.8/site-packages/seaborn/distributions.py:2557: FutureWarning: `distplot` is a deprecated function and will be removed in a future version. Please adapt your code to use either `displot` (a figure-level function with similar flexibility) or `histplot` (an axes-level function for histograms).\n",
      "  warnings.warn(msg, FutureWarning)\n",
      "/Users/jk/setup/anaconda3/envs/python_pro2net/lib/python3.8/site-packages/seaborn/distributions.py:2557: FutureWarning: `distplot` is a deprecated function and will be removed in a future version. Please adapt your code to use either `displot` (a figure-level function with similar flexibility) or `histplot` (an axes-level function for histograms).\n",
      "  warnings.warn(msg, FutureWarning)\n",
      "/Users/jk/setup/anaconda3/envs/python_pro2net/lib/python3.8/site-packages/seaborn/distributions.py:2557: FutureWarning: `distplot` is a deprecated function and will be removed in a future version. Please adapt your code to use either `displot` (a figure-level function with similar flexibility) or `histplot` (an axes-level function for histograms).\n",
      "  warnings.warn(msg, FutureWarning)\n"
     ]
    },
    {
     "data": {
      "image/png": "[encoded data removed]",
      "text/plain": [
       "<Figure size 1296x288 with 3 Axes>"
      ]
     },
     "metadata": {
      "needs_background": "light"
     },
     "output_type": "display_data"
    }
   ],
   "source": [
    "fig, ax = plt.subplots(1, 3, figsize=(18, 4))\n",
    "scaled_time = data[\"scaled_time\"].values\n",
    "loged_time = data[\"loged_time\"].values\n",
    "std_time = data[\"std_time\"].values\n",
    "\n",
    "sns.distplot(scaled_time, ax=ax[0], color='r')\n",
    "ax[0].set_xlim([min(scaled_time), max(scaled_time)])\n",
    "\n",
    "sns.distplot(loged_time, ax=ax[1], color=\"g\")\n",
    "ax[1].set_xlim([min(loged_time), max(loged_time)])\n",
    "\n",
    "sns.distplot(std_time, ax=ax[2], color=\"b\")\n",
    "ax[2].set_xlim([min(std_time), max(std_time)])\n",
    "\n",
    "plt.show()"
   ]
  },
  {
   "cell_type": "code",
   "execution_count": 211,
   "id": "339708e1",
   "metadata": {},
   "outputs": [],
   "source": [
    "data.drop([\"loged_time\", \"std_time\", \"loged_amount\", \"Time\", \"Amount\"], axis=1, inplace=True)"
   ]
  },
  {
   "cell_type": "code",
   "execution_count": 212,
   "id": "76e5cdb3",
   "metadata": {},
   "outputs": [],
   "source": [
    "scaled_amount = data[\"scaled_amount\"]\n",
    "scaled_time = data[\"scaled_time\"]\n",
    "data.drop([\"scaled_amount\", \"scaled_time\"], axis=1, inplace=True)\n",
    "data.insert(0, \"scaled_amount\", scaled_amount)\n",
    "data.insert(1, \"scaled_time\", scaled_time)"
   ]
  },
  {
   "cell_type": "code",
   "execution_count": 213,
   "id": "335b7cc5",
   "metadata": {
    "scrolled": true
   },
   "outputs": [
    {
     "name": "stdout",
     "output_type": "stream",
     "text": [
      "<class 'pandas.core.frame.DataFrame'>\n",
      "RangeIndex: 284807 entries, 0 to 284806\n",
      "Data columns (total 31 columns):\n",
      " #   Column         Non-Null Count   Dtype  \n",
      "---  ------         --------------   -----  \n",
      " 0   scaled_amount  284807 non-null  float64\n",
      " 1   scaled_time    284807 non-null  float64\n",
      " 2   V1             284807 non-null  float64\n",
      " 3   V2             284807 non-null  float64\n",
      " 4   V3             284807 non-null  float64\n",
      " 5   V4             284807 non-null  float64\n",
      " 6   V5             284807 non-null  float64\n",
      " 7   V6             284807 non-null  float64\n",
      " 8   V7             284807 non-null  float64\n",
      " 9   V8             284807 non-null  float64\n",
      " 10  V9             284807 non-null  float64\n",
      " 11  V10            284807 non-null  float64\n",
      " 12  V11            284807 non-null  float64\n",
      " 13  V12            284807 non-null  float64\n",
      " 14  V13            284807 non-null  float64\n",
      " 15  V14            284807 non-null  float64\n",
      " 16  V15            284807 non-null  float64\n",
      " 17  V16            284807 non-null  float64\n",
      " 18  V17            284807 non-null  float64\n",
      " 19  V18            284807 non-null  float64\n",
      " 20  V19            284807 non-null  float64\n",
      " 21  V20            284807 non-null  float64\n",
      " 22  V21            284807 non-null  float64\n",
      " 23  V22            284807 non-null  float64\n",
      " 24  V23            284807 non-null  float64\n",
      " 25  V24            284807 non-null  float64\n",
      " 26  V25            284807 non-null  float64\n",
      " 27  V26            284807 non-null  float64\n",
      " 28  V27            284807 non-null  float64\n",
      " 29  V28            284807 non-null  float64\n",
      " 30  Class          284807 non-null  int64  \n",
      "dtypes: float64(30), int64(1)\n",
      "memory usage: 67.4 MB\n"
     ]
    }
   ],
   "source": [
    "data.info()"
   ]
  },
  {
   "cell_type": "code",
   "execution_count": 214,
   "id": "66325347",
   "metadata": {},
   "outputs": [
    {
     "data": {
      "text/plain": [
       "Text(0.5, 1.0, 'V17 vs Class')"
      ]
     },
     "execution_count": 214,
     "metadata": {},
     "output_type": "execute_result"
    },
    {
     "data": {
      "image/png": "[encoded data removed]",
      "text/plain": [
       "<Figure size 1296x288 with 2 Axes>"
      ]
     },
     "metadata": {
      "needs_background": "light"
     },
     "output_type": "display_data"
    }
   ],
   "source": [
    "f, axes = plt.subplots(1, 2, figsize=(18,4))\n",
    "\n",
    "sns.boxplot(x=\"Class\", y=\"V14\", data=data, ax=axes[0])\n",
    "axes[0].set_title(\"V14 vs Class\")\n",
    "\n",
    "sns.boxplot(x=\"Class\", y=\"V17\", data=data, ax=axes[1])\n",
    "axes[1].set_title(\"V17 vs Class\")"
   ]
  },
  {
   "cell_type": "code",
   "execution_count": 215,
   "id": "9343ee1c",
   "metadata": {},
   "outputs": [],
   "source": [
    "data_copy = data.copy()"
   ]
  },
  {
   "cell_type": "code",
   "execution_count": 216,
   "id": "92a3f7f1",
   "metadata": {},
   "outputs": [],
   "source": [
    "def remove_outlier_test(data_cp, col):\n",
    "    data_column = data_cp[data_cp[\"Class\"] == 1][col]\n",
    "    # data_column = data_cp[data_cp[\"Class\"] == 0][col]\n",
    "    q_25 = np.percentile(data_column.values, 25)\n",
    "    q_75 = np.percentile(data_column.values, 75)\n",
    "    \n",
    "    iqr_15 = (q_75 - q_25) * 1.5\n",
    "    lowest = q_25 - iqr_15\n",
    "    highest = q_75 + iqr_15\n",
    "    outlier_index = data_column[(data_column < lowest) | (data_column > highest)].index\n",
    "    print(len(outlier_index))\n",
    "    data_cp.drop(outlier_index, axis=0, inplace=True)\n",
    "    print(data_cp.shape)\n",
    "    return data_cp"
   ]
  },
  {
   "cell_type": "code",
   "execution_count": 217,
   "id": "f7e06936",
   "metadata": {},
   "outputs": [
    {
     "name": "stdout",
     "output_type": "stream",
     "text": [
      "4\n",
      "(284803, 31)\n"
     ]
    }
   ],
   "source": [
    "data_copy = remove_outlier_test(data_copy, \"V14\")"
   ]
  },
  {
   "cell_type": "code",
   "execution_count": null,
   "id": "5cb4c530",
   "metadata": {},
   "outputs": [],
   "source": []
  },
  {
   "cell_type": "code",
   "execution_count": 218,
   "id": "7a08e2d5",
   "metadata": {},
   "outputs": [],
   "source": [
    "label = data_copy.pop(\"Class\")"
   ]
  },
  {
   "cell_type": "code",
   "execution_count": 219,
   "id": "6456e491",
   "metadata": {
    "scrolled": false
   },
   "outputs": [
    {
     "name": "stdout",
     "output_type": "stream",
     "text": [
      "0    99.837548\n",
      "1     0.162452\n",
      "Name: Class, dtype: float64\n",
      "0    99.801969\n",
      "1     0.198031\n",
      "Name: Class, dtype: float64\n"
     ]
    }
   ],
   "source": [
    "train_data, test_data, train_label, test_label = train_test_split(data_copy, label, test_size=0.25, random_state=10)\n",
    "print(train_label.value_counts() / train_label.count() * 100)\n",
    "print(test_label.value_counts() / test_label.count() * 100)"
   ]
  },
  {
   "cell_type": "code",
   "execution_count": 220,
   "id": "f16150f1",
   "metadata": {},
   "outputs": [],
   "source": [
    "# tpr = recall, 민감도 = 재현도, roc 커브의 y 축\n",
    "def metrics(y_test, pred):\n",
    "    accuracy = accuracy_score(y_test, pred)\n",
    "    precision = precision_score(y_test, pred)\n",
    "    recall = recall_score(y_test, pred)\n",
    "    f1 = f1_score(y_test, pred)\n",
    "    roc_score = roc_auc_score(y_test, pred, average=\"macro\")\n",
    "    print(f\"정확도 : {accuracy:.2f}, 정밀도 : {precision:.2f}, 재현율: {recall:.2f}\")\n",
    "    print(f\"f1-score: {f1:.2f}, auc: {roc_score:.2f}\")"
   ]
  },
  {
   "cell_type": "code",
   "execution_count": 221,
   "id": "6d2c8651",
   "metadata": {},
   "outputs": [],
   "source": [
    "def modeling(model, train_data, test_data, train_label, test_label):\n",
    "    model.fit(train_data, train_label)\n",
    "    pred = model.predict(test_data)\n",
    "    metrics(test_label, pred)"
   ]
  },
  {
   "cell_type": "code",
   "execution_count": 222,
   "id": "06886295",
   "metadata": {},
   "outputs": [
    {
     "name": "stdout",
     "output_type": "stream",
     "text": [
      "정확도 : 1.00, 정밀도 : 0.89, 재현율: 0.57\n",
      "f1-score: 0.70, auc: 0.79\n"
     ]
    }
   ],
   "source": [
    "# LogisticRegression 데이터 정규화 및 v14 class==1 일때의 outlier를 제거 후\n",
    "lr = LogisticRegression()\n",
    "modeling(lr, train_data, test_data, train_label, test_label)"
   ]
  },
  {
   "cell_type": "code",
   "execution_count": 223,
   "id": "a55e18eb",
   "metadata": {},
   "outputs": [
    {
     "name": "stdout",
     "output_type": "stream",
     "text": [
      "정확도 : 1.00, 정밀도 : 0.96, 재현율: 0.74\n",
      "f1-score: 0.84, auc: 0.87\n"
     ]
    }
   ],
   "source": [
    "# LGBMClassifier 데이터 정규화 및 v14 class==1 일때의 outlier를 제거 후\n",
    "lgb = LGBMClassifier(n_estimators=1000, num_leaves=64, n_jobs=-1, boost_from_average=False)\n",
    "modeling(lgb, train_data, test_data, train_label, test_label)"
   ]
  },
  {
   "cell_type": "code",
   "execution_count": 197,
   "id": "a758effa",
   "metadata": {},
   "outputs": [
    {
     "name": "stdout",
     "output_type": "stream",
     "text": [
      "정확도 : 1.00, 정밀도 : 0.99, 재현율: 0.82\n",
      "f1-score: 0.90, auc: 0.91\n"
     ]
    }
   ],
   "source": [
    "# LogisticRegression 데이터 정규화 및 v14 class==0 일때의 outlier를 제거 후\n",
    "lr = LogisticRegression()\n",
    "modeling(lr, train_data, test_data, train_label, test_label)"
   ]
  },
  {
   "cell_type": "code",
   "execution_count": 198,
   "id": "14979c42",
   "metadata": {},
   "outputs": [
    {
     "name": "stdout",
     "output_type": "stream",
     "text": [
      "정확도 : 1.00, 정밀도 : 0.98, 재현율: 0.81\n",
      "f1-score: 0.89, auc: 0.90\n"
     ]
    }
   ],
   "source": [
    "# LGBMClassifier 데이터 정규화 및 v14 class==0 일때의 outlier를 제거 후\n",
    "lgb = LGBMClassifier(n_estimators=1000, num_leaves=64, n_jobs=-1, boost_from_average=False)\n",
    "modeling(lgb, train_data, test_data, train_label, test_label)"
   ]
  },
  {
   "cell_type": "code",
   "execution_count": 172,
   "id": "97b714c6",
   "metadata": {},
   "outputs": [
    {
     "name": "stdout",
     "output_type": "stream",
     "text": [
      "정확도 : 1.00, 정밀도 : 0.00, 재현율: 0.00\n",
      "f1-score: 0.00, auc: 0.50\n"
     ]
    }
   ],
   "source": [
    "# LogisticRegression 데이터 정규화 및 outlier를 잘못 제거 후\n",
    "lr = LogisticRegression()\n",
    "modeling(lr, train_data, test_data, train_label, test_label)"
   ]
  },
  {
   "cell_type": "code",
   "execution_count": 173,
   "id": "b74bd06c",
   "metadata": {},
   "outputs": [
    {
     "name": "stdout",
     "output_type": "stream",
     "text": [
      "정확도 : 1.00, 정밀도 : 0.00, 재현율: 0.00\n",
      "f1-score: 0.00, auc: 0.50\n"
     ]
    },
    {
     "name": "stderr",
     "output_type": "stream",
     "text": [
      "/Users/jk/setup/anaconda3/envs/python_pro2net/lib/python3.8/site-packages/sklearn/metrics/_classification.py:1245: UndefinedMetricWarning: Precision is ill-defined and being set to 0.0 due to no predicted samples. Use `zero_division` parameter to control this behavior.\n",
      "  _warn_prf(average, modifier, msg_start, len(result))\n"
     ]
    }
   ],
   "source": [
    "# LGBMClassifier 데이터 정규화 및 outlier를 잘못 제거 후\n",
    "lgb = LGBMClassifier(n_estimators=1000, num_leaves=64, n_jobs=-1, boost_from_average=False)\n",
    "modeling(lgb, train_data, test_data, train_label, test_label)"
   ]
  },
  {
   "cell_type": "code",
   "execution_count": 69,
   "id": "df5942cf",
   "metadata": {},
   "outputs": [
    {
     "name": "stdout",
     "output_type": "stream",
     "text": [
      "정확도 : 1.00, 정밀도 : 0.87, 재현율: 0.65\n",
      "f1-score: 0.75, auc: 0.83\n"
     ]
    }
   ],
   "source": [
    "# LogisticRegression 데이터 정규화 후\n",
    "lr = LogisticRegression()\n",
    "modeling(lr, train_data, test_data, train_label, test_label)"
   ]
  },
  {
   "cell_type": "code",
   "execution_count": 70,
   "id": "6e8a7b26",
   "metadata": {},
   "outputs": [
    {
     "name": "stdout",
     "output_type": "stream",
     "text": [
      "정확도 : 1.00, 정밀도 : 0.95, 재현율: 0.83\n",
      "f1-score: 0.88, auc: 0.91\n"
     ]
    }
   ],
   "source": [
    "# LGBMClassifier 데이터 정규화 후\n",
    "lgb = LGBMClassifier(n_estimators=1000, num_leaves=64, n_jobs=-1, boost_from_average=False)\n",
    "modeling(lgb, train_data, test_data, train_label, test_label)"
   ]
  },
  {
   "cell_type": "code",
   "execution_count": 15,
   "id": "22cfb538",
   "metadata": {},
   "outputs": [
    {
     "name": "stdout",
     "output_type": "stream",
     "text": [
      "정확도 : 1.00, 정밀도 : 0.73, 재현율: 0.74\n",
      "f1-score: 0.73, auc: 0.87\n"
     ]
    }
   ],
   "source": [
    "# LogisticRegression 데이터 정규화 전\n",
    "lr = LogisticRegression()\n",
    "modeling(lr, train_data, test_data, train_label, test_label)"
   ]
  },
  {
   "cell_type": "code",
   "execution_count": 23,
   "id": "611fcb4f",
   "metadata": {},
   "outputs": [
    {
     "name": "stdout",
     "output_type": "stream",
     "text": [
      "정확도 : 1.00, 정밀도 : 0.95, 재현율: 0.83\n",
      "f1-score: 0.88, auc: 0.91\n"
     ]
    }
   ],
   "source": [
    "# LGBMClassifier 데이터 정규화 전\n",
    "lgb = LGBMClassifier(n_estimators=1000, num_leaves=64, n_jobs=-1, boost_from_average=False)\n",
    "modeling(lgb, train_data, test_data, train_label, test_label)"
   ]
  },
  {
   "cell_type": "code",
   "execution_count": null,
   "id": "6d3230b7",
   "metadata": {},
   "outputs": [],
   "source": []
  }
 ],
 "metadata": {
  "kernelspec": {
   "display_name": "PyCharm (Study)",
   "language": "python",
   "name": "pycharm-2419e99e"
  },
  "language_info": {
   "codemirror_mode": {
    "name": "ipython",
    "version": 3
   },
   "file_extension": ".py",
   "mimetype": "text/x-python",
   "name": "python",
   "nbconvert_exporter": "python",
   "pygments_lexer": "ipython3",
   "version": "3.8.2"
  }
 },
 "nbformat": 4,
 "nbformat_minor": 5
}
