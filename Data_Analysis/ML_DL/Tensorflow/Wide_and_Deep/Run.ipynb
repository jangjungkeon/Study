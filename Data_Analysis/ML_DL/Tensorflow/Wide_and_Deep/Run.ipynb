{
 "cells": [
  {
   "cell_type": "code",
   "execution_count": 1,
   "id": "47ed5c17",
   "metadata": {},
   "outputs": [],
   "source": [
    "import os\n",
    "import pandas as pd\n",
    "from Model import Wide, Deep, Wide_Deep\n",
    "from Data import Data"
   ]
  },
  {
   "cell_type": "code",
   "execution_count": 2,
   "id": "55f6c358",
   "metadata": {},
   "outputs": [],
   "source": [
    "file_path = os.path.dirname(os.path.realpath('__file__'))"
   ]
  },
  {
   "cell_type": "code",
   "execution_count": 3,
   "id": "6639cf5b",
   "metadata": {},
   "outputs": [],
   "source": [
    "class Run:\n",
    "\n",
    "    def __init__(self):\n",
    "\n",
    "        columns = [\"age\", \"workclass\", \"fnlwgt\", \"education\", \"education_num\",\n",
    "                   \"marital_status\", \"occupation\", \"relationship\", \"race\", \"gender\",\n",
    "                   \"capital_gain\", \"capital_loss\", \"hours_per_week\", \"native_country\",\n",
    "                   \"income_bracket\"]\n",
    "\n",
    "        self.df_train = pd.read_csv(file_path + '/data/adult.data', sep=',', names = columns)\n",
    "        self.df_test = pd.read_csv(file_path + '/data/adult.test', sep=',', names = columns, skipinitialspace=True, skiprows=1)\n",
    "\n",
    "        # infome_label추가\n",
    "        self.df_train['income_label'] = (self.df_train[\"income_bracket\"].apply(lambda x: \">50K\" in x)).astype(int)\n",
    "        self.df_test['income_label'] = (self.df_test[\"income_bracket\"].apply(lambda x: \">50K\" in x)).astype(int)\n",
    "\n",
    "        # age_group 추가\n",
    "        age_groups = [0, 25, 65, 90]\n",
    "        age_labels = range(len(age_groups) - 1)\n",
    "        self.df_train['age_group'] = pd.cut(self.df_train['age'], age_groups, labels=age_labels)\n",
    "        self.df_test['age_group'] = pd.cut(self.df_test['age'], age_groups, labels=age_labels)\n",
    "\n",
    "        target = 'income_label'\n",
    "\n",
    "    def Wide(self):\n",
    "\n",
    "        load = Data()\n",
    "        X_train, y_train, X_test, y_test = load.get_wide_model_data(self.df_train, self.df_test)\n",
    "\n",
    "        model = Wide(X_train, y_train)\n",
    "        model = model.get_model()\n",
    "        model.fit(X_train, y_train, epochs=10,  batch_size=64)\n",
    "\n",
    "        print('wide model accuracy:', model.evaluate(X_test, y_test)[1])\n",
    "\n",
    "    def Deep(self):\n",
    "\n",
    "        load = Data()\n",
    "        X_train, y_train, X_test, y_test, \\\n",
    "        embeddings_tensors, continuous_tensors = load.get_deep_model_data(self.df_train, self.df_test)\n",
    "\n",
    "        model = Deep(X_train, y_train, embeddings_tensors, continuous_tensors)\n",
    "        model = model.get_model()\n",
    "        model.fit(X_train, y_train, batch_size=64, epochs=10)\n",
    "\n",
    "        print('deep model accuracy:', model.evaluate(X_test, y_test)[1])\n",
    "\n",
    "    def Wide_and_Deep(self):\n",
    "\n",
    "        load = Data()\n",
    "        X_train_wide, y_train_wide, X_test_wide, y_test_wide = load.get_wide_model_data(self.df_train, self.df_test)\n",
    "        X_train_deep, y_train_deep, X_test_deep, y_test_deep, \\\n",
    "        embeddings_tensors, continuous_tensors = load.get_deep_model_data(self.df_train, self.df_test)\n",
    "\n",
    "        X_tr_wd = [X_train_wide] + X_train_deep\n",
    "        y_tr_wd = y_train_deep\n",
    "\n",
    "        X_te_wd = [X_test_wide] + X_test_deep\n",
    "        y_te_wd = y_test_deep\n",
    "\n",
    "        model = Wide_Deep(X_train_wide, y_train_wide, X_train_deep, y_train_deep, embeddings_tensors, continuous_tensors)\n",
    "        model = model.get_model()\n",
    "        model.fit(X_tr_wd, y_tr_wd, epochs=5, batch_size=128)\n",
    "\n",
    "        print('wide and deep model accuracy:', model.evaluate(X_te_wd, y_te_wd)[1])\n",
    "\n"
   ]
  },
  {
   "cell_type": "code",
   "execution_count": null,
   "id": "51bd2c04",
   "metadata": {},
   "outputs": [],
   "source": [
    "if __name__ == '__main__' :\n",
    "\n",
    "    run = Run()\n",
    "    run.Wide_and_Deep()"
   ]
  }
 ],
 "metadata": {
  "kernelspec": {
   "display_name": "PyCharm (Study)",
   "language": "python",
   "name": "pycharm-2419e99e"
  },
  "language_info": {
   "codemirror_mode": {
    "name": "ipython",
    "version": 3
   },
   "file_extension": ".py",
   "mimetype": "text/x-python",
   "name": "python",
   "nbconvert_exporter": "python",
   "pygments_lexer": "ipython3",
   "version": "3.8.2"
  }
 },
 "nbformat": 4,
 "nbformat_minor": 5
}
