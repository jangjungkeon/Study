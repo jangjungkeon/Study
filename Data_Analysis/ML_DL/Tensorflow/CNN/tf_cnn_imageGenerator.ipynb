{
 "cells": [
  {
   "cell_type": "code",
   "execution_count": null,
   "metadata": {
    "collapsed": true
   },
   "outputs": [],
   "source": [
    "import tensorflow as tf\n",
    "from tensorflow.keras.datasets import mnist\n",
    "from tensorflow.keras.utils import to_categorical\n",
    "from tensorflow.keras.callbacks import ModelCheckpoint, EarlyStopping\n",
    "import matplotlib.pyplot as plt\n",
    "import numpy as np\n",
    "import sys"
   ]
  },
  {
   "cell_type": "code",
   "execution_count": null,
   "outputs": [],
   "source": [
    "np.random.seed(0)\n",
    "tf.random.set_seed(3)\n",
    "\n",
    "# 데이터 로드\n",
    "(x_train, y_train), (x_test, y_test) = mnist.load_data()\n",
    "\n",
    "x_train = x_train.reshape(-1, 28, 28, 1).astype('float32')  / 255\n",
    "x_test = x_test.reshape(-1, 28, 28, 1).astype('float32')  / 255\n",
    "# print(x_train[0])\n",
    "# print(y_train[0])\n",
    "\n",
    "# one- hot\n",
    "y_train = to_categorical(y_train)\n",
    "print(y_train[0])\n",
    "y_test = to_categorical(y_test)\n",
    "\n"
   ],
   "metadata": {
    "collapsed": false,
    "pycharm": {
     "name": "#%%\n"
    }
   }
  },
  {
   "cell_type": "code",
   "execution_count": null,
   "outputs": [],
   "source": [
    "# 이미지 보강 클래스 : 기본 이미지를 좌우대칭, 회전 기울기, 이동 등을 통해 이미지의 양을 늘리는 것.\n",
    "from tensorflow.keras.preprocessing.image import ImageDataGenerator\n",
    "# 연습\n",
    "img_gen = ImageDataGenerator(\n",
    "    rotation_range = 10,\n",
    "    zoom_range = 0.1,\n",
    "    shear_range = 0.5,\n",
    "    width_shift_range = 0.1,\n",
    "    height_shift_range = 0.1,\n",
    "    horizontal_flip = True,\n",
    "    vertical_flip = False,\n",
    ")\n",
    "augument_size = 100\n",
    "x_augument = img_gen.flow(np.tile(x_train[0].reshape(28 * 28), 100).reshape(-1, 28, 28, 1),\n",
    "                          np.zeros(augument_size),\n",
    "                          batch_size=augument_size,\n",
    "                          shuffle=False).next()[0]\n",
    "plt.figure(figsize=(10, 10))\n",
    "for c in range(100):\n",
    "  plt.subplot(10, 10, c + 1)\n",
    "  plt.axis('off')\n",
    "  plt.imshow(x_augument[c].reshape(28, 28), cmap='gray')\n",
    "plt.show()"
   ],
   "metadata": {
    "collapsed": false,
    "pycharm": {
     "name": "#%%\n"
    }
   }
  },
  {
   "cell_type": "code",
   "execution_count": null,
   "outputs": [],
   "source": [
    "img_generate = ImageDataGenerator(\n",
    "    rotation_range = 10,\n",
    "    zoom_range = 0.1,\n",
    "    shear_range = 0.5,\n",
    "    width_shift_range = 0.1,\n",
    "    height_shift_range = 0.1,\n",
    "    horizontal_flip = False,\n",
    "    vertical_flip = False\n",
    ")\n",
    "augument_size = 30000     # 변형 이미지 3만개\n",
    "randIdx = np.random.randint(x_train.shape[0], size=augument_size)\n",
    "x_augment = x_train[randIdx].copy()\n",
    "y_augment = y_train[randIdx].copy()\n",
    "\n",
    "x_augument = img_generate.flow(x_augment,\n",
    "                          np.zeros(augument_size),\n",
    "                          batch_size=augument_size,\n",
    "                          shuffle=False).next()[0]\n",
    "\n",
    "# 원래 이미지에 증식된 이미지를 추가\n",
    "x_train = np.concatenate((x_train, x_augment))\n",
    "y_train = np.concatenate((y_train, y_augment))\n",
    "print(x_train.shape)"
   ],
   "metadata": {
    "collapsed": false,
    "pycharm": {
     "name": "#%%\n"
    }
   }
  },
  {
   "cell_type": "code",
   "execution_count": null,
   "outputs": [],
   "source": [
    "# 모델 생성\n",
    "model = tf.keras.models.Sequential([\n",
    "    tf.keras.layers.Conv2D(filters=32, kernel_size=(3, 3), input_shape=(28, 28, 1), padding='same', activation='relu'),\n",
    "    tf.keras.layers.MaxPooling2D(pool_size=(2, 2)),\n",
    "    tf.keras.layers.Dropout(0.3),\n",
    "\n",
    "    tf.keras.layers.Conv2D(filters=32, kernel_size=(3, 3), input_shape=(28, 28, 1), padding='same', activation='relu'),\n",
    "    tf.keras.layers.MaxPooling2D(pool_size=(2, 2)),\n",
    "    tf.keras.layers.Dropout(0.3),\n",
    "\n",
    "    tf.keras.layers.Flatten(),\n",
    "\n",
    "    tf.keras.layers.Dense(units=128, activation='relu'),\n",
    "    tf.keras.layers.Dropout(0.3),\n",
    "    tf.keras.layers.Dense(units=128, activation='relu'),\n",
    "    tf.keras.layers.Dropout(0.3),\n",
    "    tf.keras.layers.Dense(units=10, activation='softmax'),\n",
    "])\n",
    "\n",
    "model.compile(optimizer='adam', loss='categorical_crossentropy', metrics=['accuracy'])\n",
    "print(model.summary())"
   ],
   "metadata": {
    "collapsed": false,
    "pycharm": {
     "name": "#%%\n"
    }
   }
  },
  {
   "cell_type": "code",
   "execution_count": null,
   "outputs": [],
   "source": [
    "# 조기 종료 조건 callbacks 모듈의 함수\n",
    "early_stop = EarlyStopping(monitor='val_loss', patience=3)\n",
    "history = model.fit(x_train, y_train, validation_split=0.2, epochs=100, batch_size=64, verbose=2, callbacks=[early_stop])\n",
    "print('Accuracy : %.3f' %(model.evaluate(x_test, y_test)[1]))"
   ],
   "metadata": {
    "collapsed": false,
    "pycharm": {
     "name": "#%%\n"
    }
   }
  },
  {
   "cell_type": "code",
   "execution_count": null,
   "outputs": [],
   "source": [
    "print('accuracy : %.3f'%(model.evaluate(x_test, y_test)[1]))\n",
    "\n",
    "# 시각화\n",
    "plt.figure(figsize=(12, 4))\n",
    "\n",
    "plt.subplot(1, 2, 1)\n",
    "plt.plot(history.history['accuracy'], marker='o', c='red', label='acc')\n",
    "plt.plot(history.history['val_accuracy'], marker='s', c='blue', label='val_acc')\n",
    "plt.xlabel('epochs')\n",
    "plt.ylim(0.5, 1)\n",
    "plt.legend(loc='lower right')\n",
    "\n",
    "plt.subplot(1, 2, 2)\n",
    "plt.plot(history.history['loss'], marker='o', c='red', label='loss')\n",
    "plt.plot(history.history['val_loss'], marker='s', c='blue', label='val_loss')\n",
    "plt.xlabel('epochs')\n",
    "plt.legend(loc='upper right')\n",
    "plt.show()\n"
   ],
   "metadata": {
    "collapsed": false,
    "pycharm": {
     "name": "#%%\n"
    }
   }
  }
 ],
 "metadata": {
  "kernelspec": {
   "name": "pycharm-2419e99e",
   "language": "python",
   "display_name": "PyCharm (Study)"
  },
  "language_info": {
   "codemirror_mode": {
    "name": "ipython",
    "version": 2
   },
   "file_extension": ".py",
   "mimetype": "text/x-python",
   "name": "python",
   "nbconvert_exporter": "python",
   "pygments_lexer": "ipython2",
   "version": "2.7.6"
  }
 },
 "nbformat": 4,
 "nbformat_minor": 0
}