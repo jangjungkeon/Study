{
 "cells": [
  {
   "cell_type": "code",
   "execution_count": 3,
   "metadata": {
    "collapsed": true
   },
   "outputs": [],
   "source": [
    "# Dimension for RNN  : RNN 모형을 구현할 때 핵심이 되는 데이터 구조\n",
    "# many-to-many, many-to-one, one-to-many\n",
    "\n",
    "import numpy as np\n",
    "import tensorflow as tf\n",
    "from tensorflow import keras\n"
   ]
  },
  {
   "cell_type": "code",
   "execution_count": 4,
   "outputs": [
    {
     "name": "stdout",
     "output_type": "stream",
     "text": [
      "(3, 3, 1) (3, 1)\n",
      "Model: \"many-to-one\"\n",
      "_________________________________________________________________\n",
      "Layer (type)                 Output Shape              Param #   \n",
      "=================================================================\n",
      "input_1 (InputLayer)         [(None, 3, 1)]            0         \n",
      "_________________________________________________________________\n",
      "gru (GRU)                    (None, 100)               30900     \n",
      "_________________________________________________________________\n",
      "dense (Dense)                (None, 1)                 101       \n",
      "=================================================================\n",
      "Total params: 31,001\n",
      "Trainable params: 31,001\n",
      "Non-trainable params: 0\n",
      "_________________________________________________________________\n",
      "None\n",
      "pred :  [3.9134152 5.1294537 5.956638 ]\n",
      "real :  [4 5 6]\n"
     ]
    }
   ],
   "source": [
    "# many-to-one\n",
    "x = np.array([[[1], [2], [3]], [[2], [3], [4]], [[3], [4], [5]]], dtype=np.float32)\n",
    "y = np.array([[4], [5], [6]])\n",
    "print(x.shape, y.shape)\n",
    "\n",
    "# function API 사용\n",
    "layer_input = keras.Input(shape=(3, 1))\n",
    "layer_rnn = keras.layers.LSTM(100, activation='tanh')(layer_input)\n",
    "layer_output = keras.layers.Dense(1)(layer_rnn)\n",
    "\n",
    "model = keras.Model(layer_input, layer_output)\n",
    "model.compile(loss='mse',  optimizer='adam')\n",
    "model._name = 'many-to-one'\n",
    "print(model.summary())\n",
    "model.fit(x, y, epochs=100, batch_size=1, verbose=0)\n",
    "print('pred : ', model.predict(x).flatten())\n",
    "print('real : ', y.flatten())\n"
   ],
   "metadata": {
    "collapsed": false,
    "pycharm": {
     "name": "#%%\n"
    }
   }
  },
  {
   "cell_type": "code",
   "execution_count": 5,
   "outputs": [
    {
     "name": "stdout",
     "output_type": "stream",
     "text": [
      "(3, 3, 1) (3, 1)\n",
      "Model: \"many-to-many\"\n",
      "_________________________________________________________________\n",
      "Layer (type)                 Output Shape              Param #   \n",
      "=================================================================\n",
      "input_2 (InputLayer)         [(None, 3, 1)]            0         \n",
      "_________________________________________________________________\n",
      "simple_rnn (SimpleRNN)       (None, 3, 100)            10200     \n",
      "_________________________________________________________________\n",
      "time_distributed (TimeDistri (None, 3, 1)              101       \n",
      "=================================================================\n",
      "Total params: 10,301\n",
      "Trainable params: 10,301\n",
      "Non-trainable params: 0\n",
      "_________________________________________________________________\n",
      "None\n",
      "pred :  [3.4181116 3.9972088 4.0112147 5.030841  5.0821304 4.9832706 6.304368\n",
      " 5.942766  6.010579 ]\n"
     ]
    }
   ],
   "source": [
    "# many-to-many\n",
    "x = np.array([[[1], [2], [3]], [[2], [3], [4]], [[3], [4], [5]]], dtype=np.float32)\n",
    "y = np.array([[4], [5], [6]])\n",
    "print(x.shape, y.shape)\n",
    "\n",
    "# function API 사용\n",
    "layer_input = keras.Input(shape=(3, 1))\n",
    "layer_rnn = keras.layers.SimpleRNN(100, activation='tanh', return_sequences=True)(layer_input)\n",
    "layer_output = keras.layers.TimeDistributed(keras.layers.Dense(1))(layer_rnn)\n",
    "# layer_output = keras.layers.Dense(1)(layer_rnn)\n",
    "\n",
    "model = keras.Model(layer_input, layer_output)\n",
    "model.compile(loss='mse',  optimizer='adam')\n",
    "model._name = 'many-to-many'\n",
    "print(model.summary())\n",
    "model.fit(x, y, epochs=100, batch_size=1, verbose=0)\n",
    "print('pred : ', model.predict(x).flatten())\n",
    "\n",
    "\n"
   ],
   "metadata": {
    "collapsed": false,
    "pycharm": {
     "name": "#%%\n"
    }
   }
  },
  {
   "cell_type": "code",
   "execution_count": null,
   "outputs": [],
   "source": [
    "# stacked many-to-many\n",
    "x = np.array([[[1], [2], [3]], [[2], [3], [4]], [[3], [4], [5]]], dtype=np.float32)\n",
    "y = np.array([[4], [5], [6]])\n",
    "print(x.shape, y.shape)\n",
    "\n",
    "# function API 사용\n",
    "layer_input = keras.Input(shape=(3, 1))\n",
    "layer_rnn1 = keras.layers.SimpleRNN(100, activation='tanh', return_sequences=True)(layer_input)\n",
    "layer_rnn2 = keras.layers.SimpleRNN(100, activation='tanh')(layer_rnn1)\n",
    "layer_output = keras.layers.Dense(1)(layer_rnn2)\n",
    "\n",
    "model = keras.Model(layer_input, layer_output)\n",
    "model.compile(loss='mse',  optimizer='adam')\n",
    "model._name = 'stacked-many-to-one'\n",
    "print(model.summary())\n",
    "model.fit(x, y, epochs=100, batch_size=1, verbose=0)\n",
    "print('pred : ', model.predict(x).flatten())\n",
    "\n"
   ],
   "metadata": {
    "collapsed": false,
    "pycharm": {
     "name": "#%%\n"
    }
   }
  }
 ],
 "metadata": {
  "kernelspec": {
   "name": "pycharm-2419e99e",
   "language": "python",
   "display_name": "PyCharm (Study)"
  },
  "language_info": {
   "codemirror_mode": {
    "name": "ipython",
    "version": 2
   },
   "file_extension": ".py",
   "mimetype": "text/x-python",
   "name": "python",
   "nbconvert_exporter": "python",
   "pygments_lexer": "ipython2",
   "version": "2.7.6"
  }
 },
 "nbformat": 4,
 "nbformat_minor": 0
}