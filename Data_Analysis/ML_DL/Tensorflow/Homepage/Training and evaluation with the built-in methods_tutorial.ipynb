{
 "cells": [
  {
   "cell_type": "code",
   "execution_count": 1,
   "id": "cb8a27e4",
   "metadata": {},
   "outputs": [],
   "source": [
    "import tensorflow as tf\n",
    "from tensorflow import keras\n",
    "from tensorflow.keras import layers"
   ]
  },
  {
   "cell_type": "code",
   "execution_count": 2,
   "id": "7737e4a5",
   "metadata": {},
   "outputs": [],
   "source": [
    "# 모델 레이어 구성\n",
    "inputs = keras.Input(shape=(784,), name=\"digits\")\n",
    "x = layers.Dense(64, activation=\"relu\", name=\"dense_1\")(inputs)\n",
    "x = layers.Dense(64, activation=\"relu\", name=\"dense_2\")(x)\n",
    "outputs = layers.Dense(10, activation=\"softmax\", name=\"predictions\")(x)\n",
    "\n",
    "model = keras.Model(inputs=inputs, outputs=outputs)"
   ]
  },
  {
   "cell_type": "code",
   "execution_count": 48,
   "id": "7179c3f8",
   "metadata": {},
   "outputs": [
    {
     "data": {
      "text/plain": [
       "numpy.ndarray"
      ]
     },
     "execution_count": 48,
     "metadata": {},
     "output_type": "execute_result"
    }
   ],
   "source": [
    "(x_train, y_train), (x_test, y_test) = keras.datasets.mnist.load_data()\n",
    "\n",
    "x_train = x_train.reshape(60000, 784).astype(\"float32\") / 255\n",
    "x_test = x_test.reshape(10000, 784).astype(\"float32\") / 255\n",
    "\n",
    "y_train = y_train.astype(\"float32\")\n",
    "y_test = y_test.astype(\"float32\")\n",
    "\n",
    "x_val = x_train[-10000:]\n",
    "y_val = y_train[-10000:]\n",
    "x_train = x_train[:-10000]\n",
    "y_train = y_train[:-10000]"
   ]
  },
  {
   "cell_type": "code",
   "execution_count": 9,
   "id": "bb3bf45e",
   "metadata": {},
   "outputs": [],
   "source": [
    "# 모델 설정\n",
    "model.compile(\n",
    "    optimizer = keras.optimizers.RMSprop(),\n",
    "    loss = keras.losses.SparseCategoricalCrossentropy(),\n",
    "    metrics = [keras.metrics.SparseCategoricalAccuracy()],\n",
    ")"
   ]
  },
  {
   "cell_type": "code",
   "execution_count": 10,
   "id": "2c909949",
   "metadata": {},
   "outputs": [
    {
     "name": "stdout",
     "output_type": "stream",
     "text": [
      "Epoch 1/2\n",
      "782/782 [==============================] - 2s 1ms/step - loss: 0.3322 - sparse_categorical_accuracy: 0.9060 - val_loss: 0.2208 - val_sparse_categorical_accuracy: 0.9357\n",
      "Epoch 2/2\n",
      "782/782 [==============================] - 1s 1ms/step - loss: 0.1575 - sparse_categorical_accuracy: 0.9527 - val_loss: 0.1403 - val_sparse_categorical_accuracy: 0.9583\n"
     ]
    }
   ],
   "source": [
    "# fitting\n",
    "history = model.fit(\n",
    "    x_train,\n",
    "    y_train,\n",
    "    batch_size=64,\n",
    "    epochs=2,\n",
    "    validation_data = (x_val, y_val)\n",
    ")"
   ]
  },
  {
   "cell_type": "code",
   "execution_count": 11,
   "id": "75c7a08e",
   "metadata": {},
   "outputs": [
    {
     "data": {
      "text/plain": [
       "{'loss': [0.3321518898010254, 0.15748603641986847],\n",
       " 'sparse_categorical_accuracy': [0.9060199856758118, 0.9526799917221069],\n",
       " 'val_loss': [0.2208210974931717, 0.14029808342456818],\n",
       " 'val_sparse_categorical_accuracy': [0.935699999332428, 0.958299994468689]}"
      ]
     },
     "execution_count": 11,
     "metadata": {},
     "output_type": "execute_result"
    }
   ],
   "source": [
    "history.history"
   ]
  },
  {
   "cell_type": "code",
   "execution_count": 12,
   "id": "f3b9eb6d",
   "metadata": {},
   "outputs": [
    {
     "name": "stdout",
     "output_type": "stream",
     "text": [
      "79/79 [==============================] - 0s 1ms/step - loss: 0.1402 - sparse_categorical_accuracy: 0.9582\n",
      "test loss, test acc: [0.14016923308372498, 0.9581999778747559]\n",
      "predictions shape : (3, 10)\n"
     ]
    }
   ],
   "source": [
    "# evaluate()를 통해 테스트 데이터에 대한 모델을 평가. \n",
    "results = model.evaluate(x_test, y_test, batch_size=128)\n",
    "print(f\"test loss, test acc: {results}\")\n",
    "\n",
    "# 예측하기\n",
    "predictions = model.predict(x_test[:3])\n",
    "print(f\"predictions shape : {predictions.shape}\")"
   ]
  },
  {
   "cell_type": "code",
   "execution_count": 13,
   "id": "51d82170",
   "metadata": {},
   "outputs": [],
   "source": [
    "# compile 메서드 상세\n",
    "# metrics은 모니터링 용\n",
    "model.compile(\n",
    "    optimizer = keras.optimizers.RMSprop(learning_rate=1e-3),\n",
    "    loss = keras.losses.SparseCategoricalCrossentropy(),\n",
    "    metrics=[keras.metrics.SparseCategoricalAccuracy()],\n",
    ")"
   ]
  },
  {
   "cell_type": "code",
   "execution_count": 17,
   "id": "d915ca0b",
   "metadata": {},
   "outputs": [],
   "source": [
    "# 재사용을 위해 모델 정의와 컴파일 단계를 함수에 넣음\n",
    "\n",
    "def get_uncompiled_model():\n",
    "    inputs = keras.Input(shape=(784,), name=\"digits\")\n",
    "    x = layers.Dense(64, activation=\"relu\", name=\"dense_1\")(inputs)\n",
    "    x = layers.Dense(64, activation=\"relu\", name=\"dense_2\")(x)\n",
    "    outputs = layers.Dense(10, activation=\"softmax\", name=\"predcitions\")(x)\n",
    "    model = keras.Model(inputs=inputs, outputs=outputs)\n",
    "    return model\n",
    "\n",
    "\n",
    "def get_compiled_model():\n",
    "    model = get_uncompiled_model()\n",
    "    model.compile(\n",
    "        optimizer=\"rmsprop\",\n",
    "        loss=\"sparse_categorical_crossentropy\",\n",
    "        metrics=[\"sparse_categorical_accuracy\"],\n",
    "    )\n",
    "    return model"
   ]
  },
  {
   "cell_type": "code",
   "execution_count": 18,
   "id": "6eaf8d92",
   "metadata": {},
   "outputs": [
    {
     "name": "stdout",
     "output_type": "stream",
     "text": [
      "782/782 [==============================] - 1s 936us/step - loss: 0.0157\n"
     ]
    },
    {
     "data": {
      "text/plain": [
       "<tensorflow.python.keras.callbacks.History at 0x7f92506732b0>"
      ]
     },
     "execution_count": 18,
     "metadata": {},
     "output_type": "execute_result"
    }
   ],
   "source": [
    "def custom_mean_squared_error(y_true, y_pred):\n",
    "    return tf.math.reduce_mean(tf.square(y_true - y_pred))\n",
    "\n",
    "model = get_uncompiled_model()\n",
    "model.compile(optimizer=keras.optimizers.Adam(), loss=custom_mean_squared_error)\n",
    "\n",
    "y_train_one_hot = tf.one_hot(y_train, depth=10)\n",
    "model.fit(x_train, y_train_one_hot, batch_size=64, epochs=1)"
   ]
  },
  {
   "cell_type": "code",
   "execution_count": 22,
   "id": "8ae76dc0",
   "metadata": {},
   "outputs": [
    {
     "name": "stdout",
     "output_type": "stream",
     "text": [
      "[5. 0. 4. ... 8. 4. 8.]\n",
      "782/782 [==============================] - 1s 919us/step - loss: 0.0384\n"
     ]
    },
    {
     "data": {
      "text/plain": [
       "<tensorflow.python.keras.callbacks.History at 0x7f925ec6e8b0>"
      ]
     },
     "execution_count": 22,
     "metadata": {},
     "output_type": "execute_result"
    }
   ],
   "source": [
    "class CustomMSE(keras.losses.Loss):\n",
    "    def __init__(self, regularization_factor=0.1, name=\"custom_mse\"):\n",
    "        super(CustomMSE, self).__init__(name=name)\n",
    "        self.regularization_factor = regularization_factor\n",
    "    \n",
    "    def call(self, y_true, y_pred):\n",
    "        mse = tf.math.reduce_mean(tf.square(y_true - y_pred))\n",
    "        reg = tf.math.reduce_mean(tf.square(0.5 - y_pred))\n",
    "        return mse + reg * self.regularization_factor\n",
    "\n",
    "    \n",
    "model = get_uncompiled_model()\n",
    "model.compile(optimizer=keras.optimizers.Adam(), loss=CustomMSE())\n",
    "\n",
    "y_train_one_hot = tf.one_hot(y_train, depth=10)\n",
    "model.fit(x_train, y_train_one_hot, batch_size=64, epochs=1)"
   ]
  },
  {
   "cell_type": "code",
   "execution_count": 30,
   "id": "d483b62c",
   "metadata": {},
   "outputs": [
    {
     "name": "stdout",
     "output_type": "stream",
     "text": [
      "Epoch 1/3\n",
      "782/782 [==============================] - 1s 953us/step - loss: 0.3454 - categorical_true_positives: 45067.0000\n",
      "Epoch 2/3\n",
      "782/782 [==============================] - 1s 1ms/step - loss: 0.1598 - categorical_true_positives: 47621.0000\n",
      "Epoch 3/3\n",
      "782/782 [==============================] - 1s 945us/step - loss: 0.1164 - categorical_true_positives: 48220.0000\n"
     ]
    },
    {
     "data": {
      "text/plain": [
       "<tensorflow.python.keras.callbacks.History at 0x7f925f310940>"
      ]
     },
     "execution_count": 30,
     "metadata": {},
     "output_type": "execute_result"
    }
   ],
   "source": [
    "# custom metrics\n",
    "# true : 정답 \n",
    "# positive 맞다고 예측하는 것\n",
    "\n",
    "class CategoricalTruePositives(keras.metrics.Metric):\n",
    "    def __init__(self, name=\"categorical_true_positives\", **kwargs):\n",
    "        super(CategoricalTruePositives, self).__init__(name=name, **kwargs)\n",
    "        self.true_positives = self.add_weight(name=\"ctp\", initializer=\"zeros\")\n",
    "    \n",
    "    def update_state(self, y_true, y_pred, sample_weight=None):\n",
    "        y_pred = tf.reshape(tf.argmax(y_pred, axis=1), shape=(-1, 1))\n",
    "        values = tf.cast(y_true, \"int32\") == tf.cast(y_pred, \"int32\")\n",
    "        values = tf.cast(values, \"float32\")\n",
    "        if sample_weight is not None:\n",
    "            sample_weight = tf.cast(sample_weight, \"float32\")\n",
    "            values = tf.multiply(values, sample_weight)\n",
    "        self.true_positives.assign_add(tf.reduce_sum(values))\n",
    "    \n",
    "    def result(self):\n",
    "        return self.true_positives\n",
    "    \n",
    "    # 각 epoch 시작 지점에서 metric의 상태를 초기화 시킴. \n",
    "    def reset_states(self):\n",
    "        self.true_positives.assign(0.0)\n",
    "\n",
    "\n",
    "model = get_uncompiled_model()\n",
    "model.compile(\n",
    "    optimizer = keras.optimizers.RMSprop(learning_rate=1e-3),\n",
    "    loss = keras.losses.SparseCategoricalCrossentropy(),\n",
    "    metrics = [CategoricalTruePositives()],\n",
    ")\n",
    "model.fit(x_train, y_train, batch_size=64, epochs=3)"
   ]
  },
  {
   "cell_type": "code",
   "execution_count": 36,
   "id": "92c7c08f",
   "metadata": {},
   "outputs": [
    {
     "name": "stdout",
     "output_type": "stream",
     "text": [
      "782/782 [==============================] - 1s 931us/step - loss: 2.4611\n"
     ]
    },
    {
     "data": {
      "text/plain": [
       "<tensorflow.python.keras.callbacks.History at 0x7f9242090d60>"
      ]
     },
     "execution_count": 36,
     "metadata": {},
     "output_type": "execute_result"
    }
   ],
   "source": [
    "# 표준 서명에 맞지 않는 손실 및 메트릭 처리.\n",
    "\n",
    "class ActivityRegularizationLayer(layers.Layer):\n",
    "    def call(self, inputs):\n",
    "        self.add_loss(tf.reduce_sum(inputs) * 0.1)\n",
    "        return inputs\n",
    "\n",
    "inputs = keras.Input(shape=(784,), name=\"digits\")\n",
    "x = layers.Dense(64, activation=\"relu\", name=\"dense_1\")(inputs)\n",
    "\n",
    "x = ActivityRegularizationLayer()(x)\n",
    "\n",
    "x = layers.Dense(64, activation=\"relu\", name=\"dense_2\")(x)\n",
    "outputs = layers.Dense(10, name=\"predictions\")(x)\n",
    "\n",
    "model = keras.Model(inputs=inputs, outputs=outputs)\n",
    "model.compile(\n",
    "    optimizer = keras.optimizers.RMSprop(learning_rate=1e-3),\n",
    "    loss = keras.losses.SparseCategoricalCrossentropy(from_logits=True)\n",
    ")\n",
    "\n",
    "model.fit(x_train, y_train, batch_size=64, epochs=1)"
   ]
  },
  {
   "cell_type": "code",
   "execution_count": 43,
   "id": "9c2784ca",
   "metadata": {},
   "outputs": [
    {
     "name": "stdout",
     "output_type": "stream",
     "text": [
      "782/782 [==============================] - 1s 996us/step - loss: 0.3392 - std_of_activation: 1.0068\n"
     ]
    },
    {
     "data": {
      "text/plain": [
       "<tensorflow.python.keras.callbacks.History at 0x7f925fea1490>"
      ]
     },
     "execution_count": 43,
     "metadata": {},
     "output_type": "execute_result"
    }
   ],
   "source": [
    "# add_metric()\n",
    "\n",
    "class MetricLoggingLayer(layers.Layer):\n",
    "    def call(self, inputs):\n",
    "        self.add_metric(\n",
    "            keras.backend.std(inputs), name=\"std_of_activation\", aggregation=\"mean\"\n",
    "        )\n",
    "        return inputs\n",
    "\n",
    "\n",
    "inputs = keras.Input(shape=(784, ), name=\"digits\")\n",
    "x = layers.Dense(64, activation=\"relu\", name=\"dense_1\")(inputs)\n",
    "\n",
    "x = MetricLoggingLayer()(x)\n",
    "x = layers.Dense(64, activation=\"relu\", name=\"dense_2\")(x)\n",
    "outputs = layers.Dense(10, name=\"predictions\")(x)\n",
    "\n",
    "model = keras.Model(inputs=inputs, outputs=outputs)\n",
    "model.compile(\n",
    "    optimizer = keras.optimizers.RMSprop(learning_rate=1e-3),\n",
    "    loss = keras.losses.SparseCategoricalCrossentropy(from_logits=True)\n",
    ")\n",
    "model.fit(x_train, y_train, batch_size=64, epochs=1)"
   ]
  },
  {
   "cell_type": "code",
   "execution_count": 45,
   "id": "3cbb67ac",
   "metadata": {},
   "outputs": [
    {
     "name": "stdout",
     "output_type": "stream",
     "text": [
      "782/782 [==============================] - 1s 1ms/step - loss: 2.5270 - std_of_activation: 0.0021\n"
     ]
    },
    {
     "data": {
      "text/plain": [
       "<tensorflow.python.keras.callbacks.History at 0x7f925fc676a0>"
      ]
     },
     "execution_count": 45,
     "metadata": {},
     "output_type": "execute_result"
    }
   ],
   "source": [
    "inputs = keras.Input(shape=(784,), name=\"digits\")\n",
    "x1 = layers.Dense(64, activation=\"relu\", name=\"dense_1\")(inputs)\n",
    "x2 = layers.Dense(64, activation=\"relu\", name=\"dense_2\")(x1)\n",
    "outputs = layers.Dense(10, name=\"predictions\")(x2)\n",
    "model = keras.Model(inputs=inputs, outputs=outputs)\n",
    "\n",
    "model.add_loss(tf.reduce_sum(x1) * 0.1)\n",
    "\n",
    "model.add_metric(keras.backend.std(x1), name=\"std_of_activation\", aggregation=\"mean\")\n",
    "\n",
    "model.compile(\n",
    "    optimizer=keras.optimizers.RMSprop(1e-3),\n",
    "    loss=keras.losses.SparseCategoricalCrossentropy(from_logits=True),\n",
    ")\n",
    "model.fit(x_train, y_train, batch_size=64, epochs=1)"
   ]
  },
  {
   "cell_type": "code",
   "execution_count": 46,
   "id": "b442d7a4",
   "metadata": {},
   "outputs": [],
   "source": [
    "class LogisticEndpoint(keras.layers.Layer):\n",
    "    def __init__(self, name=None):\n",
    "        super(LogisticEndpoint, self).__init__(name=name)\n",
    "        self.loss_fn = keras.losses.BinaryCrossentropy(from_logits=True)\n",
    "        self.accuracy_fn = keras.metrics.BinaryAccuracy()\n",
    "    \n",
    "    def call(self, targets, logits, sample_weights=None):\n",
    "        loss = self.loss_fn(targets, logits, sample_weights)\n",
    "        self.add_loss(loss)\n",
    "        \n",
    "        acc = self.accuracy_fn(targets, logits, sample_weights)\n",
    "        self.add_metric(acc, name=\"accuracy\")\n",
    "        \n",
    "        return tf.nn.softmax(logits)"
   ]
  },
  {
   "cell_type": "code",
   "execution_count": 47,
   "id": "ac6b8ecc",
   "metadata": {},
   "outputs": [
    {
     "name": "stdout",
     "output_type": "stream",
     "text": [
      "1/1 [==============================] - 0s 290ms/step - loss: 0.9628 - binary_accuracy: 0.0000e+00\n"
     ]
    },
    {
     "data": {
      "text/plain": [
       "<tensorflow.python.keras.callbacks.History at 0x7f924719d850>"
      ]
     },
     "execution_count": 47,
     "metadata": {},
     "output_type": "execute_result"
    }
   ],
   "source": [
    "import numpy as np\n",
    "\n",
    "inputs = keras.Input(shape=(3,), name=\"inputs\")\n",
    "targets = keras.Input(shape=(10,), name=\"targets\")\n",
    "logits = keras.layers.Dense(10)(inputs)\n",
    "predictions = LogisticEndpoint(name=\"predictions\")(logits, targets)\n",
    "\n",
    "model = keras.Model(inputs=[inputs, targets], outputs=predictions)\n",
    "model.compile(optimizer=\"adam\")\n",
    "\n",
    "data = {\n",
    "    \"inputs\" : np.random.random((3, 3)),\n",
    "    \"targets\" : np.random.random((3, 10)),\n",
    "}\n",
    "\n",
    "model.fit(data)"
   ]
  },
  {
   "cell_type": "code",
   "execution_count": 49,
   "id": "4f85fd46",
   "metadata": {},
   "outputs": [
    {
     "name": "stdout",
     "output_type": "stream",
     "text": [
      "625/625 [==============================] - 1s 1ms/step - loss: 0.3618 - sparse_categorical_accuracy: 0.8988 - val_loss: 0.2513 - val_sparse_categorical_accuracy: 0.9233\n"
     ]
    },
    {
     "data": {
      "text/plain": [
       "<tensorflow.python.keras.callbacks.History at 0x7f9247b6cfa0>"
      ]
     },
     "execution_count": 49,
     "metadata": {},
     "output_type": "execute_result"
    }
   ],
   "source": [
    "model = get_compiled_model()\n",
    "model.fit(x_train, y_train, batch_size=64, validation_split=0.2, epochs=1)"
   ]
  },
  {
   "cell_type": "code",
   "execution_count": 52,
   "id": "ef25f73b",
   "metadata": {},
   "outputs": [
    {
     "name": "stdout",
     "output_type": "stream",
     "text": [
      "Epoch 1/3\n",
      "782/782 [==============================] - 1s 1ms/step - loss: 0.3482 - sparse_categorical_accuracy: 0.9014\n",
      "Epoch 2/3\n",
      "782/782 [==============================] - 1s 1ms/step - loss: 0.1658 - sparse_categorical_accuracy: 0.9505\n",
      "Epoch 3/3\n",
      "782/782 [==============================] - 1s 1ms/step - loss: 0.1180 - sparse_categorical_accuracy: 0.9648\n",
      "Evaluate\n",
      "157/157 [==============================] - 0s 815us/step - loss: 0.1238 - sparse_categorical_accuracy: 0.9638\n"
     ]
    },
    {
     "data": {
      "text/plain": [
       "{'loss': 0.12378491461277008,\n",
       " 'sparse_categorical_accuracy': 0.9638000130653381}"
      ]
     },
     "execution_count": 52,
     "metadata": {},
     "output_type": "execute_result"
    }
   ],
   "source": [
    "model = get_compiled_model()\n",
    "\n",
    "# train dataset instances 만들기\n",
    "train_dataset = tf.data.Dataset.from_tensor_slices((x_train, y_train))\n",
    "# shuffle 하고 batch 작업\n",
    "train_dataset = train_dataset.shuffle(buffer_size=1024).batch(64)\n",
    "\n",
    "# test 데이터 \n",
    "test_dataset = tf.data.Dataset.from_tensor_slices((x_test, y_test))\n",
    "test_dataset = test_dataset.batch(64)\n",
    "\n",
    "model.fit(train_dataset, epochs=3)\n",
    "print(\"Evaluate\")\n",
    "result = model.evaluate(test_dataset)\n",
    "dict(zip(model.metrics_names, result))"
   ]
  },
  {
   "cell_type": "code",
   "execution_count": 53,
   "id": "11eb1d5a",
   "metadata": {},
   "outputs": [
    {
     "name": "stdout",
     "output_type": "stream",
     "text": [
      "Epoch 1/4\n",
      "700/700 [==============================] - 1s 1ms/step - loss: 0.3497 - sparse_categorical_accuracy: 0.9021\n",
      "Epoch 2/4\n",
      " 81/700 [==>...........................] - ETA: 0s - loss: 0.2083 - sparse_categorical_accuracy: 0.9389WARNING:tensorflow:Your input ran out of data; interrupting training. Make sure that your dataset or generator can generate at least `steps_per_epoch * epochs` batches (in this case, 2800 batches). You may need to use the repeat() function when building your dataset.\n",
      "700/700 [==============================] - 0s 233us/step - loss: 0.2092 - sparse_categorical_accuracy: 0.9385\n"
     ]
    },
    {
     "data": {
      "text/plain": [
       "<tensorflow.python.keras.callbacks.History at 0x7f92479c3f10>"
      ]
     },
     "execution_count": 53,
     "metadata": {},
     "output_type": "execute_result"
    }
   ],
   "source": [
    "model = get_compiled_model()\n",
    "\n",
    "train_dataset = tf.data.Dataset.from_tensor_slices((x_train, y_train))\n",
    "train_dataset = train_dataset.shuffle(buffer_size=1024).batch(64)\n",
    "\n",
    "# steps_per_epoch를 사용하면 batch가 재설정 되지않고, 전체 데이터를 다 사용할 때까지만 한다. 즉, 거의 안쓰지 않을까\n",
    "model.fit(train_dataset, epochs=4, steps_per_epoch=700)"
   ]
  },
  {
   "cell_type": "code",
   "execution_count": 55,
   "id": "e7558cfc",
   "metadata": {},
   "outputs": [
    {
     "name": "stdout",
     "output_type": "stream",
     "text": [
      "Epoch 1/2\n",
      "782/782 [==============================] - 2s 1ms/step - loss: 0.3502 - sparse_categorical_accuracy: 0.9005 - val_loss: 0.1858 - val_sparse_categorical_accuracy: 0.9461\n",
      "Epoch 2/2\n",
      "782/782 [==============================] - 1s 1ms/step - loss: 0.1721 - sparse_categorical_accuracy: 0.9487 - val_loss: 0.1560 - val_sparse_categorical_accuracy: 0.9554\n"
     ]
    },
    {
     "data": {
      "text/plain": [
       "<tensorflow.python.keras.callbacks.History at 0x7f9220589c40>"
      ]
     },
     "execution_count": 55,
     "metadata": {},
     "output_type": "execute_result"
    }
   ],
   "source": [
    "# Dataset 인스턴스를 validation_data 인수로 전달.\n",
    "\n",
    "model = get_compiled_model()\n",
    "\n",
    "train_dataset = tf.data.Dataset.from_tensor_slices((x_train, y_train))\n",
    "train_dataset = train_dataset.shuffle(buffer_size=50000).batch(64)\n",
    "\n",
    "val_dataset = tf.data.Dataset.from_tensor_slices((x_val, y_val))\n",
    "\n",
    "val_dataset = val_dataset.batch(64)\n",
    "\n",
    "model.fit(train_dataset, epochs=2, validation_data=val_dataset)"
   ]
  },
  {
   "cell_type": "code",
   "execution_count": 56,
   "id": "0b7c01bc",
   "metadata": {},
   "outputs": [
    {
     "name": "stdout",
     "output_type": "stream",
     "text": [
      "782/782 [==============================] - 1s 1ms/step - loss: 0.3412 - sparse_categorical_accuracy: 0.9025 - val_loss: 0.2678 - val_sparse_categorical_accuracy: 0.9187\n"
     ]
    },
    {
     "data": {
      "text/plain": [
       "<tensorflow.python.keras.callbacks.History at 0x7f9224797fd0>"
      ]
     },
     "execution_count": 56,
     "metadata": {},
     "output_type": "execute_result"
    }
   ],
   "source": [
    "# validation_split 옵션은 Dataset 객체로 훈련할때는 지원되지 않는다. \n",
    "# 왜냐면 데이터 세트 샘플에 인덱싱할 수 있어야하지만 Dataset API에서는 일반적으로 그게 안되기 때문이다. \n",
    "\n",
    "model = get_compiled_model()\n",
    "\n",
    "train_dataset = tf.data.Dataset.from_tensor_slices((x_train, y_train))\n",
    "train_dataset = train_dataset.shuffle(buffer_size=1024).batch(64)\n",
    "\n",
    "val_dataset = tf.data.Dataset.from_tensor_slices((x_val, y_val))\n",
    "val_dataset = val_dataset.batch(64)\n",
    "\n",
    "model.fit(\n",
    "    train_dataset,\n",
    "    epochs=1,\n",
    "    validation_data=val_dataset,\n",
    "    validation_steps=10,\n",
    ")"
   ]
  },
  {
   "cell_type": "markdown",
   "id": "6ba409ba",
   "metadata": {},
   "source": [
    "numpy 배열, dataset, pandas dataframe 등도 훈련데이터로 지원된다. \n",
    "일반적인 사용 가이드라인은 다음과 같다. \n",
    "- 데이터가 작고 메모리에 맞는 경우 Numpy 입력 데이터를 사용. \n",
    "- 큰 데이터세트가 있고 분산 훈련을 수행해야 하는 경우 Dataset 객체\n",
    "- 큰 데이터세트가 있고, Tensorflow에서 수행할 수 없는 많은 사용자 정의 python 측 처리(일반적으로 전처리)를 수행해야하는 경우(예: 데이터 로드 또는 사전 처리를 위해 외부 라이브러리에 의존하는 경우) Sequence 객체\n"
   ]
  },
  {
   "cell_type": "code",
   "execution_count": 58,
   "id": "985f26c5",
   "metadata": {},
   "outputs": [
    {
     "ename": "ModuleNotFoundError",
     "evalue": "No module named 'skimage'",
     "output_type": "error",
     "traceback": [
      "\u001b[0;31m---------------------------------------------------------------------------\u001b[0m",
      "\u001b[0;31mModuleNotFoundError\u001b[0m                       Traceback (most recent call last)",
      "\u001b[0;32m<ipython-input-58-9e333c35d034>\u001b[0m in \u001b[0;36m<module>\u001b[0;34m\u001b[0m\n\u001b[1;32m      1\u001b[0m \u001b[0;31m# keras.utils.Sequence 객체를 입력으로 사용하기.\u001b[0m\u001b[0;34m\u001b[0m\u001b[0;34m\u001b[0m\u001b[0;34m\u001b[0m\u001b[0m\n\u001b[0;32m----> 2\u001b[0;31m \u001b[0;32mfrom\u001b[0m \u001b[0mskimage\u001b[0m\u001b[0;34m.\u001b[0m\u001b[0mio\u001b[0m \u001b[0;32mimport\u001b[0m \u001b[0mimread\u001b[0m\u001b[0;34m\u001b[0m\u001b[0;34m\u001b[0m\u001b[0m\n\u001b[0m\u001b[1;32m      3\u001b[0m \u001b[0;32mfrom\u001b[0m \u001b[0mskimage\u001b[0m\u001b[0;34m.\u001b[0m\u001b[0mtransform\u001b[0m \u001b[0;32mimport\u001b[0m \u001b[0mresize\u001b[0m\u001b[0;34m\u001b[0m\u001b[0;34m\u001b[0m\u001b[0m\n\u001b[1;32m      4\u001b[0m \u001b[0;32mimport\u001b[0m \u001b[0mnumpy\u001b[0m \u001b[0;32mas\u001b[0m \u001b[0mnp\u001b[0m\u001b[0;34m\u001b[0m\u001b[0;34m\u001b[0m\u001b[0m\n\u001b[1;32m      5\u001b[0m \u001b[0;34m\u001b[0m\u001b[0m\n",
      "\u001b[0;31mModuleNotFoundError\u001b[0m: No module named 'skimage'"
     ]
    }
   ],
   "source": [
    "# keras.utils.Sequence 객체를 입력으로 사용하기.\n",
    "from skimage.io import imread\n",
    "from skimage.transform import resize\n",
    "import numpy as np\n",
    "\n",
    "class CIFAR10Sequence(Sequence):\n",
    "    def __init__(self, filenames, labels, batch_size):\n",
    "        self.filenames, self.labels = filenames, labels\n",
    "        self.batch_size = batch_size\n",
    "    \n",
    "    def __len__(self):\n",
    "        return int(np.ceil(len(self.filenames) / float(self.batch_size)))\n",
    "    \n",
    "    def __getitem__(self, idx):\n",
    "        batch_x = self.filenames[idx * self.batch_size:(idx + 1) * self.batch_size]\n",
    "        batch_y = self.labels[idx * self.batch_size:(idx + 1) * self.batch_size]\n",
    "        return np.array([\n",
    "            resize(imread(filename), (200, 200))\n",
    "            for filename in batch_x]), np.array(batch_y)\n",
    "\n",
    "sequence = CIFAR10Sequence(filenames, labels, batch_size)\n",
    "model.fit(sequence, epochs=10)\n"
   ]
  },
  {
   "cell_type": "code",
   "execution_count": 60,
   "id": "49e9d6a0",
   "metadata": {},
   "outputs": [
    {
     "name": "stdout",
     "output_type": "stream",
     "text": [
      "Fit with class weight\n",
      "WARNING:tensorflow:From /Users/jk/setup/anaconda3/envs/python_pro2net/lib/python3.8/site-packages/tensorflow/python/ops/array_ops.py:5043: calling gather (from tensorflow.python.ops.array_ops) with validate_indices is deprecated and will be removed in a future version.\n",
      "Instructions for updating:\n",
      "The `validate_indices` argument has no effect. Indices are always validated on CPU and never validated on GPU.\n",
      "782/782 [==============================] - 1s 1ms/step - loss: 0.3775 - sparse_categorical_accuracy: 0.9004\n"
     ]
    },
    {
     "data": {
      "text/plain": [
       "<tensorflow.python.keras.callbacks.History at 0x7f9240575040>"
      ]
     },
     "execution_count": 60,
     "metadata": {},
     "output_type": "execute_result"
    }
   ],
   "source": [
    "import numpy as np\n",
    "\n",
    "class_weight = {\n",
    "    0: 1.0,\n",
    "    1: 1.0,\n",
    "    2: 1.0,\n",
    "    3: 1.0,\n",
    "    4: 1.0,\n",
    "    5: 2.0,\n",
    "    6: 1.0,\n",
    "    7: 1.0,\n",
    "    8: 1.0,\n",
    "    9: 1.0,\n",
    "}\n",
    "\n",
    "print(\"Fit with class weight\")\n",
    "model = get_compiled_model()\n",
    "model.fit(x_train, y_train, class_weight=class_weight, batch_size=64, epochs=1)"
   ]
  },
  {
   "cell_type": "code",
   "execution_count": 62,
   "id": "2619bc72",
   "metadata": {},
   "outputs": [
    {
     "name": "stdout",
     "output_type": "stream",
     "text": [
      "Fit with sample weight\n",
      "782/782 [==============================] - 1s 955us/step - loss: 0.3656 - sparse_categorical_accuracy: 0.9035\n"
     ]
    },
    {
     "data": {
      "text/plain": [
       "<tensorflow.python.keras.callbacks.History at 0x7f921113a790>"
      ]
     },
     "execution_count": 62,
     "metadata": {},
     "output_type": "execute_result"
    }
   ],
   "source": [
    "sample_weight = np.ones(shape=(len(y_train),))\n",
    "sample_weight[y_train == 5] = 2.0\n",
    "\n",
    "print(\"Fit with sample weight\")\n",
    "model = get_compiled_model()\n",
    "model.fit(x_train, y_train, sample_weight=sample_weight, batch_size=64, epochs=1)"
   ]
  },
  {
   "cell_type": "code",
   "execution_count": 64,
   "id": "d3ac76ea",
   "metadata": {},
   "outputs": [
    {
     "name": "stdout",
     "output_type": "stream",
     "text": [
      "782/782 [==============================] - 2s 1ms/step - loss: 0.3829 - sparse_categorical_accuracy: 0.8972\n"
     ]
    },
    {
     "data": {
      "text/plain": [
       "<tensorflow.python.keras.callbacks.History at 0x7f921144fa60>"
      ]
     },
     "execution_count": 64,
     "metadata": {},
     "output_type": "execute_result"
    }
   ],
   "source": [
    "sample_weight = np.ones(shape=(len(y_train),))\n",
    "sample_weight[y_train == 5] = 2.0\n",
    "\n",
    "train_dataset = tf.data.Dataset.from_tensor_slices((x_train, y_train, sample_weight))\n",
    "\n",
    "train_dataset = train_dataset.shuffle(buffer_size=len(x_train)).batch(64)\n",
    "\n",
    "model = get_compiled_model()\n",
    "model.fit(train_dataset, epochs=1)"
   ]
  },
  {
   "cell_type": "code",
   "execution_count": 67,
   "id": "24b6ff3e",
   "metadata": {
    "scrolled": true
   },
   "outputs": [],
   "source": [
    "# 다중 입력 및 출력\n",
    "\n",
    "image_input = keras.Input(shape=(32, 32, 3), name=\"img_input\")\n",
    "timeseries_input = keras.Input(shape=(None, 10), name=\"ts_input\")\n",
    "\n",
    "x1 = layers.Conv2D(3, 3)(image_input)\n",
    "x1 = layers.GlobalMaxPooling2D()(x1)\n",
    "\n",
    "x2 = layers.Conv1D(3, 3)(timeseries_input)\n",
    "x2 = layers.GlobalMaxPooling1D()(x2)\n",
    "\n",
    "x = layers.concatenate([x1, x2])\n",
    "\n",
    "score_output = layers.Dense(1, name=\"score_output\")(x)\n",
    "class_output = layers.Dense(5, name=\"class_output\")(x)\n",
    "\n",
    "model = keras.Model(\n",
    "    inputs = [image_input, timeseries_input], outputs=[score_output, class_output]\n",
    ")"
   ]
  },
  {
   "cell_type": "code",
   "execution_count": 71,
   "id": "b965bb8f",
   "metadata": {},
   "outputs": [
    {
     "data": {
      "image/png": "[encoded data removed]",
      "text/plain": [
       "<IPython.core.display.Image object>"
      ]
     },
     "execution_count": 71,
     "metadata": {},
     "output_type": "execute_result"
    }
   ],
   "source": [
    "keras.utils.plot_model(model, show_shapes=True)"
   ]
  },
  {
   "cell_type": "code",
   "execution_count": 74,
   "id": "63a949d4",
   "metadata": {},
   "outputs": [],
   "source": [
    "model.compile(\n",
    "    optimizer=keras.optimizers.RMSprop(1e-3),\n",
    "    loss={\n",
    "        \"score_output\" : keras.losses.MeanSquaredError(), \n",
    "        \"class_output\" : keras.losses.CategoricalCrossentropy()\n",
    "    },\n",
    "    \n",
    "    metrics={\n",
    "        \"score_output\" : [\n",
    "            keras.metrics.MeanAbsolutePercentageError(),\n",
    "            keras.metrics.MeanAbsoluteError(),\n",
    "        ],\n",
    "        \"class_output\" : [keras.metrics.CategoricalAccuracy()],\n",
    "    },\n",
    "    loss_weights={\"score_output\": 2.0, \"class_output\": 1.0},\n",
    ")"
   ]
  },
  {
   "cell_type": "code",
   "execution_count": 75,
   "id": "3971dfaa",
   "metadata": {},
   "outputs": [
    {
     "name": "stdout",
     "output_type": "stream",
     "text": [
      "4/4 [==============================] - 1s 5ms/step - loss: 25.2296 - score_output_loss: 3.6016 - class_output_loss: 18.0264 - score_output_mean_absolute_percentage_error: 2101.9856 - score_output_mean_absolute_error: 1.8648 - class_output_categorical_accuracy: 0.2000\n"
     ]
    },
    {
     "data": {
      "text/plain": [
       "<tensorflow.python.keras.callbacks.History at 0x7f9213082490>"
      ]
     },
     "execution_count": 75,
     "metadata": {},
     "output_type": "execute_result"
    }
   ],
   "source": [
    "img_data = np.random.random_sample(size=(100, 32, 32, 3))\n",
    "ts_data = np.random.random_sample(size=(100, 20, 10))\n",
    "score_targets = np.random.random_sample(size=(100, 1))\n",
    "class_targets = np.random.random_sample(size=(100, 5))\n",
    "\n",
    "model.fit(\n",
    "    {\"img_input\": img_data, \"ts_input\": ts_data},\n",
    "    {\"score_output\": score_targets, \"class_output\": class_targets},\n",
    "    batch_size=32,\n",
    "    epochs=1,\n",
    ")"
   ]
  },
  {
   "cell_type": "code",
   "execution_count": 76,
   "id": "753103c6",
   "metadata": {},
   "outputs": [
    {
     "name": "stdout",
     "output_type": "stream",
     "text": [
      "2/2 [==============================] - 1s 11ms/step - loss: 22.8952 - score_output_loss: 2.5058 - class_output_loss: 17.8836 - score_output_mean_absolute_percentage_error: 1600.5741 - score_output_mean_absolute_error: 1.5481 - class_output_categorical_accuracy: 0.2200\n"
     ]
    },
    {
     "data": {
      "text/plain": [
       "<tensorflow.python.keras.callbacks.History at 0x7f9211391970>"
      ]
     },
     "execution_count": 76,
     "metadata": {},
     "output_type": "execute_result"
    }
   ],
   "source": [
    "train_dataset = tf.data.Dataset.from_tensor_slices(\n",
    "    (\n",
    "        {\"img_input\": img_data, \"ts_input\": ts_data},\n",
    "        {\"score_output\": score_targets, \"class_output\": class_targets},\n",
    "    )\n",
    ")\n",
    "\n",
    "train_dataset = train_dataset.shuffle(buffer_size=1024).batch(64)\n",
    "\n",
    "model.fit(train_dataset, epochs=1)"
   ]
  },
  {
   "cell_type": "code",
   "execution_count": 78,
   "id": "ebea95f7",
   "metadata": {},
   "outputs": [
    {
     "name": "stdout",
     "output_type": "stream",
     "text": [
      "Epoch 1/20\n",
      "625/625 [==============================] - 1s 1ms/step - loss: 0.3705 - sparse_categorical_accuracy: 0.8941 - val_loss: 0.2252 - val_sparse_categorical_accuracy: 0.9332\n",
      "Epoch 2/20\n",
      "625/625 [==============================] - 1s 1ms/step - loss: 0.1740 - sparse_categorical_accuracy: 0.9487 - val_loss: 0.1755 - val_sparse_categorical_accuracy: 0.9476\n",
      "Epoch 3/20\n",
      "625/625 [==============================] - 1s 1ms/step - loss: 0.1236 - sparse_categorical_accuracy: 0.9631 - val_loss: 0.1542 - val_sparse_categorical_accuracy: 0.9537\n",
      "Epoch 4/20\n",
      "625/625 [==============================] - 1s 1ms/step - loss: 0.0964 - sparse_categorical_accuracy: 0.9701 - val_loss: 0.1488 - val_sparse_categorical_accuracy: 0.9541\n",
      "Epoch 5/20\n",
      "625/625 [==============================] - 1s 1ms/step - loss: 0.0799 - sparse_categorical_accuracy: 0.9761 - val_loss: 0.1308 - val_sparse_categorical_accuracy: 0.9611\n",
      "Epoch 6/20\n",
      "625/625 [==============================] - 1s 1ms/step - loss: 0.0674 - sparse_categorical_accuracy: 0.9795 - val_loss: 0.1398 - val_sparse_categorical_accuracy: 0.9588\n",
      "Epoch 7/20\n",
      "625/625 [==============================] - 1s 1ms/step - loss: 0.0582 - sparse_categorical_accuracy: 0.9825 - val_loss: 0.1322 - val_sparse_categorical_accuracy: 0.9622\n",
      "Epoch 00007: early stopping\n"
     ]
    },
    {
     "data": {
      "text/plain": [
       "<tensorflow.python.keras.callbacks.History at 0x7f92120c05e0>"
      ]
     },
     "execution_count": 78,
     "metadata": {},
     "output_type": "execute_result"
    }
   ],
   "source": [
    "# callback 사용하기\n",
    "model = get_compiled_model()\n",
    "\n",
    "callbacks = [\n",
    "    keras.callbacks.EarlyStopping(\n",
    "        monitor=\"val_loss\",\n",
    "        min_delta=1e-2,\n",
    "        patience=2,\n",
    "        verbose=1,\n",
    "    )\n",
    "    \n",
    "]\n",
    "\n",
    "model.fit(\n",
    "    x_train,\n",
    "    y_train,\n",
    "    epochs=20,\n",
    "    batch_size=64,\n",
    "    callbacks=callbacks,\n",
    "    validation_split=0.2,\n",
    ")"
   ]
  },
  {
   "cell_type": "code",
   "execution_count": 79,
   "id": "2598a776",
   "metadata": {},
   "outputs": [],
   "source": [
    "# 자신만의 콜백 함수 작성\n",
    "\n",
    "class LossHistory(keras.callbacks.Callback):\n",
    "    def on_train_begin(self, logs):\n",
    "        self.per_batch_losses = []\n",
    "        \n",
    "    def on_batch_end(self, batch, logs):\n",
    "        self.per_batch_losses.append(logs.get(\"loss\"))\n"
   ]
  },
  {
   "cell_type": "code",
   "execution_count": 80,
   "id": "cc8dd3c7",
   "metadata": {},
   "outputs": [
    {
     "name": "stdout",
     "output_type": "stream",
     "text": [
      "Epoch 1/2\n",
      "625/625 [==============================] - 1s 2ms/step - loss: 0.3632 - sparse_categorical_accuracy: 0.8974 - val_loss: 0.2371 - val_sparse_categorical_accuracy: 0.9308\n",
      "\n",
      "Epoch 00001: val_loss improved from inf to 0.23712, saving model to mymodel_1\n",
      "INFO:tensorflow:Assets written to: mymodel_1/assets\n",
      "Epoch 2/2\n",
      "625/625 [==============================] - 1s 1ms/step - loss: 0.1733 - sparse_categorical_accuracy: 0.9480 - val_loss: 0.1988 - val_sparse_categorical_accuracy: 0.9381\n",
      "\n",
      "Epoch 00002: val_loss improved from 0.23712 to 0.19881, saving model to mymodel_2\n",
      "INFO:tensorflow:Assets written to: mymodel_2/assets\n"
     ]
    },
    {
     "data": {
      "text/plain": [
       "<tensorflow.python.keras.callbacks.History at 0x7f9213db2670>"
      ]
     },
     "execution_count": 80,
     "metadata": {},
     "output_type": "execute_result"
    }
   ],
   "source": [
    "# 모델 검사점 설정하기 - Modelcheckpoint\n",
    "\n",
    "model = get_compiled_model()\n",
    "\n",
    "callbacks = [\n",
    "    keras.callbacks.ModelCheckpoint(\n",
    "        filepath=\"mymodel_{epoch}\",\n",
    "        save_best_only=True,\n",
    "        monitor=\"val_loss\",\n",
    "        verbose=1,\n",
    "    )\n",
    "]\n",
    "\n",
    "model.fit(\n",
    "    x_train, y_train, epochs=2, batch_size=64, callbacks=callbacks, validation_split=0.2\n",
    ")"
   ]
  },
  {
   "cell_type": "code",
   "execution_count": 92,
   "id": "ebee80a5",
   "metadata": {},
   "outputs": [
    {
     "name": "stdout",
     "output_type": "stream",
     "text": [
      "['./ckpt/ckpt-loss=0.30', './ckpt/ckpt-loss=0.37', './ckpt/ckpt-loss=0.08', './ckpt/ckpt-loss=0.39', './ckpt/ckpt-loss=0.09', './ckpt/ckpt-loss=0.31', './ckpt/ckpt-loss=0.14', './ckpt/ckpt-loss=0.46', './ckpt/ckpt-loss=0.41', './ckpt/ckpt-loss=0.15', './ckpt/ckpt-loss=0.94', './ckpt/ckpt-loss=0.34', './ckpt/ckpt-loss=0.33', './ckpt/ckpt-loss=0.50', './ckpt/ckpt-loss=0.68', './ckpt/ckpt-loss=0.57', './ckpt/ckpt-loss=0.32', './ckpt/ckpt-loss=0.35', './ckpt/ckpt-loss=0.10', './ckpt/ckpt-loss=0.43', './ckpt/ckpt-loss=0.11', './ckpt/ckpt-loss=0.16']\n",
      "Restoring from ./ckpt/ckpt-loss=0.09\n",
      "  99/1563 [>.............................] - ETA: 2s - loss: 0.0787 - sparse_categorical_accuracy: 0.9754 INFO:tensorflow:Assets written to: ./ckpt/ckpt-loss=0.08/assets\n",
      " 186/1563 [==>...........................] - ETA: 5s - loss: 0.0806 - sparse_categorical_accuracy: 0.9745INFO:tensorflow:Assets written to: ./ckpt/ckpt-loss=0.08/assets\n",
      " 291/1563 [====>.........................] - ETA: 5s - loss: 0.0817 - sparse_categorical_accuracy: 0.9756INFO:tensorflow:Assets written to: ./ckpt/ckpt-loss=0.08/assets\n",
      " 395/1563 [======>.......................] - ETA: 7s - loss: 0.0781 - sparse_categorical_accuracy: 0.9771INFO:tensorflow:Assets written to: ./ckpt/ckpt-loss=0.08/assets\n",
      " 489/1563 [========>.....................] - ETA: 6s - loss: 0.0761 - sparse_categorical_accuracy: 0.9780INFO:tensorflow:Assets written to: ./ckpt/ckpt-loss=0.08/assets\n",
      " 596/1563 [==========>...................] - ETA: 5s - loss: 0.0765 - sparse_categorical_accuracy: 0.9778INFO:tensorflow:Assets written to: ./ckpt/ckpt-loss=0.08/assets\n",
      " 683/1563 [============>.................] - ETA: 5s - loss: 0.0769 - sparse_categorical_accuracy: 0.9778INFO:tensorflow:Assets written to: ./ckpt/ckpt-loss=0.08/assets\n",
      " 773/1563 [=============>................] - ETA: 4s - loss: 0.0751 - sparse_categorical_accuracy: 0.9780INFO:tensorflow:Assets written to: ./ckpt/ckpt-loss=0.08/assets\n",
      " 884/1563 [===============>..............] - ETA: 3s - loss: 0.0763 - sparse_categorical_accuracy: 0.9782INFO:tensorflow:Assets written to: ./ckpt/ckpt-loss=0.08/assets\n",
      " 968/1563 [=================>............] - ETA: 3s - loss: 0.0753 - sparse_categorical_accuracy: 0.9782INFO:tensorflow:Assets written to: ./ckpt/ckpt-loss=0.08/assets\n",
      "1077/1563 [===================>..........] - ETA: 2s - loss: 0.0762 - sparse_categorical_accuracy: 0.9778INFO:tensorflow:Assets written to: ./ckpt/ckpt-loss=0.08/assets\n",
      "1199/1563 [======================>.......] - ETA: 2s - loss: 0.0776 - sparse_categorical_accuracy: 0.9775INFO:tensorflow:Assets written to: ./ckpt/ckpt-loss=0.08/assets\n",
      "1285/1563 [=======================>......] - ETA: 1s - loss: 0.0769 - sparse_categorical_accuracy: 0.9776INFO:tensorflow:Assets written to: ./ckpt/ckpt-loss=0.08/assets\n",
      "1385/1563 [=========================>....] - ETA: 1s - loss: 0.0774 - sparse_categorical_accuracy: 0.9776INFO:tensorflow:Assets written to: ./ckpt/ckpt-loss=0.08/assets\n",
      "1476/1563 [===========================>..] - ETA: 0s - loss: 0.0772 - sparse_categorical_accuracy: 0.9776INFO:tensorflow:Assets written to: ./ckpt/ckpt-loss=0.08/assets\n",
      "1563/1563 [==============================] - 10s 6ms/step - loss: 0.0771 - sparse_categorical_accuracy: 0.9776\n"
     ]
    },
    {
     "data": {
      "text/plain": [
       "<tensorflow.python.keras.callbacks.History at 0x7f921d6c7b50>"
      ]
     },
     "execution_count": 92,
     "metadata": {},
     "output_type": "execute_result"
    }
   ],
   "source": [
    "import os\n",
    "\n",
    "checkpoint_dir = \"./ckpt\"\n",
    "if not os.path.exists(checkpoint_dir):\n",
    "    os.makedirs(checkpoint_dir)\n",
    "    \n",
    "def make_or_restore_model():\n",
    "    checkpoints = [checkpoint_dir + \"/\" + name for name in os.listdir(checkpoint_dir)]\n",
    "    print(checkpoints)\n",
    "    if checkpoints:\n",
    "        latest_checkpoint = max(checkpoints, key=os.path.getctime)\n",
    "        print(\"Restoring from\", latest_checkpoint)\n",
    "        return keras.models.load_model(latest_checkpoint)\n",
    "    print(\"Creating a new model\")\n",
    "    return get_compiled_model()\n",
    "\n",
    "model = make_or_restore_model()\n",
    "callbacks = [\n",
    "    keras.callbacks.ModelCheckpoint(\n",
    "        filepath=checkpoint_dir + \"/ckpt-loss={loss:.2f}\", save_freq=100\n",
    "    ), keras.callbacks.TensorBoard(\n",
    "    log_dir=\"./tensorboard_log\",\n",
    "    histogram_freq=0,\n",
    "    embeddings_freq=0,\n",
    "    update_freq=\"epoch\",\n",
    ")\n",
    "]\n",
    "model.fit(x_train, y_train, epochs=1, callbacks=callbacks)"
   ]
  },
  {
   "cell_type": "code",
   "execution_count": 89,
   "id": "5116d236",
   "metadata": {},
   "outputs": [],
   "source": [
    "initial_learning_rate = 0.1\n",
    "lr_schedule = keras.optimizers.schedules.ExponentialDecay(\n",
    "    initial_learning_rate, decay_steps=100000, decay_rate=0.96, staircase=True\n",
    ")\n",
    "\n",
    "optimizer = keras.optimizers.RMSprop(learning_rate=lr_schedule)"
   ]
  },
  {
   "cell_type": "code",
   "execution_count": 90,
   "id": "c7923c03",
   "metadata": {},
   "outputs": [
    {
     "ename": "ValueError",
     "evalue": "Unrecognized arguments in `TensorBoard` Callback: {'embeddigs_freq'}",
     "output_type": "error",
     "traceback": [
      "\u001b[0;31m---------------------------------------------------------------------------\u001b[0m",
      "\u001b[0;31mValueError\u001b[0m                                Traceback (most recent call last)",
      "\u001b[0;32m<ipython-input-90-c44bad92740f>\u001b[0m in \u001b[0;36m<module>\u001b[0;34m\u001b[0m\n\u001b[1;32m      1\u001b[0m \u001b[0;31m# tensorboard 콜백 사용하기\u001b[0m\u001b[0;34m\u001b[0m\u001b[0;34m\u001b[0m\u001b[0;34m\u001b[0m\u001b[0m\n\u001b[1;32m      2\u001b[0m \u001b[0;34m\u001b[0m\u001b[0m\n\u001b[0;32m----> 3\u001b[0;31m keras.callbacks.TensorBoard(\n\u001b[0m\u001b[1;32m      4\u001b[0m     \u001b[0mlog_dir\u001b[0m\u001b[0;34m=\u001b[0m\u001b[0;34m\"./tensorboard_log\"\u001b[0m\u001b[0;34m,\u001b[0m\u001b[0;34m\u001b[0m\u001b[0;34m\u001b[0m\u001b[0m\n\u001b[1;32m      5\u001b[0m     \u001b[0mhistogram_freq\u001b[0m\u001b[0;34m=\u001b[0m\u001b[0;36m0\u001b[0m\u001b[0;34m,\u001b[0m\u001b[0;34m\u001b[0m\u001b[0;34m\u001b[0m\u001b[0m\n",
      "\u001b[0;32m~/setup/anaconda3/envs/python_pro2net/lib/python3.8/site-packages/tensorflow/python/keras/callbacks.py\u001b[0m in \u001b[0;36m__init__\u001b[0;34m(self, log_dir, histogram_freq, write_graph, write_images, write_steps_per_second, update_freq, profile_batch, embeddings_freq, embeddings_metadata, **kwargs)\u001b[0m\n\u001b[1;32m   2144\u001b[0m     \u001b[0msuper\u001b[0m\u001b[0;34m(\u001b[0m\u001b[0mTensorBoard\u001b[0m\u001b[0;34m,\u001b[0m \u001b[0mself\u001b[0m\u001b[0;34m)\u001b[0m\u001b[0;34m.\u001b[0m\u001b[0m__init__\u001b[0m\u001b[0;34m(\u001b[0m\u001b[0;34m)\u001b[0m\u001b[0;34m\u001b[0m\u001b[0;34m\u001b[0m\u001b[0m\n\u001b[1;32m   2145\u001b[0m     \u001b[0mself\u001b[0m\u001b[0;34m.\u001b[0m\u001b[0m_supports_tf_logs\u001b[0m \u001b[0;34m=\u001b[0m \u001b[0;32mTrue\u001b[0m\u001b[0;34m\u001b[0m\u001b[0;34m\u001b[0m\u001b[0m\n\u001b[0;32m-> 2146\u001b[0;31m     \u001b[0mself\u001b[0m\u001b[0;34m.\u001b[0m\u001b[0m_validate_kwargs\u001b[0m\u001b[0;34m(\u001b[0m\u001b[0mkwargs\u001b[0m\u001b[0;34m)\u001b[0m\u001b[0;34m\u001b[0m\u001b[0;34m\u001b[0m\u001b[0m\n\u001b[0m\u001b[1;32m   2147\u001b[0m \u001b[0;34m\u001b[0m\u001b[0m\n\u001b[1;32m   2148\u001b[0m     \u001b[0mself\u001b[0m\u001b[0;34m.\u001b[0m\u001b[0mlog_dir\u001b[0m \u001b[0;34m=\u001b[0m \u001b[0mpath_to_string\u001b[0m\u001b[0;34m(\u001b[0m\u001b[0mlog_dir\u001b[0m\u001b[0;34m)\u001b[0m\u001b[0;34m\u001b[0m\u001b[0;34m\u001b[0m\u001b[0m\n",
      "\u001b[0;32m~/setup/anaconda3/envs/python_pro2net/lib/python3.8/site-packages/tensorflow/python/keras/callbacks.py\u001b[0m in \u001b[0;36m_validate_kwargs\u001b[0;34m(self, kwargs)\u001b[0m\n\u001b[1;32m   2191\u001b[0m     \u001b[0;31m# Only allow kwargs that were supported in V1.\u001b[0m\u001b[0;34m\u001b[0m\u001b[0;34m\u001b[0m\u001b[0;34m\u001b[0m\u001b[0m\n\u001b[1;32m   2192\u001b[0m     \u001b[0;32mif\u001b[0m \u001b[0munrecognized_kwargs\u001b[0m\u001b[0;34m:\u001b[0m\u001b[0;34m\u001b[0m\u001b[0;34m\u001b[0m\u001b[0m\n\u001b[0;32m-> 2193\u001b[0;31m       raise ValueError('Unrecognized arguments in `TensorBoard` '\n\u001b[0m\u001b[1;32m   2194\u001b[0m                        'Callback: ' + str(unrecognized_kwargs))\n\u001b[1;32m   2195\u001b[0m \u001b[0;34m\u001b[0m\u001b[0m\n",
      "\u001b[0;31mValueError\u001b[0m: Unrecognized arguments in `TensorBoard` Callback: {'embeddigs_freq'}"
     ]
    }
   ],
   "source": [
    "# tensorboard 콜백 사용하기\n",
    "\n",
    "keras.callbacks.TensorBoard(\n",
    "    log_dir=\"./tensorboard_log\",\n",
    "    histogram_freq=0,\n",
    "    embeddings_freq=0,\n",
    "    update_freq=\"epoch\",\n",
    ")"
   ]
  },
  {
   "cell_type": "code",
   "execution_count": null,
   "id": "ec95a457",
   "metadata": {},
   "outputs": [],
   "source": []
  }
 ],
 "metadata": {
  "kernelspec": {
   "display_name": "Python 3",
   "language": "python",
   "name": "python3"
  },
  "language_info": {
   "codemirror_mode": {
    "name": "ipython",
    "version": 3
   },
   "file_extension": ".py",
   "mimetype": "text/x-python",
   "name": "python",
   "nbconvert_exporter": "python",
   "pygments_lexer": "ipython3",
   "version": "3.8.2"
  }
 },
 "nbformat": 4,
 "nbformat_minor": 5
}
