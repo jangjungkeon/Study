{
 "cells": [
  {
   "cell_type": "code",
   "execution_count": 1,
   "id": "65b14a65",
   "metadata": {},
   "outputs": [],
   "source": [
    "import numpy as np\n",
    "import tensorflow as tf\n",
    "from tensorflow import keras"
   ]
  },
  {
   "cell_type": "code",
   "execution_count": 2,
   "id": "4de80d9a",
   "metadata": {},
   "outputs": [
    {
     "name": "stdout",
     "output_type": "stream",
     "text": [
      "4/4 [==============================] - 0s 1ms/step - loss: 0.3222\n",
      "INFO:tensorflow:Assets written to: my_model/assets\n",
      "4/4 [==============================] - 0s 1ms/step - loss: 0.2791\n"
     ]
    },
    {
     "data": {
      "text/plain": [
       "<tensorflow.python.keras.callbacks.History at 0x7f7f1a438f70>"
      ]
     },
     "execution_count": 2,
     "metadata": {},
     "output_type": "execute_result"
    }
   ],
   "source": [
    "# SavedModel 형식\n",
    "\n",
    "def get_model():\n",
    "    inputs = keras.Input(shape=(32,))\n",
    "    outputs = keras.layers.Dense(1)(inputs)\n",
    "    model = keras.Model(inputs, outputs)\n",
    "    model.compile(optimizer=\"adam\", loss=\"mean_squared_error\")\n",
    "    return model\n",
    "\n",
    "model = get_model()\n",
    "\n",
    "test_input = np.random.random((128, 32))\n",
    "test_target = np.random.random((128, 1))\n",
    "model.fit(test_input, test_target)\n",
    "\n",
    "model.save(\"my_model\")\n",
    "\n",
    "reconstructed_model = keras.models.load_model(\"my_model\")\n",
    "\n",
    "# model, reconstructed_model의 추론값을 비교할 때 사용. assert_allclose\n",
    "np.testing.assert_allclose(\n",
    "    model.predict(test_input), reconstructed_model.predict(test_input)\n",
    ")\n",
    "\n",
    "reconstructed_model.fit(test_input, test_target)"
   ]
  },
  {
   "cell_type": "markdown",
   "id": "884807bf",
   "metadata": {},
   "source": [
    "## SavedModel에 포함되는 것\n",
    "\n",
    "### assets\n",
    "   \n",
    "\n",
    "### svaed_model.pb\n",
    "모델 아키텍쳐 및 훈련 구성(옵티마이저, 손실 및 메트릭 포함)이 포함됨.\n",
    "\n",
    "### variables\n",
    "가중치가 저장"
   ]
  },
  {
   "cell_type": "code",
   "execution_count": 3,
   "id": "f33acbac",
   "metadata": {},
   "outputs": [
    {
     "name": "stdout",
     "output_type": "stream",
     "text": [
      "INFO:tensorflow:Assets written to: my_model/assets\n",
      "WARNING:tensorflow:No training configuration found in save file, so the model was *not* compiled. Compile it manually.\n",
      "Orinal model: <__main__.CustomModel object at 0x7f7f17170c70>\n",
      "Loaded model: <tensorflow.python.keras.saving.saved_model.load.CustomModel object at 0x7f7f1a4fa310>\n"
     ]
    }
   ],
   "source": [
    "# SavedModel이 사용자 정의 객체를 처리하는 방법\n",
    "\n",
    "class CustomModel(keras.Model):\n",
    "    def __init__(self, hidden_units):\n",
    "        super(CustomModel, self).__init__()\n",
    "        self.dense_layers = [keras.layers.Dense(u) for u in hidden_units]\n",
    "    \n",
    "    def call(self, inputs):\n",
    "        x = inputs\n",
    "        for layer in self.dense_layers:\n",
    "            x = layer(x)\n",
    "        return x\n",
    "    \n",
    "    \n",
    "model = CustomModel([16, 16, 10])\n",
    "input_arr = tf.random.uniform((1, 5))\n",
    "outputs = model(input_arr)\n",
    "model.save(\"my_model\")\n",
    "\n",
    "del CustomModel\n",
    "\n",
    "loaded = keras.models.load_model(\"my_model\")\n",
    "np.testing.assert_allclose(loaded(input_arr), outputs)\n",
    "\n",
    "print(\"Orinal model:\", model)\n",
    "print(\"Loaded model:\", loaded)"
   ]
  },
  {
   "cell_type": "code",
   "execution_count": 4,
   "id": "106fc1c2",
   "metadata": {},
   "outputs": [
    {
     "name": "stdout",
     "output_type": "stream",
     "text": [
      "4/4 [==============================] - 0s 1ms/step - loss: 0.4562\n",
      "4/4 [==============================] - 0s 938us/step - loss: 0.4008\n"
     ]
    },
    {
     "data": {
      "text/plain": [
       "<tensorflow.python.keras.callbacks.History at 0x7f7f1ab75d30>"
      ]
     },
     "execution_count": 4,
     "metadata": {},
     "output_type": "execute_result"
    }
   ],
   "source": [
    "model = get_model()\n",
    "\n",
    "test_input = np.random.random((128, 32))\n",
    "test_target = np.random.random((128, 1))\n",
    "model.fit(test_input, test_target)\n",
    "\n",
    "model.save(\"my_h5_model.h5\")\n",
    "\n",
    "reconstructed_model = keras.models.load_model(\"my_h5_model.h5\")\n",
    "\n",
    "np.testing.assert_allclose(\n",
    "    model.predict(test_input), reconstructed_model.predict(test_input)\n",
    ")\n",
    "\n",
    "reconstructed_model.fit(test_input, test_target)"
   ]
  },
  {
   "cell_type": "code",
   "execution_count": 5,
   "id": "c252c8c2",
   "metadata": {},
   "outputs": [
    {
     "name": "stdout",
     "output_type": "stream",
     "text": [
      "{'name': 'dense_5', 'trainable': True, 'dtype': 'float32', 'units': 3, 'activation': 'relu', 'use_bias': True, 'kernel_initializer': {'class_name': 'GlorotUniform', 'config': {'seed': None}}, 'bias_initializer': {'class_name': 'Zeros', 'config': {}}, 'kernel_regularizer': None, 'bias_regularizer': None, 'activity_regularizer': None, 'kernel_constraint': None, 'bias_constraint': None}\n"
     ]
    }
   ],
   "source": [
    "# 레이어 예제\n",
    "layer = keras.layers.Dense(3, activation=\"relu\")\n",
    "layer_config = layer.get_config()\n",
    "print(layer_config)\n",
    "new_layer = keras.layers.Dense.from_config(layer_config)"
   ]
  },
  {
   "cell_type": "code",
   "execution_count": 6,
   "id": "7bd393d8",
   "metadata": {},
   "outputs": [
    {
     "name": "stdout",
     "output_type": "stream",
     "text": [
      "WARNING:tensorflow:Please add `keras.layers.InputLayer` instead of `keras.Input` to Sequential model. `keras.Input` is intended to be used by Functional model.\n"
     ]
    }
   ],
   "source": [
    "# Sequential 모델 예제\n",
    "model = keras.Sequential([keras.Input((32, )), keras.layers.Dense(1)])\n",
    "# 직렬화\n",
    "config = model.get_config()\n",
    "# 역직렬화\n",
    "new_model = keras.Sequential.from_config(config)"
   ]
  },
  {
   "cell_type": "code",
   "execution_count": 7,
   "id": "a6d8330f",
   "metadata": {},
   "outputs": [],
   "source": [
    "# Functional 모델 예제\n",
    "inputs = keras.Input((32,))\n",
    "outputs = keras.layers.Dense(1)(inputs)\n",
    "model = keras.Model(inputs, outputs)\n",
    "config = model.get_config()\n",
    "new_model = keras.Model.from_config(config)"
   ]
  },
  {
   "cell_type": "code",
   "execution_count": 8,
   "id": "48ff86fb",
   "metadata": {},
   "outputs": [
    {
     "name": "stdout",
     "output_type": "stream",
     "text": [
      "WARNING:tensorflow:Please add `keras.layers.InputLayer` instead of `keras.Input` to Sequential model. `keras.Input` is intended to be used by Functional model.\n"
     ]
    }
   ],
   "source": [
    "# to_json() 모델을 json 문자열로 변환한 다음 기존 모델 클래스 없이 로드할 수 있다. 모델용이며, 레이어용은 아님.\n",
    "model = keras.Sequential([keras.Input((32, )), keras.layers.Dense(1)])\n",
    "json_config = model.to_json()\n",
    "new_model = keras.models.model_from_json(json_config)"
   ]
  },
  {
   "cell_type": "code",
   "execution_count": 9,
   "id": "c93494ec",
   "metadata": {},
   "outputs": [
    {
     "name": "stdout",
     "output_type": "stream",
     "text": [
      "WARNING:tensorflow:Compiled the loaded model, but the compiled metrics have yet to be built. `model.compile_metrics` will be empty until you train or evaluate the model.\n",
      "INFO:tensorflow:Assets written to: my_model/assets\n"
     ]
    }
   ],
   "source": [
    "# tensorflow 그래프만 로딩하기\n",
    "'''\n",
    "이 메서드의 몇가지 단점.\n",
    " - 사용하기 어렵다.\n",
    "사용을 권장하지는 않지만, 사용자 정의 객체의 코드를 잃어버렸거나 tf.keras.models.load_model() 모델을 로드하는데 문제가 있는 경우에 유용.\n",
    "'''\n",
    "\n",
    "model.save(\"my_model\")\n",
    "tensorflow_graph = tf.saved_model.load(\"my_model\")\n",
    "x = np.random.uniform(size=(4, 32)).astype(np.float32)\n",
    "predicted = tensorflow_graph(x).numpy()"
   ]
  },
  {
   "cell_type": "code",
   "execution_count": 10,
   "id": "4e0b9ecb",
   "metadata": {},
   "outputs": [],
   "source": [
    "class CustomLayer(keras.layers.Layer):\n",
    "    def __init__(self, a):\n",
    "        self.var = tf.Variable(a, name=\"var_a\")\n",
    "    \n",
    "    def call(self, inputs, training=False):\n",
    "        if training:\n",
    "            return inputs * self.var\n",
    "        else:\n",
    "            return inputs\n",
    "    \n",
    "    def get_config(self):\n",
    "        return {\"a\": self.var.numpy()}\n",
    "    \n",
    "    \n",
    "    @classmethod\n",
    "    def from_config(cls, config):\n",
    "        return cls(**config)\n",
    "    \n",
    "\n",
    "layer = CustomLayer(5)\n",
    "layer.var.assign(2)\n",
    "\n",
    "serialized_layer = keras.layers.serialize(layer)\n",
    "new_layer = keras.layers.deserialize(\n",
    "    serialized_layer, custom_objects={\"CustomLayer\": CustomLayer}\n",
    ")\n"
   ]
  },
  {
   "cell_type": "code",
   "execution_count": 11,
   "id": "b8cf288e",
   "metadata": {},
   "outputs": [],
   "source": [
    "# 사용자 정의 클래스 등록. \n",
    "\n",
    "class CustomLayer(keras.layers.Layer):\n",
    "    def __init__(self, units=32, **kwargs):\n",
    "        super(CustomLayer, self).__init__(**kwargs)\n",
    "        self.units = units\n",
    "    \n",
    "    def build(self, input_shape):\n",
    "        self.w = self.add_weight(\n",
    "            shape=(input_shape[-1], self.units),\n",
    "            initializer=\"random_normal\",\n",
    "            trainable=True\n",
    "        )\n",
    "        self.b = self.add_weight(\n",
    "            shape=(self.units,), initializer=\"random_normal\", trainable=True\n",
    "        )\n",
    "        \n",
    "    def call(self, inputs):\n",
    "        return tf.matmul(inputs, self.w) + self.b\n",
    "\n",
    "    def get_config(self):\n",
    "        config = super(CustomLayer, self).get_config()\n",
    "        config.update({\"units\": self.units})\n",
    "        return config\n",
    "\n",
    "    \n",
    "def custom_activation(x):\n",
    "    return tf.nn.tanh(x) ** 2\n",
    "\n",
    "inputs = keras.Input((32,))\n",
    "x = CustomLayer(32)(inputs)\n",
    "outputs = keras.layers.Activation(custom_activation)(x)\n",
    "model = keras.Model(inputs, outputs)\n",
    "\n",
    "config = model.get_config()\n",
    "\n",
    "custom_objects = {\"CustomLayer\": CustomLayer, \"custom_activation\": custom_activation}\n",
    "with keras.utils.custom_object_scope(custom_objects):\n",
    "    new_model = keras.Model.from_config(config)"
   ]
  },
  {
   "cell_type": "code",
   "execution_count": 12,
   "id": "962a74c4",
   "metadata": {},
   "outputs": [],
   "source": [
    "# 메모리에서 레이어 간 가중치 전이하기\n",
    "def create_layer():\n",
    "    layer = keras.layers.Dense(64, activation=\"relu\", name=\"dense_2\")\n",
    "    layer.build((None, 784))\n",
    "    return layer\n",
    "\n",
    "layer_1 = create_layer()\n",
    "layer_2 = create_layer()\n",
    "\n",
    "layer_2.set_weights(layer_1.get_weights())"
   ]
  },
  {
   "cell_type": "code",
   "execution_count": 23,
   "id": "91aa6d53",
   "metadata": {},
   "outputs": [],
   "source": [
    "# 메모리에서 호환 가능한 아키텍쳐를 사용하여 모델 간 가중치 전이하기.\n",
    "\n",
    "inputs = keras.Input(shape=(784, ), name=\"digits\")\n",
    "x = keras.layers.Dense(64, activation=\"relu\", name=\"dense_1\")(inputs)\n",
    "x = keras.layers.Dense(64, activation=\"relu\", name=\"dense_2\")(x)\n",
    "outputs = keras.layers.Dense(10, name=\"predictions\")(x)\n",
    "functional_model = keras.Model(inputs=inputs, outputs=outputs, name=\"3_layer_mlp\")\n",
    "\n",
    "\n",
    "class SubclassedModel(keras.Model):\n",
    "    def __init__(self, output_dim, name=None):\n",
    "        super(SubclassedModel, self).__init__(name=name)\n",
    "        self.output_dim = output_dim\n",
    "        self.dense_1 = keras.layers.Dense(64, activation=\"relu\", name=\"dense_1\")\n",
    "        self.dense_2 = keras.layers.Dense(64, activation=\"relu\", name=\"dense_2\")\n",
    "        self.dense_3 = keras.layers.Dense(output_dim, name=\"predictions\")\n",
    "    \n",
    "    def call(self, inputs):\n",
    "        x = self.dense_1(inputs)\n",
    "        x = self.dense_2(x)\n",
    "        x = self.dense_3(x)\n",
    "        return x\n",
    "    \n",
    "    def get_config(self):\n",
    "        return {\"output_dim\": self.output_dim, \"name\": self.name}\n",
    "\n",
    "subclassed_model = SubclassedModel(10)\n",
    "subclassed_model(tf.ones((1, 784)))\n",
    "\n",
    "subclassed_model.set_weights(functional_model.get_weights())\n",
    "\n",
    "assert len(functional_model.weights) == len(subclassed_model.weights)\n",
    "# np.testing.assert_allclose(a, b) : a와 b가 동일하지 않으면 AssertionError를 일으킴 \n",
    "for a, b in zip(functional_model.weights, subclassed_model.weights):\n",
    "    np.testing.assert_allclose(a.numpy(), b.numpy())\n"
   ]
  },
  {
   "cell_type": "code",
   "execution_count": 25,
   "id": "f4de1834",
   "metadata": {},
   "outputs": [],
   "source": [
    "inputs = keras.Input(shape=(784,), name=\"digits\")\n",
    "x = keras.layers.Dense(64, activation=\"relu\", name=\"dense_1\")(inputs)\n",
    "x = keras.layers.Dense(64, activation=\"relu\", name=\"dense_2\")(x)\n",
    "outputs = keras.layers.Dense(10, name=\"predictions\")(x)\n",
    "functional_model = keras.Model(inputs=inputs, outputs=outputs, name=\"3_layer_mlp\")\n",
    "\n",
    "inputs = keras.Input(shape=(784, ), name=\"digits\")\n",
    "x = keras.layers.Dense(64, activation=\"relu\", name=\"dense_1\")(inputs)\n",
    "x = keras.layers.Dense(64, activation=\"relu\", name=\"dense_2\")(x)\n",
    "\n",
    "x = keras.layers.Dropout(0.5)(x)\n",
    "outputs = keras.layers.Dense(10, name=\"predictions\")(x)\n",
    "functional_model_with_dropout = keras.Model(\n",
    "    inputs=inputs, outputs=outputs, name=\"3_layer_mlp\"\n",
    ")\n",
    "\n",
    "functional_model_with_dropout.set_weights(functional_model.get_weights())"
   ]
  },
  {
   "cell_type": "code",
   "execution_count": 27,
   "id": "d411af49",
   "metadata": {},
   "outputs": [
    {
     "name": "stdout",
     "output_type": "stream",
     "text": [
      "WARNING:tensorflow:Please add `keras.layers.InputLayer` instead of `keras.Input` to Sequential model. `keras.Input` is intended to be used by Functional model.\n"
     ]
    },
    {
     "data": {
      "text/plain": [
       "<tensorflow.python.training.tracking.util.CheckpointLoadStatus at 0x7f7efb612790>"
      ]
     },
     "execution_count": 27,
     "metadata": {},
     "output_type": "execute_result"
    }
   ],
   "source": [
    "sequential_model = keras.Sequential(\n",
    "    [\n",
    "        keras.Input(shape=(784, ), name=\"digits\"),\n",
    "        keras.layers.Dense(64, activation=\"relu\", name=\"dense_1\"),\n",
    "        keras.layers.Dense(64, activation=\"relu\", name=\"dense_2\"),\n",
    "        keras.layers.Dense(10, name=\"predictions\"),\n",
    "    ]\n",
    ")\n",
    "\n",
    "sequential_model.save_weights(\"ckpt\")\n",
    "load_status = sequential_model.load_weights(\"ckpt\")\n",
    "\n",
    "load_status.assert_consumed()"
   ]
  },
  {
   "cell_type": "code",
   "execution_count": 29,
   "id": "e204d633",
   "metadata": {},
   "outputs": [
    {
     "data": {
      "text/plain": [
       "{'save_counter/.ATTRIBUTES/VARIABLE_VALUE': tf.int64,\n",
       " 'layer/var/.ATTRIBUTES/VARIABLE_VALUE': tf.int32,\n",
       " '_CHECKPOINTABLE_OBJECT_GRAPH': tf.string}"
      ]
     },
     "execution_count": 29,
     "metadata": {},
     "output_type": "execute_result"
    }
   ],
   "source": [
    "class CustomLayer(keras.layers.Layer):\n",
    "    def __init__(self, a):\n",
    "        self.var = tf.Variable(a, name=\"var_a\")\n",
    "\n",
    "layer = CustomLayer(5)\n",
    "layer_ckpt = tf.train.Checkpoint(layer=layer).save(\"custom_layer\")\n",
    "\n",
    "ckpt_reader = tf.train.load_checkpoint(layer_ckpt)\n",
    "\n",
    "ckpt_reader.get_variable_to_dtype_map()"
   ]
  },
  {
   "cell_type": "code",
   "execution_count": 42,
   "id": "ac91bdad",
   "metadata": {},
   "outputs": [
    {
     "name": "stdout",
     "output_type": "stream",
     "text": [
      "[<KerasTensor: shape=(None, 784) dtype=float32 (created by layer 'digits')>]\n",
      "KerasTensor(type_spec=TensorSpec(shape=(None, 64), dtype=tf.float32, name=None), name='dense_2/Relu:0', description=\"created by layer 'dense_2'\")\n",
      "Model: \"pretrainde_model\"\n",
      "_________________________________________________________________\n",
      "Layer (type)                 Output Shape              Param #   \n",
      "=================================================================\n",
      "digits (InputLayer)          [(None, 784)]             0         \n",
      "_________________________________________________________________\n",
      "dense_1 (Dense)              (None, 64)                50240     \n",
      "_________________________________________________________________\n",
      "dense_2 (Dense)              (None, 64)                4160      \n",
      "=================================================================\n",
      "Total params: 54,400\n",
      "Trainable params: 54,400\n",
      "Non-trainable params: 0\n",
      "_________________________________________________________________\n",
      "\n",
      " --------------------------------------------------\n",
      "Model: \"new_model\"\n",
      "_________________________________________________________________\n",
      "Layer (type)                 Output Shape              Param #   \n",
      "=================================================================\n",
      "digits (InputLayer)          [(None, 784)]             0         \n",
      "_________________________________________________________________\n",
      "dense_1 (Dense)              (None, 64)                50240     \n",
      "_________________________________________________________________\n",
      "dense_2 (Dense)              (None, 64)                4160      \n",
      "_________________________________________________________________\n",
      "predictions (Dense)          (None, 5)                 325       \n",
      "=================================================================\n",
      "Total params: 54,725\n",
      "Trainable params: 54,725\n",
      "Non-trainable params: 0\n",
      "_________________________________________________________________\n",
      "Model: \"sequential_10\"\n",
      "_________________________________________________________________\n",
      "Layer (type)                 Output Shape              Param #   \n",
      "=================================================================\n",
      "pretrained (Functional)      (None, 64)                54400     \n",
      "_________________________________________________________________\n",
      "predictions (Dense)          (None, 5)                 325       \n",
      "=================================================================\n",
      "Total params: 54,725\n",
      "Trainable params: 54,725\n",
      "Non-trainable params: 0\n",
      "_________________________________________________________________\n"
     ]
    },
    {
     "data": {
      "text/plain": [
       "<tensorflow.python.training.tracking.util.CheckpointLoadStatus at 0x7f7efc41ac10>"
      ]
     },
     "execution_count": 42,
     "metadata": {},
     "output_type": "execute_result"
    }
   ],
   "source": [
    "# 전체 아키텍쳐에서 output은 따로임.\n",
    "\n",
    "inputs = keras.Input(shape=(784,), name=\"digits\")\n",
    "x = keras.layers.Dense(64, activation=\"relu\", name=\"dense_1\")(inputs)\n",
    "x = keras.layers.Dense(64, activation=\"relu\", name=\"dense_2\")(x)\n",
    "outputs = keras.layers.Dense(10, name=\"predictions\")(x)\n",
    "functional_model = keras.Model(inputs=inputs, outputs=outputs, name=\"3_layer_mlp\")\n",
    "\n",
    "pretrained = keras.Model(\n",
    "    functional_model.inputs, functional_model.layers[-1].input, name=\"pretrainde_model\"\n",
    ")\n",
    "\n",
    "print(functional_model.inputs)\n",
    "print(functional_model.layers[-1].input)\n",
    "\n",
    "for w in pretrained.weights:\n",
    "    w.assign(tf.random.normal(w.shape))\n",
    "pretrained.save_weights(\"pretrained_ckpt\")\n",
    "pretrained.summary()\n",
    "\n",
    "inputs = keras.Input(shape=(784, ), name=\"digits\")\n",
    "x = keras.layers.Dense(64, activation=\"relu\", name=\"dense_1\")(inputs)\n",
    "x = keras.layers.Dense(64, activation=\"relu\", name=\"dense_2\")(x)\n",
    "outputs = keras.layers.Dense(5, name=\"predictions\")(x)\n",
    "model = keras.Model(inputs=inputs, outputs=outputs, name=\"new_model\")\n",
    "\n",
    "model.load_weights(\"pretrained_ckpt\")\n",
    "\n",
    "for a, b in zip(pretrained.weights, model.weights):\n",
    "    np.testing.assert_allclose(a.numpy(), b.numpy())\n",
    "    \n",
    "print(\"\\n\", \"-\" * 50)\n",
    "model.summary()\n",
    "\n",
    "inputs = keras.Input(shape=(784,), name='digits')\n",
    "x = keras.layers.Dense(64, activation=\"relu\", name='dense_1')(inputs)\n",
    "x = keras.layers.Dense(64, activation=\"relu\", name=\"dense_2\")(x)\n",
    "pretrained_model = keras.Model(inputs=inputs, outputs=x, name=\"pretrained\")\n",
    "\n",
    "model = keras.Sequential([pretrained_model, keras.layers.Dense(5, name=\"predictions\")])\n",
    "model.summary()\n",
    "\n",
    "pretrained_model.load_weights(\"pretrained_ckpt\")"
   ]
  },
  {
   "cell_type": "code",
   "execution_count": 45,
   "id": "4892ec22",
   "metadata": {},
   "outputs": [
    {
     "data": {
      "text/plain": [
       "<tensorflow.python.training.tracking.util.CheckpointLoadStatus at 0x7f7f19580220>"
      ]
     },
     "execution_count": 45,
     "metadata": {},
     "output_type": "execute_result"
    }
   ],
   "source": [
    "first_dense = functional_model.layers[1]\n",
    "last_dense = functional_model.layers[-1]\n",
    "ckpt_path = tf.train.Checkpoint(\n",
    "    dense=first_dense, kernel=last_dense.kernel, bias=last_dense.bias\n",
    ").save(\"ckpt\")\n",
    "\n",
    "class ContrivedModel(keras.Model):\n",
    "    def __init__(self):\n",
    "        super(ContrivedModel, self).__init__()\n",
    "        self.first_dense = keras.layers.Dense(64)\n",
    "        self.kernel = self.add_variable(\"kernel\", shape=(64, 10))\n",
    "        self.bias = self.add_variable(\"bias\", shape=(10, ))\n",
    "    \n",
    "    def call(self, inputs):\n",
    "        x = self.first_dense(inputs)\n",
    "        return tf.matmul(x, self.kernel) + self.bias\n",
    "\n",
    "model = ContrivedModel()\n",
    "_ = model(tf.ones((1, 784)))\n",
    "\n",
    "tf.train.Checkpoint(\n",
    "    dense=model.first_dense, kernel=model.kernel, bias=model.bias\n",
    ").restore(ckpt_path).assert_consumed()"
   ]
  },
  {
   "cell_type": "code",
   "execution_count": 46,
   "id": "f0ccfa18",
   "metadata": {},
   "outputs": [
    {
     "name": "stdout",
     "output_type": "stream",
     "text": [
      "WARNING:tensorflow:Please add `keras.layers.InputLayer` instead of `keras.Input` to Sequential model. `keras.Input` is intended to be used by Functional model.\n"
     ]
    }
   ],
   "source": [
    "sequential_model = keras.Sequential(\n",
    "    [\n",
    "        keras.Input(shape=(784, ), name=\"digits\"),\n",
    "        keras.layers.Dense(64, activation=\"relu\", name=\"dense_1\"),\n",
    "        keras.layers.Dense(64, activation=\"relu\", name=\"dense_2\"),\n",
    "        keras.layers.Dense(10, name=\"predictions\"),\n",
    "    ]\n",
    ")\n",
    "sequential_model.save_weights(\"weights.h5\")\n",
    "sequential_model.load_weights(\"weights.h5\")"
   ]
  },
  {
   "cell_type": "code",
   "execution_count": 47,
   "id": "c70507de",
   "metadata": {},
   "outputs": [
    {
     "name": "stdout",
     "output_type": "stream",
     "text": [
      "WARNING:tensorflow:Please add `keras.layers.InputLayer` instead of `keras.Input` to Sequential model. `keras.Input` is intended to be used by Functional model.\n",
      "variables: ['nested/dense_1/kernel:0', 'nested/dense_1/bias:0', 'nested/dense_2/kernel:0', 'nested/dense_2/bias:0']\n",
      "\n",
      "Changing trainable status of one of the nested layers...\n",
      "\n",
      "variables: ['nested/dense_2/kernel:0', 'nested/dense_2/bias:0', 'nested/dense_1/kernel:0', 'nested/dense_1/bias:0']\n",
      "variable ordering changed: True\n"
     ]
    }
   ],
   "source": [
    "class NestedDenseLayer(keras.layers.Layer):\n",
    "    def __init__(self, units, name=None):\n",
    "        super(NestedDenseLayer, self).__init__(name=name)\n",
    "        self.dense_1 = keras.layers.Dense(units, name=\"dense_1\")\n",
    "        self.dense_2 = keras.layers.Dense(units, name=\"dense_2\") \n",
    "    \n",
    "    def call(self, inputs):\n",
    "        return self.dense_2(self.dense_1(inputs))\n",
    "    \n",
    "nested_model = keras.Sequential([keras.Input((784, )), NestedDenseLayer(10, \"nested\")])\n",
    "variable_names = [v.name for v in nested_model.weights]\n",
    "print(\"variables: {}\".format(variable_names))\n",
    "\n",
    "print(\"\\nChanging trainable status of one of the nested layers...\")\n",
    "nested_model.get_layer(\"nested\").dense_1.trainable=False\n",
    "\n",
    "variable_names_2 = [v.name for v in nested_model.weights]\n",
    "print(\"\\nvariables: {}\".format(variable_names_2))\n",
    "print(\"variable ordering changed:\", variable_names != variable_names_2)"
   ]
  },
  {
   "cell_type": "code",
   "execution_count": 51,
   "id": "d6279911",
   "metadata": {},
   "outputs": [
    {
     "name": "stdout",
     "output_type": "stream",
     "text": [
      "Model: \"sequential_13\"\n",
      "_________________________________________________________________\n",
      "Layer (type)                 Output Shape              Param #   \n",
      "=================================================================\n",
      "dense_1 (Dense)              (None, 64)                50240     \n",
      "_________________________________________________________________\n",
      "dense_2 (Dense)              (None, 64)                4160      \n",
      "_________________________________________________________________\n",
      "dense_3 (Dense)              (None, 5)                 325       \n",
      "=================================================================\n",
      "Total params: 54,725\n",
      "Trainable params: 54,725\n",
      "Non-trainable params: 0\n",
      "_________________________________________________________________\n"
     ]
    }
   ],
   "source": [
    "def create_functional_model():\n",
    "    inputs = keras.Input(shape=(784,), name=\"digits\")\n",
    "    x = keras.layers.Dense(64, activation=\"relu\", name=\"dense_1\")(inputs)\n",
    "    x = keras.layers.Dense(64, activation=\"relu\", name=\"dense_2\")(x)\n",
    "    outputs = keras.layers.Dense(10, name=\"predictions\")(x)\n",
    "    return keras.Model(inputs=inputs, outputs=outputs, name=\"3_layer_mlp\")\n",
    "\n",
    "functional_model = create_functional_model()\n",
    "functional_model.save_weights(\"pretrained_weights.h5\")\n",
    "\n",
    "pretrained_model = create_functional_model()\n",
    "pretrained_model.load_weights(\"pretrained_weights.h5\")\n",
    "\n",
    "extracted_layers = pretrained_model.layers[:-1]\n",
    "extracted_layers.append(keras.layers.Dense(5, name=\"dense_3\"))\n",
    "model = keras.Sequential(extracted_layers)\n",
    "model.summary()\n"
   ]
  },
  {
   "cell_type": "code",
   "execution_count": null,
   "id": "7e0c0a29",
   "metadata": {},
   "outputs": [],
   "source": []
  }
 ],
 "metadata": {
  "kernelspec": {
   "display_name": "PyCharm (Study)",
   "language": "python",
   "name": "pycharm-2419e99e"
  },
  "language_info": {
   "codemirror_mode": {
    "name": "ipython",
    "version": 3
   },
   "file_extension": ".py",
   "mimetype": "text/x-python",
   "name": "python",
   "nbconvert_exporter": "python",
   "pygments_lexer": "ipython3",
   "version": "3.8.2"
  }
 },
 "nbformat": 4,
 "nbformat_minor": 5
}
