{
 "cells": [
  {
   "cell_type": "code",
   "execution_count": 1,
   "id": "06b7a436",
   "metadata": {},
   "outputs": [],
   "source": [
    "%load_ext tensorboard"
   ]
  },
  {
   "cell_type": "code",
   "execution_count": 2,
   "id": "26bab112",
   "metadata": {},
   "outputs": [],
   "source": [
    "import tensorflow as tf\n",
    "import datetime"
   ]
  },
  {
   "cell_type": "code",
   "execution_count": 3,
   "id": "43615209",
   "metadata": {},
   "outputs": [],
   "source": [
    "rm -rf ./log/"
   ]
  },
  {
   "cell_type": "code",
   "execution_count": 4,
   "id": "060cfbc7",
   "metadata": {},
   "outputs": [],
   "source": [
    "mnist = tf.keras.datasets.mnist\n",
    "\n",
    "(train, train_label), (test, test_label) = mnist.load_data()\n",
    "train, test = train / 255.0, test / 255.0\n",
    "\n",
    "def create_model():\n",
    "    return tf.keras.models.Sequential([\n",
    "        tf.keras.layers.Flatten(input_shape=(28, 28)),\n",
    "        tf.keras.layers.Dense(512, activation=\"relu\"),\n",
    "        tf.keras.layers.Dropout(0.2),\n",
    "        tf.keras.layers.Dense(10, activation=\"softmax\")\n",
    "    ])"
   ]
  },
  {
   "cell_type": "code",
   "execution_count": 5,
   "id": "a425be0e",
   "metadata": {},
   "outputs": [
    {
     "name": "stdout",
     "output_type": "stream",
     "text": [
      "Epoch 1/5\n",
      "1875/1875 [==============================] - 4s 2ms/step - loss: 0.2188 - acc: 0.9353 - val_loss: 0.0988 - val_acc: 0.9701\n",
      "Epoch 2/5\n",
      "1875/1875 [==============================] - 4s 2ms/step - loss: 0.0953 - acc: 0.9707 - val_loss: 0.0798 - val_acc: 0.9756\n",
      "Epoch 3/5\n",
      "1875/1875 [==============================] - 3s 2ms/step - loss: 0.0701 - acc: 0.9777 - val_loss: 0.0654 - val_acc: 0.9795\n",
      "Epoch 4/5\n",
      "1875/1875 [==============================] - 4s 2ms/step - loss: 0.0541 - acc: 0.9827 - val_loss: 0.0732 - val_acc: 0.9768\n",
      "Epoch 5/5\n",
      "1875/1875 [==============================] - 4s 2ms/step - loss: 0.0444 - acc: 0.9849 - val_loss: 0.0781 - val_acc: 0.9772\n"
     ]
    },
    {
     "data": {
      "text/plain": [
       "<tensorflow.python.keras.callbacks.History at 0x7fa917ca1af0>"
      ]
     },
     "execution_count": 5,
     "metadata": {},
     "output_type": "execute_result"
    }
   ],
   "source": [
    "model = create_model()\n",
    "model.compile(optimizer=\"adam\",\n",
    "             loss=\"sparse_categorical_crossentropy\",\n",
    "             metrics=['acc'])\n",
    "\n",
    "log_dir = \"logs/fit/\" + datetime.datetime.now().strftime(\"%Y%m%d-%H%M%S\")\n",
    "tensorboard_callback = tf.keras.callbacks.TensorBoard(log_dir=log_dir, histogram_freq=1)\n",
    "\n",
    "model.fit(x=train,\n",
    "         y=train_label,\n",
    "         epochs=5,\n",
    "         validation_data=(test, test_label),\n",
    "         callbacks=[tensorboard_callback])"
   ]
  },
  {
   "cell_type": "code",
   "execution_count": 6,
   "id": "512511a9",
   "metadata": {},
   "outputs": [
    {
     "data": {
      "text/html": [
       "\n",
       "      <iframe id=\"tensorboard-frame-7f4111a6492516c9\" width=\"100%\" height=\"800\" frameborder=\"0\">\n",
       "      </iframe>\n",
       "      <script>\n",
       "        (function() {\n",
       "          const frame = document.getElementById(\"tensorboard-frame-7f4111a6492516c9\");\n",
       "          const url = new URL(\"/\", window.location);\n",
       "          const port = 6006;\n",
       "          if (port) {\n",
       "            url.port = port;\n",
       "          }\n",
       "          frame.src = url;\n",
       "        })();\n",
       "      </script>\n",
       "    "
      ],
      "text/plain": [
       "<IPython.core.display.HTML object>"
      ]
     },
     "metadata": {},
     "output_type": "display_data"
    }
   ],
   "source": [
    "%tensorboard --logdir logs/fit"
   ]
  },
  {
   "cell_type": "markdown",
   "id": "5308d460",
   "metadata": {},
   "source": [
    "# 다른 방법으로 텐서 보드 사용하기"
   ]
  },
  {
   "cell_type": "code",
   "execution_count": 7,
   "id": "92ab04d0",
   "metadata": {},
   "outputs": [],
   "source": [
    "train_dataset = tf.data.Dataset.from_tensor_slices((train, train_label))\n",
    "test_dataset = tf.data.Dataset.from_tensor_slices((test, test_label))\n",
    "\n",
    "train_dataset = train_dataset.shuffle(60000).batch(64)\n",
    "test_dataset = test_dataset.batch(64)"
   ]
  },
  {
   "cell_type": "code",
   "execution_count": 8,
   "id": "d0bc814c",
   "metadata": {},
   "outputs": [],
   "source": [
    "loss_object = tf.keras.losses.SparseCategoricalCrossentropy()\n",
    "optimizer = tf.keras.optimizers.Adam()"
   ]
  },
  {
   "cell_type": "code",
   "execution_count": 9,
   "id": "f65fa5e2",
   "metadata": {},
   "outputs": [],
   "source": [
    "train_loss = tf.keras.metrics.Mean(\"train_loss\", dtype=tf.float32)\n",
    "train_accuracy = tf.keras.metrics.SparseCategoricalAccuracy(\"train_accuracy\")\n",
    "test_loss = tf.keras.metrics.Mean(\"test_loss\", dtype=tf.float32)\n",
    "test_accuracy = tf.keras.metrics.SparseCategoricalAccuracy(\"test_accurcay\")"
   ]
  },
  {
   "cell_type": "code",
   "execution_count": 10,
   "id": "6778021b",
   "metadata": {},
   "outputs": [],
   "source": [
    "def train_step(model, optimizer, train, train_label):\n",
    "    with tf.GradientTape() as tape:\n",
    "        predictions = model(train, training=True)\n",
    "        loss = loss_object(train_label, predictions)\n",
    "    grads = tape.gradient(loss, model.trainable_variables)\n",
    "    optimizer.apply_gradients(zip(grads, model.trainable_variables))\n",
    "    \n",
    "    train_loss(loss)\n",
    "    train_accuracy(train_label, predictions)\n",
    "    \n",
    "def test_step(model, test, test_label):\n",
    "    predictions = model(test)\n",
    "    loss = loss_object(test_label, predictions)\n",
    "    \n",
    "    test_loss(loss)\n",
    "    test_accuracy(test_label, predictions)"
   ]
  },
  {
   "cell_type": "code",
   "execution_count": 11,
   "id": "2a490d77",
   "metadata": {},
   "outputs": [],
   "source": [
    "current_time = datetime.datetime.now().strftime(\"%Y%m%d-%H%M%S\")\n",
    "train_log_dir = \"logs/gradient_tape/\" + current_time + \"/train\"\n",
    "test_log_dir = \"logs/gradient_tape/\" + current_time + \"/test\"\n",
    "train_summary_writer = tf.summary.create_file_writer(train_log_dir)\n",
    "test_summary_writer = tf.summary.create_file_writer(test_log_dir)"
   ]
  },
  {
   "cell_type": "code",
   "execution_count": 12,
   "id": "2f4adc27",
   "metadata": {},
   "outputs": [
    {
     "name": "stdout",
     "output_type": "stream",
     "text": [
      "Epoch 1, Loss: 0.24856920540332794, Accuracy: 92.75166320800781, Test Loss: 0.12042733281850815, Test Accuracy: 96.29000091552734\n",
      "Epoch 2, Loss: 0.10552313178777695, Accuracy: 96.81999969482422, Test Loss: 0.08581424504518509, Test Accuracy: 97.53999328613281\n",
      "Epoch 3, Loss: 0.07286021113395691, Accuracy: 97.79499816894531, Test Loss: 0.07056759297847748, Test Accuracy: 97.75999450683594\n",
      "Epoch 4, Loss: 0.055525217205286026, Accuracy: 98.29166412353516, Test Loss: 0.06444180756807327, Test Accuracy: 97.90999603271484\n",
      "Epoch 5, Loss: 0.04488527402281761, Accuracy: 98.61833190917969, Test Loss: 0.06335631757974625, Test Accuracy: 97.83999633789062\n"
     ]
    }
   ],
   "source": [
    "model = create_model()\n",
    "\n",
    "EPOCHS = 5\n",
    "\n",
    "for epoch in range(EPOCHS):\n",
    "    for (train, train_label) in train_dataset:\n",
    "        train_step(model, optimizer, train, train_label)\n",
    "    with train_summary_writer.as_default():\n",
    "        tf.summary.scalar(\"loss\", train_loss.result(), step=epoch)\n",
    "        tf.summary.scalar(\"accuracy\", test_accuracy.result(), step=epoch)\n",
    "    \n",
    "    for (test, test_label) in test_dataset:\n",
    "        test_step(model, test, test_label)\n",
    "    with train_summary_writer.as_default():\n",
    "        tf.summary.scalar(\"loss\", test_loss.result(), step=epoch)\n",
    "        tf.summary.scalar(\"accuracy\", test_accuracy.result(), step=epoch)\n",
    "        \n",
    "    template = 'Epoch {}, Loss: {}, Accuracy: {}, Test Loss: {}, Test Accuracy: {}'\n",
    "    print(template.format(epoch+1,\n",
    "                         train_loss.result(), \n",
    "                         train_accuracy.result()*100,\n",
    "                         test_loss.result(), \n",
    "                         test_accuracy.result()*100))\n",
    "    \n",
    "    train_loss.reset_states()\n",
    "    test_loss.reset_states()\n",
    "    train_accuracy.reset_states()\n",
    "    test_accuracy.reset_states()"
   ]
  },
  {
   "cell_type": "code",
   "execution_count": 13,
   "id": "dfaaac48",
   "metadata": {},
   "outputs": [
    {
     "data": {
      "text/html": [
       "\n",
       "      <iframe id=\"tensorboard-frame-a0afe5ec09077073\" width=\"100%\" height=\"800\" frameborder=\"0\">\n",
       "      </iframe>\n",
       "      <script>\n",
       "        (function() {\n",
       "          const frame = document.getElementById(\"tensorboard-frame-a0afe5ec09077073\");\n",
       "          const url = new URL(\"/\", window.location);\n",
       "          const port = 6007;\n",
       "          if (port) {\n",
       "            url.port = port;\n",
       "          }\n",
       "          frame.src = url;\n",
       "        })();\n",
       "      </script>\n",
       "    "
      ],
      "text/plain": [
       "<IPython.core.display.HTML object>"
      ]
     },
     "metadata": {},
     "output_type": "display_data"
    }
   ],
   "source": [
    "%tensorboard --logdir logs/gradient_tape"
   ]
  },
  {
   "cell_type": "code",
   "execution_count": null,
   "id": "ce817644",
   "metadata": {},
   "outputs": [],
   "source": []
  }
 ],
 "metadata": {
  "kernelspec": {
   "display_name": "PyCharm (Study)",
   "language": "python",
   "name": "pycharm-2419e99e"
  },
  "language_info": {
   "codemirror_mode": {
    "name": "ipython",
    "version": 3
   },
   "file_extension": ".py",
   "mimetype": "text/x-python",
   "name": "python",
   "nbconvert_exporter": "python",
   "pygments_lexer": "ipython3",
   "version": "3.8.2"
  }
 },
 "nbformat": 4,
 "nbformat_minor": 5
}
